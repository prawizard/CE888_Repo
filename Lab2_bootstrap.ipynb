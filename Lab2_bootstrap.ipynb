{
  "nbformat": 4,
  "nbformat_minor": 0,
  "metadata": {
    "colab": {
      "name": "bootstrap.ipynb",
      "provenance": [],
      "include_colab_link": true
    },
    "kernelspec": {
      "display_name": "Python 3",
      "language": "python",
      "name": "python3"
    },
    "language_info": {
      "codemirror_mode": {
        "name": "ipython",
        "version": 3
      },
      "file_extension": ".py",
      "mimetype": "text/x-python",
      "name": "python",
      "nbconvert_exporter": "python",
      "pygments_lexer": "ipython3",
      "version": "3.7.6"
    },
    "pycharm": {
      "stem_cell": {
        "cell_type": "raw",
        "metadata": {
          "collapsed": false
        },
        "source": []
      }
    }
  },
  "cells": [
    {
      "cell_type": "markdown",
      "metadata": {
        "id": "view-in-github",
        "colab_type": "text"
      },
      "source": [
        "<a href=\"https://colab.research.google.com/github/prawizard/CE888_Repo/blob/main/Lab2_bootstrap.ipynb\" target=\"_parent\"><img src=\"https://colab.research.google.com/assets/colab-badge.svg\" alt=\"Open In Colab\"/></a>"
      ]
    },
    {
      "cell_type": "markdown",
      "metadata": {
        "id": "nCi_99yMYIb1"
      },
      "source": [
        "In this notebook you'll create your own bootstrap function following the bootstrap algorithm (check the lecture notes!)"
      ]
    },
    {
      "cell_type": "code",
      "metadata": {
        "id": "LY5zujI2YC37",
        "pycharm": {
          "name": "#%%# Imports\n"
        }
      },
      "source": [
        "import matplotlib\n",
        "import pandas as pd\n",
        "import seaborn as sns\n",
        "import numpy as np\n",
        "\n"
      ],
      "execution_count": null,
      "outputs": []
    },
    {
      "cell_type": "code",
      "metadata": {
        "id": "Eqkwj4SMY38t"
      },
      "source": [
        "# Load the data\n",
        "df = pd.read_csv('https://raw.githubusercontent.com/albanda/CE888/master/lab2%20-%20bootstrap/customers.csv')\n",
        "data = df.values.T[1]"
      ],
      "execution_count": null,
      "outputs": []
    },
    {
      "cell_type": "code",
      "metadata": {
        "id": "Gxvc_bScYC4H",
        "pycharm": {
          "name": "#%%\n"
        }
      },
      "source": [
        "# Checking the notes from the lecture, create here your own bootstrap function:\n",
        "# 1. Sample from the input array x to create an array of samples of shape (n_bootstraps, sample_size)\n",
        "# Hint: Check the function random.choice() on Numpy\n",
        "# 2. Calculate and save the mean of the array (this is \"data_mean\" that is returned by the function)\n",
        "# 3. Calculate the mean from each bootstrap (i.e., row) and store it.\n",
        "# (This should be an array of n_bootstraps values)\n",
        "# 4. Calculate the lower and upper bounds for a 95% CI (hint: check the percentile function on Numpy)\n",
        "# 5. Return data_mean, and the lower and upper bounds of your interval\n",
        "def bootstrap_mean(x, sample_size, n_bootstraps):\n",
        "\t# <---INSERT YOUR CODE HERE--->\n",
        "  samples=np.random.choice(a=x, size=(n_bootstraps,sample_size),replace=True)\n",
        "  means_rows=np.sum(a=samples, axis=1)/samples.shape[1]\n",
        "  data_mean=np.sum(means_rows)/samples.shape[0]\n",
        "  # means_rows=np.sort(means_rows)\n",
        "  lower=np.percentile(means_rows,q=2.5)\n",
        "  upper=np.percentile(means_rows,q=97.5)\n",
        "  return data_mean, lower, upper\n"
      ],
      "execution_count": null,
      "outputs": []
    },
    {
      "cell_type": "code",
      "metadata": {
        "id": "AN7sEOcMYC4P",
        "pycharm": {
          "name": "#%%\n"
        },
        "colab": {
          "base_uri": "https://localhost:8080/",
          "height": 454
        },
        "outputId": "5ea3f129-aeea-42da-e948-3d10286cc3ac"
      },
      "source": [
        "# Call your bootstrap function and plot the results\n",
        "\n",
        "boots = []\n",
        "for i in range(100, 50000, 1000):\n",
        "    boot = bootstrap_mean(data, data.shape[0], i)\n",
        "    boots.append([i, boot[0], \"mean\"])\n",
        "    boots.append([i, boot[1], \"lower\"])\n",
        "    boots.append([i, boot[2], \"upper\"])\n",
        "\n",
        "df_boot = pd.DataFrame(boots, columns=['Bootstrap Iterations', 'Mean', \"Value\"])\n",
        "sns_plot = sns.lmplot(df_boot.columns[0], df_boot.columns[1], data=df_boot, fit_reg=False, hue=\"Value\")\n",
        "\n",
        "sns_plot.axes[0, 0].set_ylim(0,)\n",
        "sns_plot.axes[0, 0].set_xlim(0, 50000)\n"
      ],
      "execution_count": null,
      "outputs": [
        {
          "output_type": "stream",
          "text": [
            "/usr/local/lib/python3.6/dist-packages/seaborn/_decorators.py:43: FutureWarning: Pass the following variables as keyword args: x, y. From version 0.12, the only valid positional argument will be `data`, and passing other arguments without an explicit keyword will result in an error or misinterpretation.\n",
            "  FutureWarning\n"
          ],
          "name": "stderr"
        },
        {
          "output_type": "execute_result",
          "data": {
            "text/plain": [
              "(0.0, 50000.0)"
            ]
          },
          "metadata": {
            "tags": []
          },
          "execution_count": 235
        },
        {
          "output_type": "display_data",
          "data": {
            "image/png": "[encoded data removed]",
            "text/plain": [
              "<Figure size 425.125x360 with 1 Axes>"
            ]
          },
          "metadata": {
            "tags": [],
            "needs_background": "light"
          }
        }
      ]
    },
    {
      "cell_type": "markdown",
      "metadata": {
        "id": "MjtP4e2_YC4V"
      },
      "source": [
        "\n",
        "Now, modify the bootstrap function you created above so that you can pass your desired confidence interval as a parameter.\n",
        "\n"
      ]
    },
    {
      "cell_type": "code",
      "metadata": {
        "id": "3K9j0FuGYhHs"
      },
      "source": [
        "def bootstrap_mean_ci(sample, sample_size, n_bootstraps, ci):\n",
        "\t# <---INSERT YOUR CODE HERE--->\n",
        "  samples=np.random.choice(a=sample, size=(n_bootstraps,sample_size),replace=True)\n",
        "  means_rows=np.sum(a=samples, axis=1)/samples.shape[1]\n",
        "  data_mean=np.sum(means_rows)/samples.shape[0]\n",
        "  # means_rows=np.sort(means_rows)\n",
        "  lower=np.percentile(means_rows,q=(100-ci)/2)\n",
        "  upper=np.percentile(means_rows,q=(100+ci)/2)\n",
        "  return data_mean, lower, upper"
      ],
      "execution_count": null,
      "outputs": []
    },
    {
      "cell_type": "code",
      "metadata": {
        "id": "6pE4C09veCQN"
      },
      "source": [
        "def bootstrap_std_ci(sample, sample_size, n_bootstraps, ci):\r\n",
        "\t# <---INSERT YOUR CODE HERE--->\r\n",
        "  samples=np.random.choice(a=sample, size=(n_bootstraps,sample_size),replace=True)\r\n",
        "  std_rows=np.std(a=samples, axis=1)\r\n",
        "  data_std=np.sum(std_rows)/samples.shape[0]\r\n",
        "  lower=np.percentile(std_rows,q=(100-ci)/2)\r\n",
        "  upper=np.percentile(std_rows,q=(100+ci)/2)\r\n",
        "  return data_std, lower, upper"
      ],
      "execution_count": null,
      "outputs": []
    },
    {
      "cell_type": "code",
      "metadata": {
        "id": "uDnjq08GYl-C",
        "colab": {
          "base_uri": "https://localhost:8080/",
          "height": 454
        },
        "outputId": "987f8f34-e7c7-4ee6-a76d-a12d458bf31f"
      },
      "source": [
        "boots = []\n",
        "for i in range(100, 50000, 1000):\n",
        "    boot = bootstrap_mean_ci(data, data.shape[0], i, 80)\n",
        "    boots.append([i, boot[0], \"mean\"])\n",
        "    boots.append([i, boot[1], \"lower\"])\n",
        "    boots.append([i, boot[2], \"upper\"])\n",
        "\n",
        "df_boot = pd.DataFrame(boots, columns=['Boostrap Iterations', 'Mean', \"Value\"])\n",
        "sns_plot = sns.lmplot(df_boot.columns[0], df_boot.columns[1], data=df_boot, fit_reg=False, hue=\"Value\")\n",
        "\n",
        "sns_plot.axes[0, 0].set_ylim(0,)\n",
        "sns_plot.axes[0, 0].set_xlim(0, 50000)\n",
        "\n",
        "#sns_plot.savefig(\"bootstrap_confidence_80.pdf\", bbox_inches='tight')\n"
      ],
      "execution_count": null,
      "outputs": [
        {
          "output_type": "stream",
          "text": [
            "/usr/local/lib/python3.6/dist-packages/seaborn/_decorators.py:43: FutureWarning: Pass the following variables as keyword args: x, y. From version 0.12, the only valid positional argument will be `data`, and passing other arguments without an explicit keyword will result in an error or misinterpretation.\n",
            "  FutureWarning\n"
          ],
          "name": "stderr"
        },
        {
          "output_type": "execute_result",
          "data": {
            "text/plain": [
              "(0.0, 50000.0)"
            ]
          },
          "metadata": {
            "tags": []
          },
          "execution_count": 238
        },
        {
          "output_type": "display_data",
          "data": {
            "image/png": "[encoded data removed]",
            "text/plain": [
              "<Figure size 425.125x360 with 1 Axes>"
            ]
          },
          "metadata": {
            "tags": [],
            "needs_background": "light"
          }
        }
      ]
    },
    {
      "cell_type": "markdown",
      "metadata": {
        "id": "qjNgXW6wdd7r"
      },
      "source": [
        "# Vehicles dataset\n",
        "\n",
        "Now let's work on a different dataset, which is stored in the vehicles.csv file.\n"
      ]
    },
    {
      "cell_type": "code",
      "metadata": {
        "id": "avWv4ipFdpka",
        "colab": {
          "base_uri": "https://localhost:8080/",
          "height": 297
        },
        "outputId": "f3f3172a-9b49-43cc-c713-c6d74a24baaa"
      },
      "source": [
        "# Load and visualise the vehicles dataset\n",
        "# To load the dataset: https://neptune.ai/blog/google-colab-dealing-with-files (check section \"Load individual files directly from GitHub\")\n",
        "\n",
        "\n",
        "# Note that the current and new fleets are in different columns and have different lengths, so bear this in mind when you're plotting.\n",
        "# You can create separate scatterplots for the two fleets, as you would with the histograms, \n",
        "# or plot them both in one plot (but not one against the other).\n",
        "# <---INSERT YOUR CODE HERE--->\n",
        "df = pd.read_csv('https://raw.githubusercontent.com/albanda/CE888/master/lab2%20-%20bootstrap/vehicles.csv')\n",
        "currentFleet = df.values.T[1]\n",
        "newFleet = df.values.T[0]\n",
        "# curr_id=np.linspace(0,250,)\n",
        "# sns.distplot(newFleet, bins=20,kde=False, rug=True)\n",
        "# sns.distplot(currentFleet, bins=20,kde=False, rug=True)\n",
        "df.insert(1,\"currArr\", range(1,250), allow_duplicates=True)\n",
        "sns.scatterplot(data=df, y=\"Current fleet\", x=\"currArr\")\n",
        "# df\n",
        "# Note: you can add more cells as needed to organise your code and your plots"
      ],
      "execution_count": null,
      "outputs": [
        {
          "output_type": "execute_result",
          "data": {
            "text/plain": [
              "<matplotlib.axes._subplots.AxesSubplot at 0x7f55cbdea0f0>"
            ]
          },
          "metadata": {
            "tags": []
          },
          "execution_count": 239
        },
        {
          "output_type": "display_data",
          "data": {
            "image/png": "[encoded data removed]",
            "text/plain": [
              "<Figure size 432x288 with 1 Axes>"
            ]
          },
          "metadata": {
            "tags": [],
            "needs_background": "light"
          }
        }
      ]
    },
    {
      "cell_type": "code",
      "metadata": {
        "colab": {
          "base_uri": "https://localhost:8080/",
          "height": 296
        },
        "id": "8xPvfWSe7QZ9",
        "outputId": "ebbf8e5f-673b-41c1-c811-4dd909ae88b9"
      },
      "source": [
        "df.insert(3,\"newArr\", range(1,250), allow_duplicates=False)\r\n",
        "sns.scatterplot(data=df, y=\"New Fleet\", x=\"newArr\")\r\n"
      ],
      "execution_count": null,
      "outputs": [
        {
          "output_type": "execute_result",
          "data": {
            "text/plain": [
              "<matplotlib.axes._subplots.AxesSubplot at 0x7f55cdbd8eb8>"
            ]
          },
          "metadata": {
            "tags": []
          },
          "execution_count": 240
        },
        {
          "output_type": "display_data",
          "data": {
            "image/png": "[encoded data removed]",
            "text/plain": [
              "<Figure size 432x288 with 1 Axes>"
            ]
          },
          "metadata": {
            "tags": [],
            "needs_background": "light"
          }
        }
      ]
    },
    {
      "cell_type": "code",
      "metadata": {
        "colab": {
          "base_uri": "https://localhost:8080/",
          "height": 402
        },
        "id": "MbGzfERj-RCU",
        "outputId": "6fbe8310-0edf-4f41-adb7-6694438762bd"
      },
      "source": [
        "df"
      ],
      "execution_count": null,
      "outputs": [
        {
          "output_type": "execute_result",
          "data": {
            "text/html": [
              "<div>\n",
              "<style scoped>\n",
              "    .dataframe tbody tr th:only-of-type {\n",
              "        vertical-align: middle;\n",
              "    }\n",
              "\n",
              "    .dataframe tbody tr th {\n",
              "        vertical-align: top;\n",
              "    }\n",
              "\n",
              "    .dataframe thead th {\n",
              "        text-align: right;\n",
              "    }\n",
              "</style>\n",
              "<table border=\"1\" class=\"dataframe\">\n",
              "  <thead>\n",
              "    <tr style=\"text-align: right;\">\n",
              "      <th></th>\n",
              "      <th>Current fleet</th>\n",
              "      <th>currArr</th>\n",
              "      <th>New Fleet</th>\n",
              "      <th>newArr</th>\n",
              "    </tr>\n",
              "  </thead>\n",
              "  <tbody>\n",
              "    <tr>\n",
              "      <th>0</th>\n",
              "      <td>18</td>\n",
              "      <td>1</td>\n",
              "      <td>24.0</td>\n",
              "      <td>1</td>\n",
              "    </tr>\n",
              "    <tr>\n",
              "      <th>1</th>\n",
              "      <td>15</td>\n",
              "      <td>2</td>\n",
              "      <td>27.0</td>\n",
              "      <td>2</td>\n",
              "    </tr>\n",
              "    <tr>\n",
              "      <th>2</th>\n",
              "      <td>18</td>\n",
              "      <td>3</td>\n",
              "      <td>27.0</td>\n",
              "      <td>3</td>\n",
              "    </tr>\n",
              "    <tr>\n",
              "      <th>3</th>\n",
              "      <td>16</td>\n",
              "      <td>4</td>\n",
              "      <td>25.0</td>\n",
              "      <td>4</td>\n",
              "    </tr>\n",
              "    <tr>\n",
              "      <th>4</th>\n",
              "      <td>17</td>\n",
              "      <td>5</td>\n",
              "      <td>31.0</td>\n",
              "      <td>5</td>\n",
              "    </tr>\n",
              "    <tr>\n",
              "      <th>...</th>\n",
              "      <td>...</td>\n",
              "      <td>...</td>\n",
              "      <td>...</td>\n",
              "      <td>...</td>\n",
              "    </tr>\n",
              "    <tr>\n",
              "      <th>244</th>\n",
              "      <td>27</td>\n",
              "      <td>245</td>\n",
              "      <td>NaN</td>\n",
              "      <td>245</td>\n",
              "    </tr>\n",
              "    <tr>\n",
              "      <th>245</th>\n",
              "      <td>27</td>\n",
              "      <td>246</td>\n",
              "      <td>NaN</td>\n",
              "      <td>246</td>\n",
              "    </tr>\n",
              "    <tr>\n",
              "      <th>246</th>\n",
              "      <td>32</td>\n",
              "      <td>247</td>\n",
              "      <td>NaN</td>\n",
              "      <td>247</td>\n",
              "    </tr>\n",
              "    <tr>\n",
              "      <th>247</th>\n",
              "      <td>28</td>\n",
              "      <td>248</td>\n",
              "      <td>NaN</td>\n",
              "      <td>248</td>\n",
              "    </tr>\n",
              "    <tr>\n",
              "      <th>248</th>\n",
              "      <td>31</td>\n",
              "      <td>249</td>\n",
              "      <td>NaN</td>\n",
              "      <td>249</td>\n",
              "    </tr>\n",
              "  </tbody>\n",
              "</table>\n",
              "<p>249 rows × 4 columns</p>\n",
              "</div>"
            ],
            "text/plain": [
              "     Current fleet  currArr  New Fleet  newArr\n",
              "0               18        1       24.0       1\n",
              "1               15        2       27.0       2\n",
              "2               18        3       27.0       3\n",
              "3               16        4       25.0       4\n",
              "4               17        5       31.0       5\n",
              "..             ...      ...        ...     ...\n",
              "244             27      245        NaN     245\n",
              "245             27      246        NaN     246\n",
              "246             32      247        NaN     247\n",
              "247             28      248        NaN     248\n",
              "248             31      249        NaN     249\n",
              "\n",
              "[249 rows x 4 columns]"
            ]
          },
          "metadata": {
            "tags": []
          },
          "execution_count": 241
        }
      ]
    },
    {
      "cell_type": "markdown",
      "metadata": {
        "id": "B5d0tXDpIEj8"
      },
      "source": [
        "## Compare the two fleets\r\n",
        "\r\n",
        "The business analysts come up a comparison algorithm that requires the upper and lower bounds for the mean in order to say which fleet is better.\r\n",
        "1. Calculate the mean of both samples.\r\n",
        "2. Using the bootstrap function that you created:\r\n",
        "    - Construct the 95% CI of the mean of the current fleet.\r\n",
        "    - Construct the 95% CI of the mean of the new fleet.\r\n",
        "    - Are they comparable? (i.e., is one better than the other?) -- you can do this with a permutation test (check the lecture notes!)"
      ]
    },
    {
      "cell_type": "code",
      "metadata": {
        "id": "po4mp6zRHC0m",
        "colab": {
          "base_uri": "https://localhost:8080/"
        },
        "outputId": "989c6d2f-d86c-44f8-9cfc-6d0df75a631f"
      },
      "source": [
        "# <---INSERT YOUR CODE HERE--->\n",
        "currMean=np.mean(df['Current fleet'].values.T)\n",
        "newMean=np.mean(df['New Fleet'].dropna().to_numpy())\n",
        "print('Current Fleet Mean', currMean)\n",
        "\n",
        "currSample=df['Current fleet'].values.T\n",
        "newSample=df['New Fleet'].dropna().to_numpy()\n",
        "curr_data_mean, curr_lower, curr_upper = bootstrap_mean_ci(currSample, currSample.shape[0], n_bootstraps=50000, ci=95)\n",
        "\n",
        "print(curr_data_mean, curr_lower, curr_upper)\n",
        "print(\"\")\n",
        "print(\"New Fleet Mean\", newMean)\n",
        "\n",
        "new_data_mean, new_lower, new_upper = bootstrap_mean_ci(newSample, newSample.shape[0], n_bootstraps=50000, ci=95)\n",
        "print(new_data_mean, new_lower, new_upper)\n",
        "\n",
        "new_data_mean, new_lower, new_upper = bootstrap_mean_ci(newSample, newSample.shape[0], n_bootstraps=10000, ci=80)\n",
        "print(\"For 80% CI\",round(new_data_mean,2), round(new_lower,2), round(new_upper,2))\n",
        "\n",
        "curr_data_std, curr_lower, curr_upper = bootstrap_std_ci(currSample, currSample.shape[0], n_bootstraps=10000, ci=95)\n",
        "print(\"For 90% CI (STD)\",round(curr_data_std,2), round(curr_lower,2), round(curr_upper,2))\n",
        "print(np.std(currSample))"
      ],
      "execution_count": null,
      "outputs": [
        {
          "output_type": "stream",
          "text": [
            "Current Fleet Mean 20.14457831325301\n",
            "20.145963052208835 19.36144578313253 20.947791164658636\n",
            "\n",
            "New Fleet Mean 30.481012658227847\n",
            "30.48151139240506 29.139240506329113 31.82278481012658\n",
            "For 80% CI 30.48 29.61 31.34\n",
            "For 90% CI (STD) 6.38 5.81 6.95\n",
            "6.401805462179708\n"
          ],
          "name": "stdout"
        }
      ]
    },
    {
      "cell_type": "code",
      "metadata": {
        "id": "MkxvDZG4HC0n"
      },
      "source": [
        "# Create your own function for a permutation test here (you will need it for the lab quiz!):\n",
        "def permut_test(sample1, sample2, n_permutations):\n",
        "    \"\"\"\n",
        "    sample1: 1D array\n",
        "    sample2: 1D array (note that the size of the two arrays can be different)\n",
        "    n_permutations: number of permutations to calculate the p-value\n",
        "    \"\"\"\n",
        "    tobs=np.mean(sample2)-np.mean(sample1)\n",
        "    print(\"tobs = \", tobs)\n",
        "    count=0\n",
        "    for i in range(n_permutations):\n",
        "      concat=np.concatenate((sample1,sample2))\n",
        "      perm=np.random.permutation(concat)\n",
        "      p1=perm[:int(len(sample1))]\n",
        "      p2=perm[int(len(sample1)):]\n",
        "\n",
        "      tperm=np.mean(p2)-np.mean(p1)\n",
        "      # print(tperm)\n",
        "      if tperm>tobs:\n",
        "        count+=1\n",
        "\n",
        "    pvalue=count/n_permutations\n",
        "    print(count)\n",
        "    return pvalue"
      ],
      "execution_count": null,
      "outputs": []
    },
    {
      "cell_type": "code",
      "metadata": {
        "colab": {
          "base_uri": "https://localhost:8080/"
        },
        "id": "_Az31j29Pm8k",
        "outputId": "bdcade34-7421-4098-b33a-6a2c32895cf9"
      },
      "source": [
        "print(permut_test(currSample, newSample, 30000))"
      ],
      "execution_count": null,
      "outputs": [
        {
          "output_type": "stream",
          "text": [
            "tobs =  10.336434344974837\n",
            "0\n",
            "0.0\n"
          ],
          "name": "stdout"
        }
      ]
    },
    {
      "cell_type": "code",
      "metadata": {
        "colab": {
          "base_uri": "https://localhost:8080/"
        },
        "id": "xlSHlXwfQGFq",
        "outputId": "51431c54-5531-4580-e73f-318d1f32ae0a"
      },
      "source": [
        "df = pd.read_csv('https://raw.githubusercontent.com/albanda/CE888/master/lab2%20-%20bootstrap/customers.csv')\r\n",
        "data = df.values.T[1]\r\n",
        "\r\n",
        "boot = bootstrap_mean_ci(data, data.shape[0], 10000, 95)\r\n",
        "print(\"For customer data\", round(boot[0],2), round(boot[1],2), round(boot[2],2))"
      ],
      "execution_count": null,
      "outputs": [
        {
          "output_type": "stream",
          "text": [
            "For customer data 9.21 6.43 12.36\n"
          ],
          "name": "stdout"
        }
      ]
    },
    {
      "cell_type": "code",
      "metadata": {
        "id": "_4-xZUH-HkID",
        "colab": {
          "base_uri": "https://localhost:8080/"
        },
        "outputId": "6c5703b9-0360-40dc-e432-0cc25fcad7b6"
      },
      "source": [
        "boot = bootstrap_std_ci(data, data.shape[0], 10000, 90)\r\n",
        "print(\"For customer data\", round(boot[0],2), round(boot[1],2), round(boot[2],2))"
      ],
      "execution_count": null,
      "outputs": [
        {
          "output_type": "stream",
          "text": [
            "For customer data 5.34 3.0 7.11\n"
          ],
          "name": "stdout"
        }
      ]
    },
    {
      "cell_type": "code",
      "metadata": {
        "id": "oH2lG6QOHzDp",
        "colab": {
          "base_uri": "https://localhost:8080/"
        },
        "outputId": "59e01eb1-95ba-42aa-b144-8e99d0ff5537"
      },
      "source": [
        "# The variables below represent the percentages of democratic votes in Pennsylvania and Ohio (one value for each state).\r\n",
        "dem_share_PA = np.array([60.08, 40.64, 36.07, 41.21, 31.04, 43.78, 44.08, 46.85, 44.71, 46.15, 63.10, 52.20, 43.18, 40.24, 39.92, 47.87, 37.77, 40.11, 49.85, 48.61, \r\n",
        "                38.62, 54.25, 34.84, 47.75, 43.82, 55.97, 58.23, 42.97, 42.38, 36.11, 37.53, 42.65, 50.96, 47.43, 56.24, 45.60, 46.39, 35.22, 48.56, 32.97, \r\n",
        "                57.88, 36.05, 37.72, 50.36, 32.12, 41.55, 54.66, 57.81, 54.58, 32.88, 54.37, 40.45, 47.61, 60.49, 43.11, 27.32, 44.03, 33.56, 37.26, 54.64, \r\n",
        "                43.12, 25.34, 49.79, 83.56, 40.09, 60.81, 49.81])\r\n",
        "dem_share_OH = np.array([56.94, 50.46, 65.99, 45.88, 42.23, 45.26, 57.01, 53.61, 59.10, 61.48, 43.43, 44.69, 54.59, 48.36, 45.89, 48.62, 43.92, 38.23, 28.79, 63.57,\r\n",
        "                38.07, 40.18, 43.05, 41.56, 42.49, 36.06, 52.76, 46.07, 39.43, 39.26, 47.47, 27.92, 38.01, 45.45, 29.07, 28.94, 51.28, 50.10, 39.84, 36.43, \r\n",
        "                35.71, 31.47, 47.01, 40.10, 48.76, 31.56, 39.86, 45.31, 35.47, 51.38, 46.33, 48.73, 41.77, 41.32, 48.46, 53.14, 34.01, 54.74, 40.67, 38.96, \r\n",
        "                46.29, 38.25, 6.80, 31.75, 46.33, 44.90, 33.57, 38.10, 39.67, 40.47, 49.44, 37.62, 36.71, 46.73, 42.20, 53.16, 52.40, 58.36, 68.02, 38.53, \r\n",
        "                34.58, 69.64, 60.50, 53.53, 36.54, 49.58, 41.97, 38.11])\r\n",
        "\r\n",
        "print(dem_share_PA.shape, dem_share_OH.shape)"
      ],
      "execution_count": null,
      "outputs": [
        {
          "output_type": "stream",
          "text": [
            "(67,) (88,)\n"
          ],
          "name": "stdout"
        }
      ]
    },
    {
      "cell_type": "code",
      "metadata": {
        "id": "JdwHvQfLLPuw",
        "colab": {
          "base_uri": "https://localhost:8080/"
        },
        "outputId": "59cb6a17-9a85-40f3-abb6-4c7693d9b3c4"
      },
      "source": [
        "boot = bootstrap_mean_ci(dem_share_OH, dem_share_OH.shape[0], 100000, 98)\r\n",
        "print(\"For OH\", round(boot[0],2), round(boot[1],2), round(boot[2],2))\r\n",
        "print(np.mean(dem_share_OH))"
      ],
      "execution_count": null,
      "outputs": [
        {
          "output_type": "stream",
          "text": [
            "For OH 44.32 41.86 46.75\n",
            "44.31818181818182\n"
          ],
          "name": "stdout"
        }
      ]
    },
    {
      "cell_type": "code",
      "metadata": {
        "id": "2T3D-LvcM66n",
        "colab": {
          "base_uri": "https://localhost:8080/"
        },
        "outputId": "257cf597-2881-422e-9297-dec6b765816f"
      },
      "source": [
        "boot = bootstrap_mean_ci(dem_share_PA, dem_share_PA.shape[0], 100000, 98)\r\n",
        "print(\"For OH\", round(boot[0],2), round(boot[1],2), round(boot[2],2))\r\n",
        "print(np.mean(dem_share_PA))"
      ],
      "execution_count": null,
      "outputs": [
        {
          "output_type": "stream",
          "text": [
            "For OH 45.47 42.8 48.33\n",
            "45.476417910447765\n"
          ],
          "name": "stdout"
        }
      ]
    },
    {
      "cell_type": "code",
      "metadata": {
        "id": "Z4pIP1afNVWg",
        "colab": {
          "base_uri": "https://localhost:8080/"
        },
        "outputId": "f2b779fb-03a2-4ef5-a637-13b11417af6b"
      },
      "source": [
        "print(round(permut_test(dem_share_OH, dem_share_PA, 30000),3))"
      ],
      "execution_count": null,
      "outputs": [
        {
          "output_type": "stream",
          "text": [
            "tobs =  1.1582360922659447\n",
            "7107\n",
            "0.237\n"
          ],
          "name": "stdout"
        }
      ]
    },
    {
      "cell_type": "code",
      "metadata": {
        "id": "vZ6Nw_6WN_cB"
      },
      "source": [
        ""
      ],
      "execution_count": null,
      "outputs": []
    }
  ]
}