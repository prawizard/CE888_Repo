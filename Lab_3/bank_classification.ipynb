{
  "nbformat": 4,
  "nbformat_minor": 0,
  "metadata": {
    "colab": {
      "name": "bank_classification.ipynb",
      "provenance": [],
      "authorship_tag": "ABX9TyOFWNxZBMQjNznWfr/sd1XZ",
      "include_colab_link": true
    },
    "kernelspec": {
      "name": "python3",
      "display_name": "Python 3"
    }
  },
  "cells": [
    {
      "cell_type": "markdown",
      "metadata": {
        "id": "view-in-github",
        "colab_type": "text"
      },
      "source": [
        "<a href=\"https://colab.research.google.com/github/prawizard/CE888_Repo/blob/main/Lab_3/bank_classification.ipynb\" target=\"_parent\"><img src=\"https://colab.research.google.com/assets/colab-badge.svg\" alt=\"Open In Colab\"/></a>"
      ]
    },
    {
      "cell_type": "code",
      "metadata": {
        "id": "yYviBsFXfHO3"
      },
      "source": [
        "import matplotlib\r\n",
        "import pandas as pd\r\n",
        "import seaborn as sns\r\n",
        "import numpy as np"
      ],
      "execution_count": 10,
      "outputs": []
    },
    {
      "cell_type": "code",
      "metadata": {
        "id": "WBC2F5I1iAGt",
        "colab": {
          "base_uri": "https://localhost:8080/"
        },
        "outputId": "d6e0a87c-b7ee-4de4-a830-a218a605e988"
      },
      "source": [
        "df=pd.read_csv(\"bank-additional-full.csv\")\r\n",
        "# Uploaded the file to session storage. Not fetching using the http link.\r\n",
        "print(df.head())\r\n",
        "X = df.iloc[:, :-1].values\r\n",
        "y = df.iloc[:, -1].values"
      ],
      "execution_count": 11,
      "outputs": [
        {
          "output_type": "stream",
          "text": [
            "   age        job  marital  ... euribor3m nr.employed   y\n",
            "0   56  housemaid  married  ...     4.857      5191.0  no\n",
            "1   57   services  married  ...     4.857      5191.0  no\n",
            "2   37   services  married  ...     4.857      5191.0  no\n",
            "3   40     admin.  married  ...     4.857      5191.0  no\n",
            "4   56   services  married  ...     4.857      5191.0  no\n",
            "\n",
            "[5 rows x 21 columns]\n"
          ],
          "name": "stdout"
        }
      ]
    },
    {
      "cell_type": "code",
      "metadata": {
        "id": "K68Mq8jrXIkw"
      },
      "source": [
        "from sklearn.compose import ColumnTransformer\r\n",
        "from sklearn.preprocessing import OneHotEncoder\r\n",
        "ct = ColumnTransformer(transformers=[('encoder', OneHotEncoder(), [1,2,3,4,5,6,7,8,9,14])], remainder='passthrough')\r\n",
        "X=ct.fit_transform(X)"
      ],
      "execution_count": 14,
      "outputs": []
    },
    {
      "cell_type": "code",
      "metadata": {
        "colab": {
          "base_uri": "https://localhost:8080/"
        },
        "id": "p1f15Dz-ZS8U",
        "outputId": "d83bf5cd-ab88-4169-b812-32bc34ae96fe"
      },
      "source": [
        "print(X)\r\n",
        "print(X.shape)"
      ],
      "execution_count": 16,
      "outputs": [
        {
          "output_type": "stream",
          "text": [
            "[[0.0 0.0 0.0 ... -36.4 4.857 5191.0]\n",
            " [0.0 0.0 0.0 ... -36.4 4.857 5191.0]\n",
            " [0.0 0.0 0.0 ... -36.4 4.857 5191.0]\n",
            " ...\n",
            " [0.0 0.0 0.0 ... -50.8 1.028 4963.6]\n",
            " [0.0 0.0 0.0 ... -50.8 1.028 4963.6]\n",
            " [0.0 0.0 0.0 ... -50.8 1.028 4963.6]]\n",
            "(41188, 63)\n"
          ],
          "name": "stdout"
        }
      ]
    },
    {
      "cell_type": "code",
      "metadata": {
        "id": "-sgxistJaBfv"
      },
      "source": [
        "from sklearn.preprocessing import LabelEncoder\r\n",
        "le=LabelEncoder()\r\n",
        "y=le.fit_transform(y)"
      ],
      "execution_count": 18,
      "outputs": []
    },
    {
      "cell_type": "code",
      "metadata": {
        "colab": {
          "base_uri": "https://localhost:8080/"
        },
        "id": "GiZTpx-VavWO",
        "outputId": "ee211dda-b7cf-4b5e-f97d-a6aa794b069a"
      },
      "source": [
        "print(y)"
      ],
      "execution_count": 19,
      "outputs": [
        {
          "output_type": "stream",
          "text": [
            "[0 0 0 ... 0 1 0]\n"
          ],
          "name": "stdout"
        }
      ]
    },
    {
      "cell_type": "code",
      "metadata": {
        "id": "wU9Fqy5da52_"
      },
      "source": [
        ""
      ],
      "execution_count": null,
      "outputs": []
    }
  ]
}