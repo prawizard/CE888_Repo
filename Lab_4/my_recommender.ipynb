{
  "nbformat": 4,
  "nbformat_minor": 0,
  "metadata": {
    "colab": {
      "name": "my_recommender.ipynb",
      "provenance": [],
      "authorship_tag": "ABX9TyNvzaNcHtV0W1ZV9OG/UIe8",
      "include_colab_link": true
    },
    "kernelspec": {
      "name": "python3",
      "display_name": "Python 3"
    },
    "language_info": {
      "name": "python"
    }
  },
  "cells": [
    {
      "cell_type": "markdown",
      "metadata": {
        "id": "view-in-github",
        "colab_type": "text"
      },
      "source": [
        "<a href=\"https://colab.research.google.com/github/prawizard/CE888_Repo/blob/main/Lab_4/my_recommender.ipynb\" target=\"_parent\"><img src=\"https://colab.research.google.com/assets/colab-badge.svg\" alt=\"Open In Colab\"/></a>"
      ]
    },
    {
      "cell_type": "markdown",
      "metadata": {
        "id": "iD3tvkgRaSmW"
      },
      "source": [
        "# Import packages/libraries"
      ]
    },
    {
      "cell_type": "code",
      "metadata": {
        "id": "OUnxWB3FFeaL"
      },
      "source": [
        "import pandas as pd\n",
        "import numpy as np\n",
        "import matplotlib.pyplot as plt\n"
      ],
      "execution_count": 1,
      "outputs": []
    },
    {
      "cell_type": "markdown",
      "metadata": {
        "id": "vj658OypaYJE"
      },
      "source": [
        "# Load the data files"
      ]
    },
    {
      "cell_type": "code",
      "metadata": {
        "id": "ECPhByhUGQ_a"
      },
      "source": [
        "data=pd.read_csv('https://raw.githubusercontent.com/albanda/CE888/master/lab4-recommender/jester-data-1.csv', header=None)"
      ],
      "execution_count": 2,
      "outputs": []
    },
    {
      "cell_type": "code",
      "metadata": {
        "id": "y6s7l2F5HS8Q"
      },
      "source": [
        "test_data=pd.DataFrame(data)\n",
        "test_data=pd.concat([test_data.loc[:, 0], test_data.loc[:, 1:].replace(99.00, np.NaN)], axis=1)\n",
        "test_data.drop(columns=[0], inplace=True)"
      ],
      "execution_count": 3,
      "outputs": []
    },
    {
      "cell_type": "code",
      "metadata": {
        "id": "otueWz1wccC0"
      },
      "source": [
        "data=pd.concat([data.loc[:, 0], data.loc[:, 1:].replace(99.00, np.NaN)], axis=1)\n",
        "data.drop(columns=[0], inplace=True)"
      ],
      "execution_count": 5,
      "outputs": []
    },
    {
      "cell_type": "code",
      "metadata": {
        "id": "sabQoglucqH9"
      },
      "source": [
        "val_data=pd.read_csv('https://raw.githubusercontent.com/albanda/CE888/master/lab4-recommender/jester-data-1.csv', header=None)\n",
        "val_data.drop(columns=[0], inplace=True)\n",
        "# val_data.head()"
      ],
      "execution_count": 16,
      "outputs": []
    },
    {
      "cell_type": "markdown",
      "metadata": {
        "id": "e--FFgeNdJOL"
      },
      "source": [
        "# Highest and lowest rated joke"
      ]
    },
    {
      "cell_type": "code",
      "metadata": {
        "colab": {
          "base_uri": "https://localhost:8080/"
        },
        "id": "5KwTHPq1tYjT",
        "outputId": "0ba25e9c-22f3-44a6-a8ac-bc5b1c00e8fc"
      },
      "source": [
        "print('Joke with highest rating : ', test_data.max(axis=0).idxmax())\n",
        "print('Joke with lowest rating : ', test_data.min(axis=0).idxmax())"
      ],
      "execution_count": 10,
      "outputs": [
        {
          "output_type": "stream",
          "text": [
            "Joke with highest rating :  45\n",
            "Joke with lowest rating :  1\n"
          ],
          "name": "stdout"
        }
      ]
    },
    {
      "cell_type": "code",
      "metadata": {
        "id": "4uh3la1WxlyI"
      },
      "source": [
        "# val_data=pd.DataFrame(data)\n",
        "# val_data.drop(columns=[0], inplace=True)"
      ],
      "execution_count": null,
      "outputs": []
    },
    {
      "cell_type": "markdown",
      "metadata": {
        "id": "6yxASbetgDMy"
      },
      "source": [
        "# Prepare Validation Data"
      ]
    },
    {
      "cell_type": "code",
      "metadata": {
        "colab": {
          "base_uri": "https://localhost:8080/"
        },
        "id": "y9HObTv_WFwe",
        "outputId": "c10850df-67e4-4c1b-a41e-7ac1935ee765"
      },
      "source": [
        "arr = val_data.values\n",
        "arr.shape"
      ],
      "execution_count": 17,
      "outputs": [
        {
          "output_type": "execute_result",
          "data": {
            "text/plain": [
              "(24983, 100)"
            ]
          },
          "metadata": {
            "tags": []
          },
          "execution_count": 17
        }
      ]
    },
    {
      "cell_type": "code",
      "metadata": {
        "colab": {
          "base_uri": "https://localhost:8080/"
        },
        "id": "sf-JXNOeWKg1",
        "outputId": "1a8a1fc6-292e-4482-f986-42dcf9c5a928"
      },
      "source": [
        "rated = np.where(arr!=99)\n",
        "print(len(rated[0]), rated[1].shape)"
      ],
      "execution_count": 19,
      "outputs": [
        {
          "output_type": "stream",
          "text": [
            "1810455 (1810455,)\n"
          ],
          "name": "stdout"
        }
      ]
    },
    {
      "cell_type": "code",
      "metadata": {
        "id": "5yNfg37WZae8"
      },
      "source": [
        "# data.drop(columns=[0], inplace=True)"
      ],
      "execution_count": null,
      "outputs": []
    },
    {
      "cell_type": "code",
      "metadata": {
        "id": "dkpajZh27ARd",
        "colab": {
          "base_uri": "https://localhost:8080/"
        },
        "outputId": "8df58b80-33ca-4eeb-fca1-d3d5a38915db"
      },
      "source": [
        "len(np.where(arr!=99)[1])"
      ],
      "execution_count": 35,
      "outputs": [
        {
          "output_type": "execute_result",
          "data": {
            "text/plain": [
              "1810455"
            ]
          },
          "metadata": {
            "tags": []
          },
          "execution_count": 35
        }
      ]
    },
    {
      "cell_type": "code",
      "metadata": {
        "id": "unyFgE5_W7Os"
      },
      "source": [
        "def replace(orig, percentage=0.1):\n",
        "  \"\"\"\n",
        "  Replaces 'percentage'% of the original values in 'orig' with 99's\n",
        "  :param orig: original data array\n",
        "  :param percentage: percentage of values to replace (0<percentage<1)\n",
        "  \"\"\"\n",
        "  new_data = orig.copy()\n",
        "  rated = np.where(arr!=99)\n",
        "  n_rated = len(rated[0])\n",
        "  idx = np.random.choice(n_rated, size=int(percentage*n_rated), replace=False)\n",
        "  new_data[rated[0][idx], rated[1][idx]] = 99\n",
        "  return new_data, (rated[0][idx], rated[1][idx])"
      ],
      "execution_count": 21,
      "outputs": []
    },
    {
      "cell_type": "code",
      "metadata": {
        "id": "dI1adC-Zd4am"
      },
      "source": [
        "new_arr, idx = replace(arr, 0.1)"
      ],
      "execution_count": 36,
      "outputs": []
    },
    {
      "cell_type": "code",
      "metadata": {
        "colab": {
          "base_uri": "https://localhost:8080/"
        },
        "id": "VewVl1-uwDW-",
        "outputId": "ae4f7d6b-233c-4493-8e83-c27a6165fef0"
      },
      "source": [
        "arr[idx[0][0], idx[1][0]]"
      ],
      "execution_count": 37,
      "outputs": [
        {
          "output_type": "execute_result",
          "data": {
            "text/plain": [
              "-4.71"
            ]
          },
          "metadata": {
            "tags": []
          },
          "execution_count": 37
        }
      ]
    },
    {
      "cell_type": "code",
      "metadata": {
        "colab": {
          "base_uri": "https://localhost:8080/"
        },
        "id": "qoBuorg7wF7Q",
        "outputId": "f71aabf9-2a61-4092-ef59-5be54f39bec9"
      },
      "source": [
        "new_arr[idx[0][0], idx[1][0]]"
      ],
      "execution_count": 38,
      "outputs": [
        {
          "output_type": "execute_result",
          "data": {
            "text/plain": [
              "99.0"
            ]
          },
          "metadata": {
            "tags": []
          },
          "execution_count": 38
        }
      ]
    },
    {
      "cell_type": "code",
      "metadata": {
        "id": "9VmabXr_dCDO",
        "colab": {
          "base_uri": "https://localhost:8080/",
          "height": 244
        },
        "outputId": "2ee1e10a-c7e8-4d71-818e-a432881341be"
      },
      "source": [
        "val_data=pd.DataFrame(new_arr)\n",
        "val_data=pd.DataFrame(val_data.loc[:, 0:].replace(99.00, np.NaN))\n",
        "val_data.head()"
      ],
      "execution_count": 39,
      "outputs": [
        {
          "output_type": "execute_result",
          "data": {
            "text/html": [
              "<div>\n",
              "<style scoped>\n",
              "    .dataframe tbody tr th:only-of-type {\n",
              "        vertical-align: middle;\n",
              "    }\n",
              "\n",
              "    .dataframe tbody tr th {\n",
              "        vertical-align: top;\n",
              "    }\n",
              "\n",
              "    .dataframe thead th {\n",
              "        text-align: right;\n",
              "    }\n",
              "</style>\n",
              "<table border=\"1\" class=\"dataframe\">\n",
              "  <thead>\n",
              "    <tr style=\"text-align: right;\">\n",
              "      <th></th>\n",
              "      <th>0</th>\n",
              "      <th>1</th>\n",
              "      <th>2</th>\n",
              "      <th>3</th>\n",
              "      <th>4</th>\n",
              "      <th>5</th>\n",
              "      <th>6</th>\n",
              "      <th>7</th>\n",
              "      <th>8</th>\n",
              "      <th>9</th>\n",
              "      <th>10</th>\n",
              "      <th>11</th>\n",
              "      <th>12</th>\n",
              "      <th>13</th>\n",
              "      <th>14</th>\n",
              "      <th>15</th>\n",
              "      <th>16</th>\n",
              "      <th>17</th>\n",
              "      <th>18</th>\n",
              "      <th>19</th>\n",
              "      <th>20</th>\n",
              "      <th>21</th>\n",
              "      <th>22</th>\n",
              "      <th>23</th>\n",
              "      <th>24</th>\n",
              "      <th>25</th>\n",
              "      <th>26</th>\n",
              "      <th>27</th>\n",
              "      <th>28</th>\n",
              "      <th>29</th>\n",
              "      <th>30</th>\n",
              "      <th>31</th>\n",
              "      <th>32</th>\n",
              "      <th>33</th>\n",
              "      <th>34</th>\n",
              "      <th>35</th>\n",
              "      <th>36</th>\n",
              "      <th>37</th>\n",
              "      <th>38</th>\n",
              "      <th>39</th>\n",
              "      <th>...</th>\n",
              "      <th>60</th>\n",
              "      <th>61</th>\n",
              "      <th>62</th>\n",
              "      <th>63</th>\n",
              "      <th>64</th>\n",
              "      <th>65</th>\n",
              "      <th>66</th>\n",
              "      <th>67</th>\n",
              "      <th>68</th>\n",
              "      <th>69</th>\n",
              "      <th>70</th>\n",
              "      <th>71</th>\n",
              "      <th>72</th>\n",
              "      <th>73</th>\n",
              "      <th>74</th>\n",
              "      <th>75</th>\n",
              "      <th>76</th>\n",
              "      <th>77</th>\n",
              "      <th>78</th>\n",
              "      <th>79</th>\n",
              "      <th>80</th>\n",
              "      <th>81</th>\n",
              "      <th>82</th>\n",
              "      <th>83</th>\n",
              "      <th>84</th>\n",
              "      <th>85</th>\n",
              "      <th>86</th>\n",
              "      <th>87</th>\n",
              "      <th>88</th>\n",
              "      <th>89</th>\n",
              "      <th>90</th>\n",
              "      <th>91</th>\n",
              "      <th>92</th>\n",
              "      <th>93</th>\n",
              "      <th>94</th>\n",
              "      <th>95</th>\n",
              "      <th>96</th>\n",
              "      <th>97</th>\n",
              "      <th>98</th>\n",
              "      <th>99</th>\n",
              "    </tr>\n",
              "  </thead>\n",
              "  <tbody>\n",
              "    <tr>\n",
              "      <th>0</th>\n",
              "      <td>NaN</td>\n",
              "      <td>8.79</td>\n",
              "      <td>-9.66</td>\n",
              "      <td>-8.16</td>\n",
              "      <td>-7.52</td>\n",
              "      <td>-8.50</td>\n",
              "      <td>-9.85</td>\n",
              "      <td>4.17</td>\n",
              "      <td>-8.98</td>\n",
              "      <td>-4.76</td>\n",
              "      <td>-8.50</td>\n",
              "      <td>-6.75</td>\n",
              "      <td>-7.18</td>\n",
              "      <td>8.45</td>\n",
              "      <td>-7.18</td>\n",
              "      <td>-7.52</td>\n",
              "      <td>-7.43</td>\n",
              "      <td>-9.81</td>\n",
              "      <td>-9.85</td>\n",
              "      <td>-9.85</td>\n",
              "      <td>-9.37</td>\n",
              "      <td>1.50</td>\n",
              "      <td>-4.37</td>\n",
              "      <td>NaN</td>\n",
              "      <td>-8.50</td>\n",
              "      <td>1.12</td>\n",
              "      <td>7.82</td>\n",
              "      <td>2.86</td>\n",
              "      <td>NaN</td>\n",
              "      <td>-7.43</td>\n",
              "      <td>2.14</td>\n",
              "      <td>-4.08</td>\n",
              "      <td>-9.08</td>\n",
              "      <td>7.82</td>\n",
              "      <td>5.05</td>\n",
              "      <td>4.95</td>\n",
              "      <td>-9.17</td>\n",
              "      <td>-8.40</td>\n",
              "      <td>-8.40</td>\n",
              "      <td>-8.40</td>\n",
              "      <td>...</td>\n",
              "      <td>8.59</td>\n",
              "      <td>3.59</td>\n",
              "      <td>-6.84</td>\n",
              "      <td>-9.03</td>\n",
              "      <td>2.82</td>\n",
              "      <td>-1.36</td>\n",
              "      <td>-9.08</td>\n",
              "      <td>8.30</td>\n",
              "      <td>5.68</td>\n",
              "      <td>-4.81</td>\n",
              "      <td>NaN</td>\n",
              "      <td>NaN</td>\n",
              "      <td>NaN</td>\n",
              "      <td>NaN</td>\n",
              "      <td>NaN</td>\n",
              "      <td>NaN</td>\n",
              "      <td>NaN</td>\n",
              "      <td>-9.42</td>\n",
              "      <td>NaN</td>\n",
              "      <td>NaN</td>\n",
              "      <td>NaN</td>\n",
              "      <td>-7.72</td>\n",
              "      <td>NaN</td>\n",
              "      <td>NaN</td>\n",
              "      <td>NaN</td>\n",
              "      <td>NaN</td>\n",
              "      <td>NaN</td>\n",
              "      <td>NaN</td>\n",
              "      <td>NaN</td>\n",
              "      <td>NaN</td>\n",
              "      <td>2.82</td>\n",
              "      <td>NaN</td>\n",
              "      <td>NaN</td>\n",
              "      <td>NaN</td>\n",
              "      <td>NaN</td>\n",
              "      <td>NaN</td>\n",
              "      <td>-5.63</td>\n",
              "      <td>NaN</td>\n",
              "      <td>NaN</td>\n",
              "      <td>NaN</td>\n",
              "    </tr>\n",
              "    <tr>\n",
              "      <th>1</th>\n",
              "      <td>NaN</td>\n",
              "      <td>-0.29</td>\n",
              "      <td>6.36</td>\n",
              "      <td>4.37</td>\n",
              "      <td>-2.38</td>\n",
              "      <td>-9.66</td>\n",
              "      <td>-0.73</td>\n",
              "      <td>-5.34</td>\n",
              "      <td>8.88</td>\n",
              "      <td>9.22</td>\n",
              "      <td>6.75</td>\n",
              "      <td>8.64</td>\n",
              "      <td>4.42</td>\n",
              "      <td>7.43</td>\n",
              "      <td>4.56</td>\n",
              "      <td>-0.97</td>\n",
              "      <td>4.66</td>\n",
              "      <td>-0.68</td>\n",
              "      <td>3.30</td>\n",
              "      <td>-1.21</td>\n",
              "      <td>0.87</td>\n",
              "      <td>8.64</td>\n",
              "      <td>8.35</td>\n",
              "      <td>9.17</td>\n",
              "      <td>0.05</td>\n",
              "      <td>7.57</td>\n",
              "      <td>4.71</td>\n",
              "      <td>0.87</td>\n",
              "      <td>-0.39</td>\n",
              "      <td>6.99</td>\n",
              "      <td>6.50</td>\n",
              "      <td>-0.92</td>\n",
              "      <td>7.14</td>\n",
              "      <td>9.03</td>\n",
              "      <td>-1.80</td>\n",
              "      <td>0.73</td>\n",
              "      <td>7.09</td>\n",
              "      <td>3.40</td>\n",
              "      <td>-0.87</td>\n",
              "      <td>7.91</td>\n",
              "      <td>...</td>\n",
              "      <td>-6.70</td>\n",
              "      <td>-3.35</td>\n",
              "      <td>-9.03</td>\n",
              "      <td>4.47</td>\n",
              "      <td>NaN</td>\n",
              "      <td>-3.83</td>\n",
              "      <td>8.74</td>\n",
              "      <td>1.12</td>\n",
              "      <td>0.78</td>\n",
              "      <td>7.52</td>\n",
              "      <td>-5.0</td>\n",
              "      <td>2.77</td>\n",
              "      <td>8.3</td>\n",
              "      <td>7.77</td>\n",
              "      <td>7.33</td>\n",
              "      <td>NaN</td>\n",
              "      <td>7.72</td>\n",
              "      <td>8.98</td>\n",
              "      <td>8.64</td>\n",
              "      <td>8.20</td>\n",
              "      <td>3.93</td>\n",
              "      <td>NaN</td>\n",
              "      <td>4.85</td>\n",
              "      <td>6.07</td>\n",
              "      <td>8.98</td>\n",
              "      <td>4.51</td>\n",
              "      <td>-0.05</td>\n",
              "      <td>3.69</td>\n",
              "      <td>4.56</td>\n",
              "      <td>0.58</td>\n",
              "      <td>2.82</td>\n",
              "      <td>-4.95</td>\n",
              "      <td>-0.29</td>\n",
              "      <td>7.86</td>\n",
              "      <td>-0.19</td>\n",
              "      <td>-2.14</td>\n",
              "      <td>3.06</td>\n",
              "      <td>0.34</td>\n",
              "      <td>-4.32</td>\n",
              "      <td>1.07</td>\n",
              "    </tr>\n",
              "    <tr>\n",
              "      <th>2</th>\n",
              "      <td>NaN</td>\n",
              "      <td>NaN</td>\n",
              "      <td>NaN</td>\n",
              "      <td>NaN</td>\n",
              "      <td>NaN</td>\n",
              "      <td>9.27</td>\n",
              "      <td>NaN</td>\n",
              "      <td>9.27</td>\n",
              "      <td>NaN</td>\n",
              "      <td>NaN</td>\n",
              "      <td>7.33</td>\n",
              "      <td>7.57</td>\n",
              "      <td>9.37</td>\n",
              "      <td>6.17</td>\n",
              "      <td>-6.36</td>\n",
              "      <td>-6.89</td>\n",
              "      <td>-7.86</td>\n",
              "      <td>9.03</td>\n",
              "      <td>9.03</td>\n",
              "      <td>9.03</td>\n",
              "      <td>7.28</td>\n",
              "      <td>NaN</td>\n",
              "      <td>8.25</td>\n",
              "      <td>NaN</td>\n",
              "      <td>NaN</td>\n",
              "      <td>NaN</td>\n",
              "      <td>7.28</td>\n",
              "      <td>7.28</td>\n",
              "      <td>8.93</td>\n",
              "      <td>NaN</td>\n",
              "      <td>6.17</td>\n",
              "      <td>7.28</td>\n",
              "      <td>NaN</td>\n",
              "      <td>NaN</td>\n",
              "      <td>8.98</td>\n",
              "      <td>7.33</td>\n",
              "      <td>NaN</td>\n",
              "      <td>6.17</td>\n",
              "      <td>9.08</td>\n",
              "      <td>7.33</td>\n",
              "      <td>...</td>\n",
              "      <td>6.46</td>\n",
              "      <td>7.28</td>\n",
              "      <td>NaN</td>\n",
              "      <td>NaN</td>\n",
              "      <td>7.04</td>\n",
              "      <td>7.28</td>\n",
              "      <td>NaN</td>\n",
              "      <td>7.28</td>\n",
              "      <td>NaN</td>\n",
              "      <td>NaN</td>\n",
              "      <td>NaN</td>\n",
              "      <td>NaN</td>\n",
              "      <td>NaN</td>\n",
              "      <td>NaN</td>\n",
              "      <td>NaN</td>\n",
              "      <td>NaN</td>\n",
              "      <td>NaN</td>\n",
              "      <td>NaN</td>\n",
              "      <td>NaN</td>\n",
              "      <td>9.08</td>\n",
              "      <td>NaN</td>\n",
              "      <td>NaN</td>\n",
              "      <td>NaN</td>\n",
              "      <td>NaN</td>\n",
              "      <td>NaN</td>\n",
              "      <td>NaN</td>\n",
              "      <td>NaN</td>\n",
              "      <td>NaN</td>\n",
              "      <td>NaN</td>\n",
              "      <td>9.03</td>\n",
              "      <td>NaN</td>\n",
              "      <td>NaN</td>\n",
              "      <td>NaN</td>\n",
              "      <td>9.08</td>\n",
              "      <td>NaN</td>\n",
              "      <td>NaN</td>\n",
              "      <td>NaN</td>\n",
              "      <td>NaN</td>\n",
              "      <td>NaN</td>\n",
              "      <td>NaN</td>\n",
              "    </tr>\n",
              "    <tr>\n",
              "      <th>3</th>\n",
              "      <td>NaN</td>\n",
              "      <td>8.35</td>\n",
              "      <td>NaN</td>\n",
              "      <td>NaN</td>\n",
              "      <td>1.80</td>\n",
              "      <td>NaN</td>\n",
              "      <td>-2.82</td>\n",
              "      <td>6.21</td>\n",
              "      <td>NaN</td>\n",
              "      <td>1.84</td>\n",
              "      <td>7.33</td>\n",
              "      <td>6.60</td>\n",
              "      <td>6.31</td>\n",
              "      <td>8.11</td>\n",
              "      <td>-7.23</td>\n",
              "      <td>-6.65</td>\n",
              "      <td>1.17</td>\n",
              "      <td>-6.60</td>\n",
              "      <td>-3.64</td>\n",
              "      <td>-2.09</td>\n",
              "      <td>5.34</td>\n",
              "      <td>NaN</td>\n",
              "      <td>NaN</td>\n",
              "      <td>NaN</td>\n",
              "      <td>NaN</td>\n",
              "      <td>2.91</td>\n",
              "      <td>3.93</td>\n",
              "      <td>6.75</td>\n",
              "      <td>6.60</td>\n",
              "      <td>NaN</td>\n",
              "      <td>6.65</td>\n",
              "      <td>-6.12</td>\n",
              "      <td>NaN</td>\n",
              "      <td>7.57</td>\n",
              "      <td>6.21</td>\n",
              "      <td>6.65</td>\n",
              "      <td>NaN</td>\n",
              "      <td>-8.30</td>\n",
              "      <td>7.18</td>\n",
              "      <td>2.82</td>\n",
              "      <td>...</td>\n",
              "      <td>0.00</td>\n",
              "      <td>-3.69</td>\n",
              "      <td>NaN</td>\n",
              "      <td>NaN</td>\n",
              "      <td>7.82</td>\n",
              "      <td>0.24</td>\n",
              "      <td>NaN</td>\n",
              "      <td>7.28</td>\n",
              "      <td>-2.33</td>\n",
              "      <td>NaN</td>\n",
              "      <td>NaN</td>\n",
              "      <td>NaN</td>\n",
              "      <td>NaN</td>\n",
              "      <td>NaN</td>\n",
              "      <td>NaN</td>\n",
              "      <td>NaN</td>\n",
              "      <td>NaN</td>\n",
              "      <td>NaN</td>\n",
              "      <td>NaN</td>\n",
              "      <td>NaN</td>\n",
              "      <td>NaN</td>\n",
              "      <td>NaN</td>\n",
              "      <td>NaN</td>\n",
              "      <td>NaN</td>\n",
              "      <td>0.63</td>\n",
              "      <td>NaN</td>\n",
              "      <td>NaN</td>\n",
              "      <td>-2.33</td>\n",
              "      <td>NaN</td>\n",
              "      <td>NaN</td>\n",
              "      <td>NaN</td>\n",
              "      <td>NaN</td>\n",
              "      <td>NaN</td>\n",
              "      <td>0.53</td>\n",
              "      <td>NaN</td>\n",
              "      <td>NaN</td>\n",
              "      <td>NaN</td>\n",
              "      <td>NaN</td>\n",
              "      <td>NaN</td>\n",
              "      <td>NaN</td>\n",
              "    </tr>\n",
              "    <tr>\n",
              "      <th>4</th>\n",
              "      <td>8.5</td>\n",
              "      <td>4.61</td>\n",
              "      <td>-4.17</td>\n",
              "      <td>NaN</td>\n",
              "      <td>1.36</td>\n",
              "      <td>1.60</td>\n",
              "      <td>NaN</td>\n",
              "      <td>4.61</td>\n",
              "      <td>-0.44</td>\n",
              "      <td>5.73</td>\n",
              "      <td>8.25</td>\n",
              "      <td>6.84</td>\n",
              "      <td>-3.93</td>\n",
              "      <td>7.23</td>\n",
              "      <td>-2.33</td>\n",
              "      <td>-9.66</td>\n",
              "      <td>2.72</td>\n",
              "      <td>-1.36</td>\n",
              "      <td>2.57</td>\n",
              "      <td>4.51</td>\n",
              "      <td>8.20</td>\n",
              "      <td>6.12</td>\n",
              "      <td>8.30</td>\n",
              "      <td>-1.26</td>\n",
              "      <td>7.77</td>\n",
              "      <td>1.89</td>\n",
              "      <td>NaN</td>\n",
              "      <td>5.68</td>\n",
              "      <td>8.45</td>\n",
              "      <td>4.61</td>\n",
              "      <td>8.06</td>\n",
              "      <td>-9.47</td>\n",
              "      <td>7.28</td>\n",
              "      <td>5.68</td>\n",
              "      <td>2.48</td>\n",
              "      <td>3.20</td>\n",
              "      <td>-1.26</td>\n",
              "      <td>6.80</td>\n",
              "      <td>4.51</td>\n",
              "      <td>2.48</td>\n",
              "      <td>...</td>\n",
              "      <td>7.38</td>\n",
              "      <td>6.17</td>\n",
              "      <td>4.71</td>\n",
              "      <td>-2.28</td>\n",
              "      <td>7.38</td>\n",
              "      <td>4.56</td>\n",
              "      <td>7.14</td>\n",
              "      <td>4.22</td>\n",
              "      <td>3.01</td>\n",
              "      <td>3.83</td>\n",
              "      <td>NaN</td>\n",
              "      <td>NaN</td>\n",
              "      <td>NaN</td>\n",
              "      <td>NaN</td>\n",
              "      <td>NaN</td>\n",
              "      <td>NaN</td>\n",
              "      <td>4.13</td>\n",
              "      <td>NaN</td>\n",
              "      <td>NaN</td>\n",
              "      <td>NaN</td>\n",
              "      <td>NaN</td>\n",
              "      <td>5.92</td>\n",
              "      <td>0.87</td>\n",
              "      <td>7.28</td>\n",
              "      <td>3.93</td>\n",
              "      <td>NaN</td>\n",
              "      <td>6.31</td>\n",
              "      <td>4.71</td>\n",
              "      <td>2.82</td>\n",
              "      <td>2.96</td>\n",
              "      <td>5.19</td>\n",
              "      <td>5.58</td>\n",
              "      <td>4.27</td>\n",
              "      <td>5.19</td>\n",
              "      <td>5.73</td>\n",
              "      <td>1.55</td>\n",
              "      <td>3.11</td>\n",
              "      <td>6.55</td>\n",
              "      <td>1.80</td>\n",
              "      <td>1.60</td>\n",
              "    </tr>\n",
              "  </tbody>\n",
              "</table>\n",
              "<p>5 rows × 100 columns</p>\n",
              "</div>"
            ],
            "text/plain": [
              "    0     1     2     3     4     5   ...    94    95    96    97    98    99\n",
              "0  NaN  8.79 -9.66 -8.16 -7.52 -8.50  ...   NaN   NaN -5.63   NaN   NaN   NaN\n",
              "1  NaN -0.29  6.36  4.37 -2.38 -9.66  ... -0.19 -2.14  3.06  0.34 -4.32  1.07\n",
              "2  NaN   NaN   NaN   NaN   NaN  9.27  ...   NaN   NaN   NaN   NaN   NaN   NaN\n",
              "3  NaN  8.35   NaN   NaN  1.80   NaN  ...   NaN   NaN   NaN   NaN   NaN   NaN\n",
              "4  8.5  4.61 -4.17   NaN  1.36  1.60  ...  5.73  1.55  3.11  6.55  1.80  1.60\n",
              "\n",
              "[5 rows x 100 columns]"
            ]
          },
          "metadata": {
            "tags": []
          },
          "execution_count": 39
        }
      ]
    },
    {
      "cell_type": "markdown",
      "metadata": {
        "id": "1CCaVUn08ylY"
      },
      "source": [
        "# Training"
      ]
    },
    {
      "cell_type": "code",
      "metadata": {
        "id": "C4N5BPUV6xhu"
      },
      "source": [
        "n_latent_factors = 2\n",
        "\n",
        "user_ratings = data.values\n",
        "# Initialise as random values\n",
        "latent_user_preferences = np.random.random((user_ratings.shape[0], n_latent_factors))\n",
        "latent_item_features = np.random.random((user_ratings.shape[1], n_latent_factors))"
      ],
      "execution_count": 40,
      "outputs": []
    },
    {
      "cell_type": "code",
      "metadata": {
        "id": "POHBvBF2wIOp"
      },
      "source": [
        "def predict_rating(user_id, item_id):\n",
        "    \"\"\" Predict a rating given a user_id and an item_id.\n",
        "    \"\"\"\n",
        "    user_preference = latent_user_preferences[user_id]\n",
        "    item_preference = latent_item_features[item_id]\n",
        "    return user_preference.dot(item_preference)\n",
        "\n",
        "\n",
        "def train(user_id, item_id, rating, alpha=0.0001):\n",
        "    #print(item_id)\n",
        "    predicted_rating = predict_rating(user_id, item_id)\n",
        "    err =  predicted_rating - rating\n",
        "    #print(err)\n",
        "    user_pref_values = latent_user_preferences[user_id]\n",
        "    latent_user_preferences[user_id] -= alpha * err * latent_item_features[item_id]\n",
        "    latent_item_features[item_id] -= alpha * err * user_pref_values\n",
        "    return err\n",
        "    \n",
        "\n",
        "def sgd(iterations):\n",
        "    \"\"\" Iterate over all users and all items and train for \n",
        "        a certain number of iterations\n",
        "    \"\"\"\n",
        "    mse_history = []\n",
        "    for iteration in range(iterations):\n",
        "        error = []\n",
        "        for user_id in range(latent_user_preferences.shape[0]):\n",
        "            for item_id in range(latent_item_features.shape[0]):\n",
        "                rating = user_ratings[user_id, item_id]\n",
        "                if not np.isnan(rating):\n",
        "                    err = train(user_id, item_id, rating)\n",
        "                    error.append(err)\n",
        "        mse = (np.array(error) ** 2).mean()   \n",
        "        if (iteration % 10) == 0:\n",
        "            print('Iteration %d/%d:\\tMSE=%.6f' % (iteration, iterations, mse))\n",
        "            mse_history.append(mse)\n",
        "    return mse_history"
      ],
      "execution_count": 41,
      "outputs": []
    },
    {
      "cell_type": "code",
      "metadata": {
        "colab": {
          "base_uri": "https://localhost:8080/"
        },
        "id": "tHVLcbkt35ov",
        "outputId": "2f65d5bc-b32e-4b81-ba51-b2a04c66a2b5"
      },
      "source": [
        "num_iter = 100\n",
        "hist = sgd(num_iter)  # Note how the MSE decreases with the number of iterations"
      ],
      "execution_count": 42,
      "outputs": [
        {
          "output_type": "stream",
          "text": [
            "Iteration 0/100:\tMSE=26.168640\n",
            "Iteration 10/100:\tMSE=23.079744\n",
            "Iteration 20/100:\tMSE=21.269400\n",
            "Iteration 30/100:\tMSE=19.881378\n",
            "Iteration 40/100:\tMSE=17.762604\n",
            "Iteration 50/100:\tMSE=17.264157\n",
            "Iteration 60/100:\tMSE=17.169471\n",
            "Iteration 70/100:\tMSE=17.142136\n",
            "Iteration 80/100:\tMSE=17.133488\n",
            "Iteration 90/100:\tMSE=17.130864\n"
          ],
          "name": "stdout"
        }
      ]
    },
    {
      "cell_type": "code",
      "metadata": {
        "colab": {
          "base_uri": "https://localhost:8080/",
          "height": 279
        },
        "id": "2TlgJFYK7Lgm",
        "outputId": "cfe9751a-61c4-4cad-9511-3b31a8447ded"
      },
      "source": [
        "plt.figure()\n",
        "plt.plot(np.arange(0, num_iter, 10), hist)\n",
        "plt.xlabel(\"Iterations\")\n",
        "plt.ylabel(\"MSE\")\n",
        "plt.show()"
      ],
      "execution_count": 43,
      "outputs": [
        {
          "output_type": "display_data",
          "data": {
            "image/png": "[encoded data removed]",
            "text/plain": [
              "<Figure size 432x288 with 1 Axes>"
            ]
          },
          "metadata": {
            "tags": [],
            "needs_background": "light"
          }
        }
      ]
    },
    {
      "cell_type": "markdown",
      "metadata": {
        "id": "VE9P4o5n82N7"
      },
      "source": [
        "# Predicting"
      ]
    },
    {
      "cell_type": "code",
      "metadata": {
        "colab": {
          "base_uri": "https://localhost:8080/"
        },
        "id": "0wFebMUX97UW",
        "outputId": "9d4c3958-9dec-4896-a8b5-3106935abb3c"
      },
      "source": [
        "predictions = latent_user_preferences.dot(latent_item_features.T)\n",
        "predictions"
      ],
      "execution_count": 44,
      "outputs": [
        {
          "output_type": "execute_result",
          "data": {
            "text/plain": [
              "array([[-3.9101401 , -4.1844387 , -5.64195569, ..., -2.45224069,\n",
              "        -6.1897599 , -2.57000198],\n",
              "       [ 2.98954261,  3.16000607,  3.79311712, ...,  2.51727586,\n",
              "         3.95099265,  2.76085415],\n",
              "       [ 6.85944894,  7.15620287,  7.45190169, ...,  7.32018918,\n",
              "         7.18678963,  8.24820292],\n",
              "       ...,\n",
              "       [-0.86193823, -0.91787697, -1.18367082, ..., -0.61464187,\n",
              "        -1.27433447, -0.65830683],\n",
              "       [-1.99891995, -2.14812538, -3.00332151, ..., -1.10666616,\n",
              "        -3.34306373, -1.13174253],\n",
              "       [ 2.78608002,  2.86827047,  2.51832308, ...,  3.60065441,\n",
              "         2.15576198,  4.12755194]])"
            ]
          },
          "metadata": {
            "tags": []
          },
          "execution_count": 44
        }
      ]
    },
    {
      "cell_type": "markdown",
      "metadata": {
        "id": "d9Nx8r-2XuNS"
      },
      "source": [
        "# Predicting on Validation set"
      ]
    },
    {
      "cell_type": "code",
      "metadata": {
        "id": "6muIo2Lj_V6N"
      },
      "source": [
        "val_data=pd.read_csv('https://raw.githubusercontent.com/albanda/CE888/master/lab4-recommender/jester-data-1.csv', header=None)\n",
        "val_data.drop(columns=[0], inplace=True)\n",
        "val_data=pd.DataFrame(val_data.loc[:, 0:].replace(99.00, np.NaN))\n",
        "\n",
        "v_data=pd.DataFrame(new_arr)\n",
        "v_data=pd.DataFrame(v_data.loc[:, 0:].replace(99.00, np.NaN))\n",
        "\n",
        "v_user_ratings=v_data.values\n",
        "\n",
        "v_values = [zip(v_user_ratings[i], predictions[i]) for i in range(predictions.shape[0])]\n",
        "v_comparison_data = pd.DataFrame(v_values)\n",
        "v_comparison_data.columns = data.columns\n",
        "\n",
        "# v_comparison_data"
      ],
      "execution_count": 50,
      "outputs": []
    },
    {
      "cell_type": "code",
      "metadata": {
        "colab": {
          "base_uri": "https://localhost:8080/"
        },
        "id": "gY9AUFBN_Zbc",
        "outputId": "f0749990-44ee-4f7b-d55d-b3da21fd9ee6"
      },
      "source": [
        "val_user_ratings=val_data.values\n",
        "\n",
        "error = []\n",
        "\n",
        "for user_id in range(latent_user_preferences.shape[0]):\n",
        "    for item_id in range(latent_item_features.shape[0]):\n",
        "        rating = val_user_ratings[user_id, item_id]\n",
        "        \n",
        "        if not np.isnan(rating):\n",
        "             val_predicted_rating = predict_rating(user_id, item_id)\n",
        "             err =  val_predicted_rating - rating\n",
        "             \n",
        "            #  err = train(user_id, item_id, rating)\n",
        "             error.append(err)\n",
        "val_mse = (np.array(error) ** 2).mean()\n",
        "print('MSE on Validation Set :', val_mse)"
      ],
      "execution_count": 51,
      "outputs": [
        {
          "output_type": "stream",
          "text": [
            "MSE on Validation Set : 17.073573555107714\n"
          ],
          "name": "stdout"
        }
      ]
    },
    {
      "cell_type": "markdown",
      "metadata": {
        "id": "335b1wlKZU1q"
      },
      "source": [
        "# Predicting on Test Set"
      ]
    },
    {
      "cell_type": "code",
      "metadata": {
        "id": "hGkTsg4Y_cCr",
        "colab": {
          "base_uri": "https://localhost:8080/",
          "height": 590
        },
        "outputId": "10b0d10a-485e-4243-f0b3-1a915c7d97a9"
      },
      "source": [
        "test_user_ratings=test_data.values\n",
        "values = [zip(test_user_ratings[i], predictions[i]) for i in range(predictions.shape[0])]\n",
        "comparison_data = pd.DataFrame(values)\n",
        "comparison_data.columns = data.columns\n",
        "comparison_data"
      ],
      "execution_count": 53,
      "outputs": [
        {
          "output_type": "execute_result",
          "data": {
            "text/html": [
              "<div>\n",
              "<style scoped>\n",
              "    .dataframe tbody tr th:only-of-type {\n",
              "        vertical-align: middle;\n",
              "    }\n",
              "\n",
              "    .dataframe tbody tr th {\n",
              "        vertical-align: top;\n",
              "    }\n",
              "\n",
              "    .dataframe thead th {\n",
              "        text-align: right;\n",
              "    }\n",
              "</style>\n",
              "<table border=\"1\" class=\"dataframe\">\n",
              "  <thead>\n",
              "    <tr style=\"text-align: right;\">\n",
              "      <th></th>\n",
              "      <th>1</th>\n",
              "      <th>2</th>\n",
              "      <th>3</th>\n",
              "      <th>4</th>\n",
              "      <th>5</th>\n",
              "      <th>6</th>\n",
              "      <th>7</th>\n",
              "      <th>8</th>\n",
              "      <th>9</th>\n",
              "      <th>10</th>\n",
              "      <th>11</th>\n",
              "      <th>12</th>\n",
              "      <th>13</th>\n",
              "      <th>14</th>\n",
              "      <th>15</th>\n",
              "      <th>16</th>\n",
              "      <th>17</th>\n",
              "      <th>18</th>\n",
              "      <th>19</th>\n",
              "      <th>20</th>\n",
              "      <th>21</th>\n",
              "      <th>22</th>\n",
              "      <th>23</th>\n",
              "      <th>24</th>\n",
              "      <th>25</th>\n",
              "      <th>26</th>\n",
              "      <th>27</th>\n",
              "      <th>28</th>\n",
              "      <th>29</th>\n",
              "      <th>30</th>\n",
              "      <th>31</th>\n",
              "      <th>32</th>\n",
              "      <th>33</th>\n",
              "      <th>34</th>\n",
              "      <th>35</th>\n",
              "      <th>36</th>\n",
              "      <th>37</th>\n",
              "      <th>38</th>\n",
              "      <th>39</th>\n",
              "      <th>40</th>\n",
              "      <th>...</th>\n",
              "      <th>61</th>\n",
              "      <th>62</th>\n",
              "      <th>63</th>\n",
              "      <th>64</th>\n",
              "      <th>65</th>\n",
              "      <th>66</th>\n",
              "      <th>67</th>\n",
              "      <th>68</th>\n",
              "      <th>69</th>\n",
              "      <th>70</th>\n",
              "      <th>71</th>\n",
              "      <th>72</th>\n",
              "      <th>73</th>\n",
              "      <th>74</th>\n",
              "      <th>75</th>\n",
              "      <th>76</th>\n",
              "      <th>77</th>\n",
              "      <th>78</th>\n",
              "      <th>79</th>\n",
              "      <th>80</th>\n",
              "      <th>81</th>\n",
              "      <th>82</th>\n",
              "      <th>83</th>\n",
              "      <th>84</th>\n",
              "      <th>85</th>\n",
              "      <th>86</th>\n",
              "      <th>87</th>\n",
              "      <th>88</th>\n",
              "      <th>89</th>\n",
              "      <th>90</th>\n",
              "      <th>91</th>\n",
              "      <th>92</th>\n",
              "      <th>93</th>\n",
              "      <th>94</th>\n",
              "      <th>95</th>\n",
              "      <th>96</th>\n",
              "      <th>97</th>\n",
              "      <th>98</th>\n",
              "      <th>99</th>\n",
              "      <th>100</th>\n",
              "    </tr>\n",
              "  </thead>\n",
              "  <tbody>\n",
              "    <tr>\n",
              "      <th>0</th>\n",
              "      <td>(-7.82, -3.910140100118776)</td>\n",
              "      <td>(8.79, -4.184438695345873)</td>\n",
              "      <td>(-9.66, -5.641955693181807)</td>\n",
              "      <td>(-8.16, -9.549705722494409)</td>\n",
              "      <td>(-7.52, -2.6950498901556155)</td>\n",
              "      <td>(-8.5, -1.7700355650102007)</td>\n",
              "      <td>(-9.85, -4.944499038193873)</td>\n",
              "      <td>(4.17, -4.330508115777669)</td>\n",
              "      <td>(-8.98, -8.836797136199456)</td>\n",
              "      <td>(-4.76, -3.7228707949511635)</td>\n",
              "      <td>(-8.5, -1.6094110324709674)</td>\n",
              "      <td>(-6.75, -1.744496488705676)</td>\n",
              "      <td>(-7.18, -6.510420752934809)</td>\n",
              "      <td>(8.45, -1.5744868243527523)</td>\n",
              "      <td>(-7.18, -6.5699615988196065)</td>\n",
              "      <td>(-7.52, -10.024412093527229)</td>\n",
              "      <td>(-7.43, -4.46943151542539)</td>\n",
              "      <td>(-9.81, -5.303390501513845)</td>\n",
              "      <td>(-9.85, -3.839408243080653)</td>\n",
              "      <td>(-9.85, -6.132260467688518)</td>\n",
              "      <td>(-9.37, 0.39917236023390573)</td>\n",
              "      <td>(1.5, -4.3120264496360114)</td>\n",
              "      <td>(-4.37, -6.0989663531971585)</td>\n",
              "      <td>(-9.81, -10.5615103681982)</td>\n",
              "      <td>(-8.5, -4.651062068597813)</td>\n",
              "      <td>(1.12, -1.581591947644815)</td>\n",
              "      <td>(7.82, 3.4226725719377904)</td>\n",
              "      <td>(2.86, -1.6863967620757594)</td>\n",
              "      <td>(9.13, 3.4861383970888147)</td>\n",
              "      <td>(-7.43, -7.924678858060033)</td>\n",
              "      <td>(2.14, 1.1050243749349662)</td>\n",
              "      <td>(-4.08, 3.230772824480389)</td>\n",
              "      <td>(-9.08, -9.43524632716985)</td>\n",
              "      <td>(7.82, -2.7048045349939454)</td>\n",
              "      <td>(5.05, 2.8468488044344338)</td>\n",
              "      <td>(4.95, 3.677915372967918)</td>\n",
              "      <td>(-9.17, -9.134241641498674)</td>\n",
              "      <td>(-8.4, -3.4623795213690145)</td>\n",
              "      <td>(-8.4, -2.5232523724171494)</td>\n",
              "      <td>(-8.4, -3.681078123291366)</td>\n",
              "      <td>...</td>\n",
              "      <td>(8.59, 1.2081870518455884)</td>\n",
              "      <td>(3.59, 2.1072671205350417)</td>\n",
              "      <td>(-6.84, -5.404445411993485)</td>\n",
              "      <td>(-9.03, -8.325673636222989)</td>\n",
              "      <td>(2.82, 1.3410253345214356)</td>\n",
              "      <td>(-1.36, 1.5207278507558821)</td>\n",
              "      <td>(-9.08, -8.801516770524481)</td>\n",
              "      <td>(8.3, 1.7427717251742119)</td>\n",
              "      <td>(5.68, 1.7599653991379267)</td>\n",
              "      <td>(-4.81, -4.67304771456647)</td>\n",
              "      <td>(nan, -6.768974195031788)</td>\n",
              "      <td>(nan, 1.179561485272741)</td>\n",
              "      <td>(nan, -3.3626856874933044)</td>\n",
              "      <td>(nan, -9.208979161161738)</td>\n",
              "      <td>(nan, -6.039321949882855)</td>\n",
              "      <td>(nan, 0.5626705472120188)</td>\n",
              "      <td>(nan, -4.203292547385073)</td>\n",
              "      <td>(-9.42, -2.253310326691273)</td>\n",
              "      <td>(nan, -5.362383663799526)</td>\n",
              "      <td>(nan, -2.6826072318335243)</td>\n",
              "      <td>(nan, -1.3232191945922265)</td>\n",
              "      <td>(-7.72, -4.627775689508619)</td>\n",
              "      <td>(nan, -0.3424574855509701)</td>\n",
              "      <td>(nan, -4.811224900077976)</td>\n",
              "      <td>(nan, -4.15676036474798)</td>\n",
              "      <td>(nan, -6.246809253283032)</td>\n",
              "      <td>(nan, -1.1276016893746226)</td>\n",
              "      <td>(nan, -1.2581393215378702)</td>\n",
              "      <td>(nan, 3.1914196886042534)</td>\n",
              "      <td>(nan, -5.308907811509765)</td>\n",
              "      <td>(2.82, -1.48225406039546)</td>\n",
              "      <td>(nan, -3.190369084315924)</td>\n",
              "      <td>(nan, 0.24091913850002794)</td>\n",
              "      <td>(nan, -4.7195035495293345)</td>\n",
              "      <td>(nan, -3.9316268999376742)</td>\n",
              "      <td>(nan, -2.8648240006837775)</td>\n",
              "      <td>(-5.63, -2.166543573362345)</td>\n",
              "      <td>(nan, -2.4522406861925248)</td>\n",
              "      <td>(nan, -6.189759896172056)</td>\n",
              "      <td>(nan, -2.570001981925177)</td>\n",
              "    </tr>\n",
              "    <tr>\n",
              "      <th>1</th>\n",
              "      <td>(4.08, 2.9895426092538395)</td>\n",
              "      <td>(-0.29, 3.160006069850505)</td>\n",
              "      <td>(6.36, 3.7931171201593874)</td>\n",
              "      <td>(4.37, 5.267060678501969)</td>\n",
              "      <td>(-2.38, 2.2253301428957215)</td>\n",
              "      <td>(-9.66, 2.5301765627674313)</td>\n",
              "      <td>(-0.73, 2.9863230922387056)</td>\n",
              "      <td>(-5.34, 2.3315782038447534)</td>\n",
              "      <td>(8.88, 5.069097853226111)</td>\n",
              "      <td>(9.22, 2.9977030738451074)</td>\n",
              "      <td>(6.75, 2.4064759754040814)</td>\n",
              "      <td>(8.64, 2.579906799690287)</td>\n",
              "      <td>(4.42, 3.149697487090718)</td>\n",
              "      <td>(7.43, 2.4973977428973617)</td>\n",
              "      <td>(4.56, 3.02096174960234)</td>\n",
              "      <td>(-0.97, 4.315951074580214)</td>\n",
              "      <td>(4.66, 2.4624697863413822)</td>\n",
              "      <td>(-0.68, 2.953730268230264)</td>\n",
              "      <td>(3.3, 2.7366153291384467)</td>\n",
              "      <td>(-1.21, 3.588247378438737)</td>\n",
              "      <td>(0.87, 1.649140622336931)</td>\n",
              "      <td>(8.64, 3.49901901718034)</td>\n",
              "      <td>(8.35, 4.022087183670387)</td>\n",
              "      <td>(9.17, 5.5083592868680995)</td>\n",
              "      <td>(0.05, 3.5505627675746916)</td>\n",
              "      <td>(7.57, 2.4471714514053917)</td>\n",
              "      <td>(4.71, 0.2579335745042737)</td>\n",
              "      <td>(0.87, 2.407671883021254)</td>\n",
              "      <td>(-0.39, 0.14192225973609207)</td>\n",
              "      <td>(6.99, 4.869483671130696)</td>\n",
              "      <td>(6.5, 1.2715281662558984)</td>\n",
              "      <td>(-0.92, 0.3463835375276199)</td>\n",
              "      <td>(7.14, 5.211719752095795)</td>\n",
              "      <td>(9.03, 2.7873264780917113)</td>\n",
              "      <td>(-1.8, 0.5447719756916294)</td>\n",
              "      <td>(0.73, 0.06657171804350588)</td>\n",
              "      <td>(7.09, 4.853024635993378)</td>\n",
              "      <td>(3.4, 3.0744592388364342)</td>\n",
              "      <td>(-0.87, 2.80923441017967)</td>\n",
              "      <td>(7.91, 3.232540325118585)</td>\n",
              "      <td>...</td>\n",
              "      <td>(-6.7, 1.3223748514512954)</td>\n",
              "      <td>(-3.35, 0.9024783316528356)</td>\n",
              "      <td>(-9.03, 3.7939371648399676)</td>\n",
              "      <td>(4.47, 4.7199807744010736)</td>\n",
              "      <td>(4.08, 1.1734293638808948)</td>\n",
              "      <td>(-3.83, 1.0931393323051086)</td>\n",
              "      <td>(8.74, 4.950919578531483)</td>\n",
              "      <td>(1.12, 0.962757141647987)</td>\n",
              "      <td>(0.78, 1.0327304437082299)</td>\n",
              "      <td>(7.52, 3.545976299358468)</td>\n",
              "      <td>(-5.0, 3.960658038323544)</td>\n",
              "      <td>(2.77, 1.3057017824102952)</td>\n",
              "      <td>(8.3, 3.1049807002400214)</td>\n",
              "      <td>(7.77, 4.9535719708230666)</td>\n",
              "      <td>(7.33, 3.784496461256011)</td>\n",
              "      <td>(6.21, 1.4486504417593238)</td>\n",
              "      <td>(7.72, 3.3186426265288325)</td>\n",
              "      <td>(8.98, 2.7217445044942328)</td>\n",
              "      <td>(8.64, 3.7786720203391875)</td>\n",
              "      <td>(8.2, 2.876217316495681)</td>\n",
              "      <td>(3.93, 2.2329207369156694)</td>\n",
              "      <td>(4.85, 3.515321312198064)</td>\n",
              "      <td>(4.85, 1.8524454190520763)</td>\n",
              "      <td>(6.07, 3.5721738667127565)</td>\n",
              "      <td>(8.98, 3.40311337174721)</td>\n",
              "      <td>(4.51, 3.872165518408179)</td>\n",
              "      <td>(-0.05, 2.0596672864552072)</td>\n",
              "      <td>(3.69, 2.1501729687647466)</td>\n",
              "      <td>(4.56, 0.41198893915429896)</td>\n",
              "      <td>(0.58, 3.7805879704261054)</td>\n",
              "      <td>(2.82, 2.2032282222818065)</td>\n",
              "      <td>(-4.95, 2.9150588818052032)</td>\n",
              "      <td>(-0.29, 1.6005104016361378)</td>\n",
              "      <td>(7.86, 3.4637166558610515)</td>\n",
              "      <td>(-0.19, 3.05976058507909)</td>\n",
              "      <td>(-2.14, 2.765037932801795)</td>\n",
              "      <td>(3.06, 2.414522391422987)</td>\n",
              "      <td>(0.34, 2.517275858441028)</td>\n",
              "      <td>(-4.32, 3.9509926458815166)</td>\n",
              "      <td>(1.07, 2.760854149536372)</td>\n",
              "    </tr>\n",
              "    <tr>\n",
              "      <th>2</th>\n",
              "      <td>(nan, 6.859448942286339)</td>\n",
              "      <td>(nan, 7.1562028677162735)</td>\n",
              "      <td>(nan, 7.4519016889773475)</td>\n",
              "      <td>(nan, 7.194614763221614)</td>\n",
              "      <td>(9.03, 5.502166622493238)</td>\n",
              "      <td>(9.27, 8.634740647091968)</td>\n",
              "      <td>(9.03, 4.94310378995899)</td>\n",
              "      <td>(9.27, 2.995302114539468)</td>\n",
              "      <td>(nan, 7.574846791369159)</td>\n",
              "      <td>(nan, 7.242004346178034)</td>\n",
              "      <td>(7.33, 8.348764542909427)</td>\n",
              "      <td>(7.57, 8.915343474594017)</td>\n",
              "      <td>(9.37, 2.832463201444784)</td>\n",
              "      <td>(6.17, 8.840158610908878)</td>\n",
              "      <td>(-6.36, 2.1181510699964434)</td>\n",
              "      <td>(-6.89, 1.8532310433810701)</td>\n",
              "      <td>(-7.86, 3.354953595402689)</td>\n",
              "      <td>(9.03, 4.1302990118464145)</td>\n",
              "      <td>(9.03, 5.801065315760842)</td>\n",
              "      <td>(9.03, 5.588097848807808)</td>\n",
              "      <td>(7.28, 8.482286094775946)</td>\n",
              "      <td>(nan, 8.514560147992201)</td>\n",
              "      <td>(8.25, 7.687715746736723)</td>\n",
              "      <td>(nan, 6.468608267686128)</td>\n",
              "      <td>(nan, 8.133572200404195)</td>\n",
              "      <td>(7.48, 8.5911078304996)</td>\n",
              "      <td>(7.28, 7.5030073787925415)</td>\n",
              "      <td>(7.28, 8.21287887484161)</td>\n",
              "      <td>(8.93, 7.074575826937723)</td>\n",
              "      <td>(nan, 8.313480014890075)</td>\n",
              "      <td>(6.17, 8.005453609044174)</td>\n",
              "      <td>(7.28, 7.5658705540893125)</td>\n",
              "      <td>(nan, 7.14497595944687)</td>\n",
              "      <td>(nan, 8.124808938128096)</td>\n",
              "      <td>(8.98, 7.792333024795118)</td>\n",
              "      <td>(7.33, 7.073035371212577)</td>\n",
              "      <td>(nan, 6.012892323612699)</td>\n",
              "      <td>(6.17, 8.081447252406308)</td>\n",
              "      <td>(9.08, 8.561449130911404)</td>\n",
              "      <td>(7.33, 8.422218236336732)</td>\n",
              "      <td>...</td>\n",
              "      <td>(6.46, 8.43397928905042)</td>\n",
              "      <td>(7.28, 8.113638263414346)</td>\n",
              "      <td>(nan, 7.892313845525806)</td>\n",
              "      <td>(nan, 6.873977969163985)</td>\n",
              "      <td>(7.04, 7.978315665599329)</td>\n",
              "      <td>(7.28, 7.931373102440877)</td>\n",
              "      <td>(nan, 7.084426971949792)</td>\n",
              "      <td>(7.28, 7.726895791910602)</td>\n",
              "      <td>(8.25, 8.087272435975933)</td>\n",
              "      <td>(nan, 8.071611389377106)</td>\n",
              "      <td>(nan, 6.167570003467171)</td>\n",
              "      <td>(nan, 8.30302429166574)</td>\n",
              "      <td>(nan, 8.408097747992839)</td>\n",
              "      <td>(nan, 6.347947382346218)</td>\n",
              "      <td>(nan, 6.681012364179661)</td>\n",
              "      <td>(8.93, 7.840791648655806)</td>\n",
              "      <td>(nan, 7.866911228530152)</td>\n",
              "      <td>(nan, 8.64654358950939)</td>\n",
              "      <td>(nan, 7.897901880354173)</td>\n",
              "      <td>(9.08, 8.583267701889428)</td>\n",
              "      <td>(nan, 8.0593442646942)</td>\n",
              "      <td>(nan, 8.010790061532013)</td>\n",
              "      <td>(nan, 8.074362108493574)</td>\n",
              "      <td>(nan, 7.940723631470234)</td>\n",
              "      <td>(nan, 8.349331000430492)</td>\n",
              "      <td>(nan, 6.711555480964945)</td>\n",
              "      <td>(nan, 7.604860522368121)</td>\n",
              "      <td>(nan, 7.790170115899047)</td>\n",
              "      <td>(nan, 7.801787704587949)</td>\n",
              "      <td>(9.03, 8.00519612780745)</td>\n",
              "      <td>(nan, 7.627516000454557)</td>\n",
              "      <td>(nan, 7.832468171423365)</td>\n",
              "      <td>(nan, 7.962914645543978)</td>\n",
              "      <td>(9.08, 7.599720937511597)</td>\n",
              "      <td>(nan, 7.149878008455097)</td>\n",
              "      <td>(nan, 7.725958890295377)</td>\n",
              "      <td>(nan, 7.36252574750136)</td>\n",
              "      <td>(nan, 7.320189182500292)</td>\n",
              "      <td>(nan, 7.186789632765482)</td>\n",
              "      <td>(nan, 8.248202923927312)</td>\n",
              "    </tr>\n",
              "    <tr>\n",
              "      <th>3</th>\n",
              "      <td>(nan, 1.9515083833497422)</td>\n",
              "      <td>(8.35, 2.006256927028824)</td>\n",
              "      <td>(nan, 1.7265431184555005)</td>\n",
              "      <td>(nan, 0.5088876696171485)</td>\n",
              "      <td>(1.8, 1.68995538441423)</td>\n",
              "      <td>(8.16, 3.3463313400806842)</td>\n",
              "      <td>(-2.82, 0.8059831459834296)</td>\n",
              "      <td>(6.21, 0.11173413685447926)</td>\n",
              "      <td>(nan, 0.8794813099208161)</td>\n",
              "      <td>(1.84, 2.1747622958503405)</td>\n",
              "      <td>(7.33, 3.264296014062052)</td>\n",
              "      <td>(6.6, 3.4785226178343005)</td>\n",
              "      <td>(6.31, -0.5761291146655206)</td>\n",
              "      <td>(8.11, 3.4930242069689483)</td>\n",
              "      <td>(-7.23, -0.9110950511860153)</td>\n",
              "      <td>(-6.65, -2.0041954238233095)</td>\n",
              "      <td>(1.17, 0.23271061138672436)</td>\n",
              "      <td>(-6.6, 0.34264892035048045)</td>\n",
              "      <td>(-3.64, 1.5000635237855915)</td>\n",
              "      <td>(-2.09, 0.7579927346890805)</td>\n",
              "      <td>(5.34, 3.890739250655749)</td>\n",
              "      <td>(nan, 2.575262949718416)</td>\n",
              "      <td>(nan, 1.7025737057465966)</td>\n",
              "      <td>(nan, -0.10008681300745599)</td>\n",
              "      <td>(nan, 2.3098674292016335)</td>\n",
              "      <td>(2.91, 3.3800898427094515)</td>\n",
              "      <td>(3.93, 4.308019470101733)</td>\n",
              "      <td>(6.75, 3.182040581438376)</td>\n",
              "      <td>(6.6, 4.135108173151834)</td>\n",
              "      <td>(nan, 1.4659408946597263)</td>\n",
              "      <td>(6.65, 3.8775991271887604)</td>\n",
              "      <td>(-6.12, 4.281850711582534)</td>\n",
              "      <td>(nan, 0.5190872076504957)</td>\n",
              "      <td>(7.57, 2.8553431215030063)</td>\n",
              "      <td>(6.21, 4.274346539691584)</td>\n",
              "      <td>(6.65, 4.188555797681075)</td>\n",
              "      <td>(nan, 0.09981605615830401)</td>\n",
              "      <td>(-8.3, 2.622185443721414)</td>\n",
              "      <td>(7.18, 3.101072932229555)</td>\n",
              "      <td>(2.82, 2.712233920671122)</td>\n",
              "      <td>...</td>\n",
              "      <td>(0.0, 4.097587329226219)</td>\n",
              "      <td>(-3.69, 4.20869283240271)</td>\n",
              "      <td>(nan, 1.9897485362044995)</td>\n",
              "      <td>(nan, 0.7115871092824501)</td>\n",
              "      <td>(7.82, 3.9321287748421256)</td>\n",
              "      <td>(0.24, 3.9619457056390526)</td>\n",
              "      <td>(nan, 0.6710040155104983)</td>\n",
              "      <td>(7.28, 3.9335475650185687)</td>\n",
              "      <td>(-2.33, 4.098914903199398)</td>\n",
              "      <td>(nan, 2.2760637104130326)</td>\n",
              "      <td>(nan, 0.8363651826971774)</td>\n",
              "      <td>(nan, 4.0311788896681)</td>\n",
              "      <td>(nan, 2.795818638012262)</td>\n",
              "      <td>(nan, 0.22795516928070575)</td>\n",
              "      <td>(nan, 1.2710178431433683)</td>\n",
              "      <td>(nan, 3.651164999906481)</td>\n",
              "      <td>(nan, 2.31748889622198)</td>\n",
              "      <td>(nan, 3.215172294560744)</td>\n",
              "      <td>(nan, 2.0041104413533954)</td>\n",
              "      <td>(nan, 3.0658092437956292)</td>\n",
              "      <td>(nan, 3.2161710818530853)</td>\n",
              "      <td>(nan, 2.2617526510889356)</td>\n",
              "      <td>(nan, 3.499704160065642)</td>\n",
              "      <td>(nan, 2.1787615894905352)</td>\n",
              "      <td>(0.63, 2.5454965171349264)</td>\n",
              "      <td>(nan, 1.2260535594160087)</td>\n",
              "      <td>(nan, 3.0689590285491244)</td>\n",
              "      <td>(-2.33, 3.114649628887373)</td>\n",
              "      <td>(nan, 4.375821292630637)</td>\n",
              "      <td>(nan, 2.066994837881814)</td>\n",
              "      <td>(nan, 2.978940593130393)</td>\n",
              "      <td>(nan, 2.588070224623475)</td>\n",
              "      <td>(nan, 3.6147371202018843)</td>\n",
              "      <td>(0.53, 2.0527674652372414)</td>\n",
              "      <td>(nan, 2.0748021225799036)</td>\n",
              "      <td>(nan, 2.632523408344084)</td>\n",
              "      <td>(nan, 2.66775479246057)</td>\n",
              "      <td>(nan, 2.568252808345093)</td>\n",
              "      <td>(nan, 1.4538293907122954)</td>\n",
              "      <td>(nan, 2.94835489690693)</td>\n",
              "    </tr>\n",
              "    <tr>\n",
              "      <th>4</th>\n",
              "      <td>(8.5, 2.9109339366633167)</td>\n",
              "      <td>(4.61, 2.99543128744979)</td>\n",
              "      <td>(-4.17, 2.612928120994883)</td>\n",
              "      <td>(-5.39, 0.9058673914824547)</td>\n",
              "      <td>(1.36, 2.5089009892237137)</td>\n",
              "      <td>(1.6, 4.906574035773435)</td>\n",
              "      <td>(7.04, 1.2595297643493435)</td>\n",
              "      <td>(4.61, 0.23733724911861076)</td>\n",
              "      <td>(-0.44, 1.4336102405576774)</td>\n",
              "      <td>(5.73, 3.233026116590539)</td>\n",
              "      <td>(8.25, 4.7842719090781705)</td>\n",
              "      <td>(6.84, 5.098757324070402)</td>\n",
              "      <td>(-3.93, -0.7274700182578683)</td>\n",
              "      <td>(7.23, 5.116962651454572)</td>\n",
              "      <td>(-2.33, -1.21454167800229)</td>\n",
              "      <td>(-9.66, -2.7479075466835035)</td>\n",
              "      <td>(2.72, 0.416009095372418)</td>\n",
              "      <td>(-1.36, 0.5905575091022458)</td>\n",
              "      <td>(2.57, 2.2518929166404957)</td>\n",
              "      <td>(4.51, 1.2100406004394502)</td>\n",
              "      <td>(8.2, 5.662529277954566)</td>\n",
              "      <td>(6.12, 3.826755227812257)</td>\n",
              "      <td>(8.3, 2.5858657293524367)</td>\n",
              "      <td>(-1.26, 0.03591110835785682)</td>\n",
              "      <td>(7.77, 3.4458680612292434)</td>\n",
              "      <td>(1.89, 4.952522384379758)</td>\n",
              "      <td>(-1.17, 6.218538647816506)</td>\n",
              "      <td>(5.68, 4.665738083645268)</td>\n",
              "      <td>(8.45, 5.965488417082748)</td>\n",
              "      <td>(4.61, 2.2724743949745836)</td>\n",
              "      <td>(8.06, 5.631235127656747)</td>\n",
              "      <td>(-9.47, 6.183709186774889)</td>\n",
              "      <td>(7.28, 0.918759939760856)</td>\n",
              "      <td>(5.68, 4.207215972372893)</td>\n",
              "      <td>(2.48, 6.179381407875167)</td>\n",
              "      <td>(3.2, 6.040069446087295)</td>\n",
              "      <td>(-1.26, 0.3026381437016087)</td>\n",
              "      <td>(6.8, 3.8805068792717607)</td>\n",
              "      <td>(4.51, 4.5621573393842185)</td>\n",
              "      <td>(2.48, 4.015484780623658)</td>\n",
              "      <td>...</td>\n",
              "      <td>(7.38, 5.950016060141686)</td>\n",
              "      <td>(6.17, 6.096441420312808)</td>\n",
              "      <td>(4.71, 2.992371122289673)</td>\n",
              "      <td>(-2.28, 1.1801669503383352)</td>\n",
              "      <td>(7.38, 5.706631779247152)</td>\n",
              "      <td>(4.56, 5.746987083854675)</td>\n",
              "      <td>(7.14, 1.1292199871407642)</td>\n",
              "      <td>(4.22, 5.701785526977703)</td>\n",
              "      <td>(3.01, 5.94245499518005)</td>\n",
              "      <td>(3.83, 3.39698925404204)</td>\n",
              "      <td>(nan, 1.3351983660118385)</td>\n",
              "      <td>(nan, 5.8537414839057895)</td>\n",
              "      <td>(nan, 4.131801213014211)</td>\n",
              "      <td>(nan, 0.4906424699002334)</td>\n",
              "      <td>(nan, 1.955996805536757)</td>\n",
              "      <td>(nan, 5.310619533430565)</td>\n",
              "      <td>(4.13, 3.4492680410664707)</td>\n",
              "      <td>(nan, 4.7237720306512845)</td>\n",
              "      <td>(nan, 3.012574761892645)</td>\n",
              "      <td>(nan, 4.513515118385521)</td>\n",
              "      <td>(5.24, 4.709221496676529)</td>\n",
              "      <td>(5.92, 3.3753567794520754)</td>\n",
              "      <td>(0.87, 5.105494391499498)</td>\n",
              "      <td>(7.28, 3.257583158585394)</td>\n",
              "      <td>(3.93, 3.780709039102032)</td>\n",
              "      <td>(-0.63, 1.8940476525661236)</td>\n",
              "      <td>(6.31, 4.491344775676957)</td>\n",
              "      <td>(4.71, 4.560169346450093)</td>\n",
              "      <td>(2.82, 6.3213158377170195)</td>\n",
              "      <td>(2.96, 3.103286623598173)</td>\n",
              "      <td>(5.19, 4.366277434350164)</td>\n",
              "      <td>(5.58, 3.8261147963070847)</td>\n",
              "      <td>(4.27, 5.263075587582808)</td>\n",
              "      <td>(5.19, 3.072412132896142)</td>\n",
              "      <td>(5.73, 3.090961425893761)</td>\n",
              "      <td>(1.55, 3.8852875449813147)</td>\n",
              "      <td>(3.11, 3.924608334809015)</td>\n",
              "      <td>(6.55, 3.7845353715738224)</td>\n",
              "      <td>(1.8, 2.2249699080530965)</td>\n",
              "      <td>(1.6, 4.340428456094622)</td>\n",
              "    </tr>\n",
              "    <tr>\n",
              "      <th>...</th>\n",
              "      <td>...</td>\n",
              "      <td>...</td>\n",
              "      <td>...</td>\n",
              "      <td>...</td>\n",
              "      <td>...</td>\n",
              "      <td>...</td>\n",
              "      <td>...</td>\n",
              "      <td>...</td>\n",
              "      <td>...</td>\n",
              "      <td>...</td>\n",
              "      <td>...</td>\n",
              "      <td>...</td>\n",
              "      <td>...</td>\n",
              "      <td>...</td>\n",
              "      <td>...</td>\n",
              "      <td>...</td>\n",
              "      <td>...</td>\n",
              "      <td>...</td>\n",
              "      <td>...</td>\n",
              "      <td>...</td>\n",
              "      <td>...</td>\n",
              "      <td>...</td>\n",
              "      <td>...</td>\n",
              "      <td>...</td>\n",
              "      <td>...</td>\n",
              "      <td>...</td>\n",
              "      <td>...</td>\n",
              "      <td>...</td>\n",
              "      <td>...</td>\n",
              "      <td>...</td>\n",
              "      <td>...</td>\n",
              "      <td>...</td>\n",
              "      <td>...</td>\n",
              "      <td>...</td>\n",
              "      <td>...</td>\n",
              "      <td>...</td>\n",
              "      <td>...</td>\n",
              "      <td>...</td>\n",
              "      <td>...</td>\n",
              "      <td>...</td>\n",
              "      <td>...</td>\n",
              "      <td>...</td>\n",
              "      <td>...</td>\n",
              "      <td>...</td>\n",
              "      <td>...</td>\n",
              "      <td>...</td>\n",
              "      <td>...</td>\n",
              "      <td>...</td>\n",
              "      <td>...</td>\n",
              "      <td>...</td>\n",
              "      <td>...</td>\n",
              "      <td>...</td>\n",
              "      <td>...</td>\n",
              "      <td>...</td>\n",
              "      <td>...</td>\n",
              "      <td>...</td>\n",
              "      <td>...</td>\n",
              "      <td>...</td>\n",
              "      <td>...</td>\n",
              "      <td>...</td>\n",
              "      <td>...</td>\n",
              "      <td>...</td>\n",
              "      <td>...</td>\n",
              "      <td>...</td>\n",
              "      <td>...</td>\n",
              "      <td>...</td>\n",
              "      <td>...</td>\n",
              "      <td>...</td>\n",
              "      <td>...</td>\n",
              "      <td>...</td>\n",
              "      <td>...</td>\n",
              "      <td>...</td>\n",
              "      <td>...</td>\n",
              "      <td>...</td>\n",
              "      <td>...</td>\n",
              "      <td>...</td>\n",
              "      <td>...</td>\n",
              "      <td>...</td>\n",
              "      <td>...</td>\n",
              "      <td>...</td>\n",
              "      <td>...</td>\n",
              "    </tr>\n",
              "    <tr>\n",
              "      <th>24978</th>\n",
              "      <td>(0.44, 2.2929576834924057)</td>\n",
              "      <td>(7.43, 2.3363012392189266)</td>\n",
              "      <td>(9.08, 1.7503873502601666)</td>\n",
              "      <td>(2.33, -0.4895263259137099)</td>\n",
              "      <td>(3.2, 2.073737159582302)</td>\n",
              "      <td>(6.75, 4.5609445075766315)</td>\n",
              "      <td>(-8.79, 0.5225321172018882)</td>\n",
              "      <td>(-0.53, -0.3922482114212466)</td>\n",
              "      <td>(-8.74, 0.1314561261558362)</td>\n",
              "      <td>(7.23, 2.6361743120989587)</td>\n",
              "      <td>(-0.53, 4.4640782165984065)</td>\n",
              "      <td>(5.63, 4.7532869203358565)</td>\n",
              "      <td>(-7.14, -1.654073873927473)</td>\n",
              "      <td>(-4.08, 4.795703617303887)</td>\n",
              "      <td>(-3.5, -2.140800121830856)</td>\n",
              "      <td>(-8.2, -4.144761369571251)</td>\n",
              "      <td>(-3.98, -0.23691389199514282)</td>\n",
              "      <td>(-9.22, -0.18597487585274386)</td>\n",
              "      <td>(-0.15, 1.6562275894928409)</td>\n",
              "      <td>(-6.46, 0.3024653427639456)</td>\n",
              "      <td>(5.63, 5.6162067789479915)</td>\n",
              "      <td>(-0.92, 3.133942725149913)</td>\n",
              "      <td>(-2.91, 1.6578396742285768)</td>\n",
              "      <td>(-4.17, -1.4895936728336259)</td>\n",
              "      <td>(2.82, 2.7110988259941866)</td>\n",
              "      <td>(3.4, 4.633256362738199)</td>\n",
              "      <td>(8.64, 6.598534501217028)</td>\n",
              "      <td>(6.84, 4.3366054481980605)</td>\n",
              "      <td>(6.8, 6.3592928697245)</td>\n",
              "      <td>(-0.87, 1.086609662514552)</td>\n",
              "      <td>(7.38, 5.687396353687745)</td>\n",
              "      <td>(-3.5, 6.5366384226961864)</td>\n",
              "      <td>(8.88, -0.46034508930854157)</td>\n",
              "      <td>(7.43, 3.739465724034591)</td>\n",
              "      <td>(5.39, 6.4769600656835395)</td>\n",
              "      <td>(2.23, 6.460193022094569)</td>\n",
              "      <td>(-0.68, -1.021697642283698)</td>\n",
              "      <td>(3.4, 3.3093775752619776)</td>\n",
              "      <td>(-0.58, 4.1141030592866805)</td>\n",
              "      <td>(4.42, 3.410302341295228)</td>\n",
              "      <td>...</td>\n",
              "      <td>(8.59, 6.01521941040241)</td>\n",
              "      <td>(3.45, 6.288763681614695)</td>\n",
              "      <td>(0.87, 2.1571556118735122)</td>\n",
              "      <td>(9.27, -0.04353960834649143)</td>\n",
              "      <td>(-4.66, 5.795482107870803)</td>\n",
              "      <td>(5.73, 5.861041578252325)</td>\n",
              "      <td>(-0.49, -0.16225236477735155)</td>\n",
              "      <td>(8.35, 5.848728003829289)</td>\n",
              "      <td>(1.94, 6.0874615866237125)</td>\n",
              "      <td>(5.0, 2.659943112668722)</td>\n",
              "      <td>(-9.66, 0.33339823291948156)</td>\n",
              "      <td>(8.98, 5.916579374920936)</td>\n",
              "      <td>(8.98, 3.5704521448786797)</td>\n",
              "      <td>(-9.81, -0.8479351674883339)</td>\n",
              "      <td>(9.13, 1.048145348266776)</td>\n",
              "      <td>(9.08, 5.2943629522022295)</td>\n",
              "      <td>(9.08, 2.7790842769108206)</td>\n",
              "      <td>(3.98, 4.311724374615288)</td>\n",
              "      <td>(0.73, 2.183061122546979)</td>\n",
              "      <td>(9.03, 4.043346551528784)</td>\n",
              "      <td>(8.98, 4.4317252879638644)</td>\n",
              "      <td>(9.22, 2.645244038455973)</td>\n",
              "      <td>(8.93, 4.9623233331136785)</td>\n",
              "      <td>(9.13, 2.503146576765569)</td>\n",
              "      <td>(9.27, 3.1111588078753374)</td>\n",
              "      <td>(-1.99, 0.957376953596381)</td>\n",
              "      <td>(-9.95, 4.246091184998731)</td>\n",
              "      <td>(-9.9, 4.294805548082717)</td>\n",
              "      <td>(9.13, 6.666037147027782)</td>\n",
              "      <td>(8.83, 2.279828389726397)</td>\n",
              "      <td>(8.83, 4.072116001312268)</td>\n",
              "      <td>(-1.21, 3.29525624897447)</td>\n",
              "      <td>(9.22, 5.201238133207756)</td>\n",
              "      <td>(-6.7, 2.3346174728191347)</td>\n",
              "      <td>(8.45, 2.466577973087158)</td>\n",
              "      <td>(9.03, 3.400344108173205)</td>\n",
              "      <td>(6.55, 3.539759089722615)</td>\n",
              "      <td>(8.69, 3.361009355536358)</td>\n",
              "      <td>(8.79, 1.290460709616803)</td>\n",
              "      <td>(7.43, 3.889695130653832)</td>\n",
              "    </tr>\n",
              "    <tr>\n",
              "      <th>24979</th>\n",
              "      <td>(9.13, 2.383570579148689)</td>\n",
              "      <td>(-8.16, 2.5519910113058573)</td>\n",
              "      <td>(8.59, 3.4553279505529697)</td>\n",
              "      <td>(9.08, 5.884163290974621)</td>\n",
              "      <td>(0.87, 1.6377809605882507)</td>\n",
              "      <td>(-8.93, 1.0426670679683205)</td>\n",
              "      <td>(-3.5, 3.038610269039384)</td>\n",
              "      <td>(5.78, 2.670048906086272)</td>\n",
              "      <td>(-8.11, 5.438870447148337)</td>\n",
              "      <td>(4.9, 2.2647426399552333)</td>\n",
              "      <td>(8.88, 0.9447800105507319)</td>\n",
              "      <td>(-8.69, 1.024961217965745)</td>\n",
              "      <td>(-7.48, 4.02508558285487)</td>\n",
              "      <td>(-8.83, 0.91986028449404)</td>\n",
              "      <td>(-1.75, 4.0667592959659435)</td>\n",
              "      <td>(6.6, 6.2140955994231515)</td>\n",
              "      <td>(3.54, 2.7539731907242078)</td>\n",
              "      <td>(1.5, 3.2668608352580546)</td>\n",
              "      <td>(7.67, 2.346590704009823)</td>\n",
              "      <td>(-0.44, 3.772104654140549)</td>\n",
              "      <td>(9.22, -0.3036496608392591)</td>\n",
              "      <td>(8.74, 2.6223141883857273)</td>\n",
              "      <td>(9.03, 3.737633104943363)</td>\n",
              "      <td>(9.08, 6.517375031258904)</td>\n",
              "      <td>(8.93, 2.83539550810922)</td>\n",
              "      <td>(3.74, 0.9259093467344799)</td>\n",
              "      <td>(3.2, -2.1751451043132204)</td>\n",
              "      <td>(-9.17, 0.9934892906510361)</td>\n",
              "      <td>(-8.98, -2.2117500735112614)</td>\n",
              "      <td>(8.79, 4.867492029579065)</td>\n",
              "      <td>(-7.67, -0.7389296055826416)</td>\n",
              "      <td>(-3.06, -2.056367066462304)</td>\n",
              "      <td>(9.13, 5.813397412391132)</td>\n",
              "      <td>(8.4, 1.6266117502822217)</td>\n",
              "      <td>(-0.63, -1.8193953742619269)</td>\n",
              "      <td>(-7.18, -2.3308546805878048)</td>\n",
              "      <td>(0.58, 5.633876755479356)</td>\n",
              "      <td>(8.88, 2.097434497929299)</td>\n",
              "      <td>(9.27, 1.5109795107761808)</td>\n",
              "      <td>(8.5, 2.2310320364460208)</td>\n",
              "      <td>...</td>\n",
              "      <td>(2.77, -0.805819995457933)</td>\n",
              "      <td>(8.11, -1.3621439261928119)</td>\n",
              "      <td>(-7.96, 3.3049147487146384)</td>\n",
              "      <td>(8.93, 5.126010137376989)</td>\n",
              "      <td>(-0.87, -0.8853340530446023)</td>\n",
              "      <td>(-5.87, -0.9966408416318471)</td>\n",
              "      <td>(8.88, 5.42017896349669)</td>\n",
              "      <td>(-1.12, -1.1332114666619306)</td>\n",
              "      <td>(-8.74, -1.1462579259355443)</td>\n",
              "      <td>(8.74, 2.8494580429670875)</td>\n",
              "      <td>(nan, 4.163767839172161)</td>\n",
              "      <td>(nan, -0.787180117851904)</td>\n",
              "      <td>(nan, 2.03336785328978)</td>\n",
              "      <td>(nan, 5.678096077018535)</td>\n",
              "      <td>(nan, 3.7072002823044308)</td>\n",
              "      <td>(4.9, -0.4009862045881402)</td>\n",
              "      <td>(nan, 2.5590327545158047)</td>\n",
              "      <td>(nan, 1.3427566469903192)</td>\n",
              "      <td>(nan, 3.278753040716086)</td>\n",
              "      <td>(nan, 1.609813190043789)</td>\n",
              "      <td>(-0.29, 0.7689243843349305)</td>\n",
              "      <td>(0.92, 2.821738635459254)</td>\n",
              "      <td>(-0.78, 0.15966416996923471)</td>\n",
              "      <td>(0.15, 2.936141158450246)</td>\n",
              "      <td>(-0.1, 2.5269621430366636)</td>\n",
              "      <td>(0.0, 3.8358722253277016)</td>\n",
              "      <td>(-0.19, 0.6504097311559629)</td>\n",
              "      <td>(-0.87, 0.7302707638176622)</td>\n",
              "      <td>(-1.36, -2.03347413442104)</td>\n",
              "      <td>(-0.58, 3.2448338110135277)</td>\n",
              "      <td>(-1.17, 0.8705392813611111)</td>\n",
              "      <td>(-5.73, 1.9301214361593961)</td>\n",
              "      <td>(-1.46, -0.2019451872153887)</td>\n",
              "      <td>(0.24, 2.881412067843135)</td>\n",
              "      <td>(9.22, 2.395008454864419)</td>\n",
              "      <td>(-8.2, 1.7286215615803746)</td>\n",
              "      <td>(-7.23, 1.2972994994850207)</td>\n",
              "      <td>(-8.59, 1.4750271304451161)</td>\n",
              "      <td>(9.13, 3.7973164863068525)</td>\n",
              "      <td>(8.45, 1.5420738810007388)</td>\n",
              "    </tr>\n",
              "    <tr>\n",
              "      <th>24980</th>\n",
              "      <td>(nan, -0.8619382298529603)</td>\n",
              "      <td>(nan, -0.9178769653402158)</td>\n",
              "      <td>(nan, -1.183670820497476)</td>\n",
              "      <td>(nan, -1.8705186427885316)</td>\n",
              "      <td>(-7.77, -0.6130918895868945)</td>\n",
              "      <td>(nan, -0.5258944347935925)</td>\n",
              "      <td>(6.7, -0.9983813668209274)</td>\n",
              "      <td>(-6.75, -0.8416657494020207)</td>\n",
              "      <td>(nan, -1.7533939287467197)</td>\n",
              "      <td>(nan, -0.8381092049604758)</td>\n",
              "      <td>(nan, -0.49038389190083564)</td>\n",
              "      <td>(nan, -0.5282511271515262)</td>\n",
              "      <td>(-6.46, -1.224345284574833)</td>\n",
              "      <td>(-1.65, -0.496249297224641)</td>\n",
              "      <td>(-6.8, -1.2173753238386902)</td>\n",
              "      <td>(-6.41, -1.823628870401293)</td>\n",
              "      <td>(-6.99, -0.8751351324845876)</td>\n",
              "      <td>(7.23, -1.042093346898447)</td>\n",
              "      <td>(6.75, -0.8234157397809316)</td>\n",
              "      <td>(-6.99, -1.22489835662442)</td>\n",
              "      <td>(6.55, -0.13737545165633314)</td>\n",
              "      <td>(nan, -0.9738469082821375)</td>\n",
              "      <td>(nan, -1.27052363929963)</td>\n",
              "      <td>(nan, -2.0321756156803086)</td>\n",
              "      <td>(nan, -1.024634934612404)</td>\n",
              "      <td>(0.49, -0.4913971469393989)</td>\n",
              "      <td>(-0.53, 0.4229719423502646)</td>\n",
              "      <td>(-6.94, -0.5007046838163929)</td>\n",
              "      <td>(-0.49, 0.4447446234241666)</td>\n",
              "      <td>(nan, -1.609729368402204)</td>\n",
              "      <td>(6.46, -0.0004674595059256567)</td>\n",
              "      <td>(-0.53, 0.3873896292850456)</td>\n",
              "      <td>(nan, -1.848997379434375)</td>\n",
              "      <td>(nan, -0.6791898423522487)</td>\n",
              "      <td>(-7.86, 0.3137305423772193)</td>\n",
              "      <td>(-0.34, 0.47880011209156714)</td>\n",
              "      <td>(nan, -1.7678199338598777)</td>\n",
              "      <td>(-6.94, -0.8125053759120233)</td>\n",
              "      <td>(nan, -0.6577023386460804)</td>\n",
              "      <td>(nan, -0.8596620162342717)</td>\n",
              "      <td>...</td>\n",
              "      <td>(0.49, 0.007314357242742387)</td>\n",
              "      <td>(-0.24, 0.1746566461224099)</td>\n",
              "      <td>(nan, -1.1523499591845503)</td>\n",
              "      <td>(nan, -1.6455286295072826)</td>\n",
              "      <td>(-3.11, 0.04206078483242049)</td>\n",
              "      <td>(-6.65, 0.07508879464961808)</td>\n",
              "      <td>(nan, -1.7350994442241778)</td>\n",
              "      <td>(-0.58, 0.11949376093187705)</td>\n",
              "      <td>(6.31, 0.11369885555182375)</td>\n",
              "      <td>(nan, -1.027014073020692)</td>\n",
              "      <td>(nan, -1.35206158922303)</td>\n",
              "      <td>(-7.86, 0.005450748222905516)</td>\n",
              "      <td>(nan, -0.8028385391799462)</td>\n",
              "      <td>(nan, -1.7893002600503822)</td>\n",
              "      <td>(nan, -1.2352362491940714)</td>\n",
              "      <td>(nan, -0.09262966883322277)</td>\n",
              "      <td>(nan, -0.938664244992827)</td>\n",
              "      <td>(nan, -0.6119081009106382)</td>\n",
              "      <td>(nan, -1.145026132073474)</td>\n",
              "      <td>(nan, -0.6865044316926371)</td>\n",
              "      <td>(nan, -0.43251550571435504)</td>\n",
              "      <td>(nan, -1.017490913526136)</td>\n",
              "      <td>(nan, -0.25891513951511874)</td>\n",
              "      <td>(nan, -1.048311759100528)</td>\n",
              "      <td>(nan, -0.9422503541165225)</td>\n",
              "      <td>(nan, -1.2727902727528972)</td>\n",
              "      <td>(nan, -0.386662165469608)</td>\n",
              "      <td>(nan, -0.41436518596059446)</td>\n",
              "      <td>(nan, 0.37461898429511303)</td>\n",
              "      <td>(nan, -1.1381738358046938)</td>\n",
              "      <td>(nan, -0.4501269577387964)</td>\n",
              "      <td>(nan, -0.7581450580019808)</td>\n",
              "      <td>(nan, -0.15269967713985227)</td>\n",
              "      <td>(nan, -1.0236728429352504)</td>\n",
              "      <td>(nan, -0.8728776070041089)</td>\n",
              "      <td>(nan, -0.6977853303897334)</td>\n",
              "      <td>(nan, -0.5650035640358704)</td>\n",
              "      <td>(nan, -0.6146418680903301)</td>\n",
              "      <td>(nan, -1.2743344729646655)</td>\n",
              "      <td>(nan, -0.6583068334479912)</td>\n",
              "    </tr>\n",
              "    <tr>\n",
              "      <th>24981</th>\n",
              "      <td>(nan, -1.9989199540924911)</td>\n",
              "      <td>(nan, -2.148125381481074)</td>\n",
              "      <td>(nan, -3.0033215092988046)</td>\n",
              "      <td>(nan, -5.347315105423419)</td>\n",
              "      <td>(-9.71, -1.3400484218680018)</td>\n",
              "      <td>(nan, -0.6356417024543092)</td>\n",
              "      <td>(4.56, -2.7093488068415144)</td>\n",
              "      <td>(-8.3, -2.437860180492368)</td>\n",
              "      <td>(nan, -4.903462289727727)</td>\n",
              "      <td>(nan, -1.8685642870187702)</td>\n",
              "      <td>(nan, -0.5537324707027882)</td>\n",
              "      <td>(nan, -0.6067424255480565)</td>\n",
              "      <td>(-9.47, -3.7463818983112005)</td>\n",
              "      <td>(nan, -0.5089707729547169)</td>\n",
              "      <td>(3.45, -3.8166839661124183)</td>\n",
              "      <td>(-0.92, -5.890598735651257)</td>\n",
              "      <td>(-4.51, -2.5032348369802113)</td>\n",
              "      <td>(-4.13, -2.9630467640098295)</td>\n",
              "      <td>(-5.73, -2.0082500410871447)</td>\n",
              "      <td>(-9.51, -3.386595156696757)</td>\n",
              "      <td>(2.82, 0.6511422940932702)</td>\n",
              "      <td>(nan, -2.1581119068339665)</td>\n",
              "      <td>(nan, -3.2645048172959568)</td>\n",
              "      <td>(nan, -5.9863322659505185)</td>\n",
              "      <td>(nan, -2.3789390462123023)</td>\n",
              "      <td>(-0.49, -0.5253356609335517)</td>\n",
              "      <td>(2.91, 2.4073632042210744)</td>\n",
              "      <td>(2.62, -0.6062801901175099)</td>\n",
              "      <td>(8.3, 2.4243691161395975)</td>\n",
              "      <td>(nan, -4.3233058771605535)</td>\n",
              "      <td>(3.06, 1.0490562176254818)</td>\n",
              "      <td>(5.44, 2.295931431929599)</td>\n",
              "      <td>(nan, -5.28144242304446)</td>\n",
              "      <td>(nan, -1.2181770967586267)</td>\n",
              "      <td>(-0.68, 2.0778982323762194)</td>\n",
              "      <td>(2.04, 2.538713320111803)</td>\n",
              "      <td>(nan, -5.156973968430011)</td>\n",
              "      <td>(nan, -1.6722775231501408)</td>\n",
              "      <td>(1.55, -1.0885991477652945)</td>\n",
              "      <td>(nan, -1.7861674245419616)</td>\n",
              "      <td>...</td>\n",
              "      <td>(-8.83, 1.1314698510333285)</td>\n",
              "      <td>(-0.78, 1.6522879876319614)</td>\n",
              "      <td>(nan, -2.8401738203881326)</td>\n",
              "      <td>(nan, -4.632636418543815)</td>\n",
              "      <td>(4.51, 1.1885393271202243)</td>\n",
              "      <td>(-2.48, 1.293469052054762)</td>\n",
              "      <td>(nan, -4.906290651519432)</td>\n",
              "      <td>(1.26, 1.415990697405882)</td>\n",
              "      <td>(5.78, 1.4437949144197915)</td>\n",
              "      <td>(nan, -2.3950730107388627)</td>\n",
              "      <td>(nan, -3.738262033126566)</td>\n",
              "      <td>(nan, 1.1080151458125604)</td>\n",
              "      <td>(nan, -1.5968935918257594)</td>\n",
              "      <td>(nan, -5.185251185311524)</td>\n",
              "      <td>(-4.56, -3.2779337642182127)</td>\n",
              "      <td>(nan, 0.7174565476281108)</td>\n",
              "      <td>(nan, -2.1247711200317383)</td>\n",
              "      <td>(nan, -0.9234015194592399)</td>\n",
              "      <td>(nan, -2.8148066009862216)</td>\n",
              "      <td>(3.16, -1.1826121604546231)</td>\n",
              "      <td>(nan, -0.39707416023082637)</td>\n",
              "      <td>(nan, -2.371023794339887)</td>\n",
              "      <td>(nan, 0.1888053509001052)</td>\n",
              "      <td>(nan, -2.483885829629098)</td>\n",
              "      <td>(nan, -2.073520738808467)</td>\n",
              "      <td>(nan, -3.400239082754327)</td>\n",
              "      <td>(nan, -0.30249149689608495)</td>\n",
              "      <td>(nan, -0.37135134061727326)</td>\n",
              "      <td>(nan, 2.283938646097438)</td>\n",
              "      <td>(nan, -2.777677553938687)</td>\n",
              "      <td>(nan, -0.5129834124679513)</td>\n",
              "      <td>(nan, -1.5221112097945495)</td>\n",
              "      <td>(nan, 0.5314370889275533)</td>\n",
              "      <td>(nan, -2.445765189412246)</td>\n",
              "      <td>(nan, -1.997599136220473)</td>\n",
              "      <td>(nan, -1.333068143943329)</td>\n",
              "      <td>(nan, -0.9341504423139023)</td>\n",
              "      <td>(nan, -1.1066661632665387)</td>\n",
              "      <td>(nan, -3.3430637311004934)</td>\n",
              "      <td>(nan, -1.131742529416671)</td>\n",
              "    </tr>\n",
              "    <tr>\n",
              "      <th>24982</th>\n",
              "      <td>(2.43, 2.786080021688487)</td>\n",
              "      <td>(2.67, 2.8682704669352868)</td>\n",
              "      <td>(-3.98, 2.518323081838471)</td>\n",
              "      <td>(4.27, 0.9352793487554313)</td>\n",
              "      <td>(-2.28, 2.3957605318413036)</td>\n",
              "      <td>(7.33, 4.656631056165172)</td>\n",
              "      <td>(2.33, 1.2321534055234888)</td>\n",
              "      <td>(4.56, 0.2600227479913874)</td>\n",
              "      <td>(6.75, 1.4287386908396666)</td>\n",
              "      <td>(4.61, 3.0892786145551843)</td>\n",
              "      <td>(-3.16, 4.539604609585178)</td>\n",
              "      <td>(7.38, 4.8382472487442065)</td>\n",
              "      <td>(-8.2, -0.6349268878890905)</td>\n",
              "      <td>(9.08, 4.854078609213396)</td>\n",
              "      <td>(-8.83, -1.0952596549103666)</td>\n",
              "      <td>(-7.77, -2.517683531888038)</td>\n",
              "      <td>(5.49, 0.4302030403299064)</td>\n",
              "      <td>(1.36, 0.6021761010251261)</td>\n",
              "      <td>(-9.32, 2.1619790819132327)</td>\n",
              "      <td>(7.04, 1.1950620404020567)</td>\n",
              "      <td>(7.28, 5.354072609286486)</td>\n",
              "      <td>(3.2, 3.655834784800917)</td>\n",
              "      <td>(-0.05, 2.4964632242781923)</td>\n",
              "      <td>(-1.26, 0.12049909456202651)</td>\n",
              "      <td>(6.94, 3.298253328468)</td>\n",
              "      <td>(5.49, 4.698559188544159)</td>\n",
              "      <td>(1.21, 5.855345882099833)</td>\n",
              "      <td>(5.0, 4.428089951833658)</td>\n",
              "      <td>(7.38, 5.615414061229333)</td>\n",
              "      <td>(2.33, 2.2149192155452866)</td>\n",
              "      <td>(3.35, 5.318682505057489)</td>\n",
              "      <td>(6.17, 5.823965689785698)</td>\n",
              "      <td>(-4.81, 0.9465393530508797)</td>\n",
              "      <td>(3.79, 4.002623392942037)</td>\n",
              "      <td>(6.26, 5.823016394623267)</td>\n",
              "      <td>(8.54, 5.68440438495328)</td>\n",
              "      <td>(5.29, 0.3611579991287138)</td>\n",
              "      <td>(1.12, 3.6997288549935305)</td>\n",
              "      <td>(0.83, 4.3369475766096)</td>\n",
              "      <td>(0.19, 3.8292236675857776)</td>\n",
              "      <td>...</td>\n",
              "      <td>(6.17, 5.619437342570656)</td>\n",
              "      <td>(-0.29, 5.750605425405128)</td>\n",
              "      <td>(0.83, 2.87536993702064)</td>\n",
              "      <td>(4.22, 1.1847676325534657)</td>\n",
              "      <td>(4.27, 5.388082194996497)</td>\n",
              "      <td>(7.38, 5.4247903349662305)</td>\n",
              "      <td>(6.21, 1.1404647633602254)</td>\n",
              "      <td>(7.48, 5.380205893836422)</td>\n",
              "      <td>(5.15, 5.607763433472983)</td>\n",
              "      <td>(3.2, 3.2521889972335964)</td>\n",
              "      <td>(6.26, 1.3186905016872887)</td>\n",
              "      <td>(nan, 5.5285860713798485)</td>\n",
              "      <td>(nan, 3.9366627555519824)</td>\n",
              "      <td>(nan, 0.5396419576811141)</td>\n",
              "      <td>(nan, 1.9000529595556195)</td>\n",
              "      <td>(nan, 5.019789887927382)</td>\n",
              "      <td>(nan, 3.2978017852239145)</td>\n",
              "      <td>(nan, 4.487640459684787)</td>\n",
              "      <td>(nan, 2.8941401014316326)</td>\n",
              "      <td>(nan, 4.2922324553458635)</td>\n",
              "      <td>(nan, 4.466254519030542)</td>\n",
              "      <td>(nan, 3.231351538398694)</td>\n",
              "      <td>(nan, 4.833135241664775)</td>\n",
              "      <td>(nan, 3.12142829801545)</td>\n",
              "      <td>(nan, 3.610998300045417)</td>\n",
              "      <td>(nan, 1.8431424111555081)</td>\n",
              "      <td>(7.23, 4.258517872645633)</td>\n",
              "      <td>(nan, 4.324702496665752)</td>\n",
              "      <td>(nan, 5.954478315063107)</td>\n",
              "      <td>(nan, 2.979524883115686)</td>\n",
              "      <td>(nan, 4.1430965665138055)</td>\n",
              "      <td>(nan, 3.6460398756008257)</td>\n",
              "      <td>(nan, 4.977444256535424)</td>\n",
              "      <td>(nan, 2.9454857997374186)</td>\n",
              "      <td>(nan, 2.9565808134380513)</td>\n",
              "      <td>(nan, 3.6993564871910407)</td>\n",
              "      <td>(nan, 3.730837503773355)</td>\n",
              "      <td>(nan, 3.6006544109890974)</td>\n",
              "      <td>(nan, 2.1557619812408646)</td>\n",
              "      <td>(nan, 4.127551936174316)</td>\n",
              "    </tr>\n",
              "  </tbody>\n",
              "</table>\n",
              "<p>24983 rows × 100 columns</p>\n",
              "</div>"
            ],
            "text/plain": [
              "                               1    ...                         100\n",
              "0      (-7.82, -3.910140100118776)  ...   (nan, -2.570001981925177)\n",
              "1       (4.08, 2.9895426092538395)  ...   (1.07, 2.760854149536372)\n",
              "2         (nan, 6.859448942286339)  ...    (nan, 8.248202923927312)\n",
              "3        (nan, 1.9515083833497422)  ...     (nan, 2.94835489690693)\n",
              "4        (8.5, 2.9109339366633167)  ...    (1.6, 4.340428456094622)\n",
              "...                            ...  ...                         ...\n",
              "24978   (0.44, 2.2929576834924057)  ...   (7.43, 3.889695130653832)\n",
              "24979    (9.13, 2.383570579148689)  ...  (8.45, 1.5420738810007388)\n",
              "24980   (nan, -0.8619382298529603)  ...  (nan, -0.6583068334479912)\n",
              "24981   (nan, -1.9989199540924911)  ...   (nan, -1.131742529416671)\n",
              "24982    (2.43, 2.786080021688487)  ...    (nan, 4.127551936174316)\n",
              "\n",
              "[24983 rows x 100 columns]"
            ]
          },
          "metadata": {
            "tags": []
          },
          "execution_count": 53
        }
      ]
    },
    {
      "cell_type": "code",
      "metadata": {
        "id": "XmFmmgWiZjMx"
      },
      "source": [
        "# while 1: pass"
      ],
      "execution_count": 58,
      "outputs": []
    },
    {
      "cell_type": "markdown",
      "metadata": {
        "id": "pRBJmE-O0SZC"
      },
      "source": [
        "# For Quiz"
      ]
    },
    {
      "cell_type": "code",
      "metadata": {
        "id": "yItBZqyGzgur"
      },
      "source": [
        "quiz_users=pd.read_excel('movies_latent_factors.xlsx', sheet_name='Users')\n",
        "quiz_items=pd.read_excel('movies_latent_factors.xlsx', sheet_name='Items')"
      ],
      "execution_count": 70,
      "outputs": []
    },
    {
      "cell_type": "code",
      "metadata": {
        "id": "H0lb8VPN1Fn6"
      },
      "source": [
        "# quiz_movies"
      ],
      "execution_count": 63,
      "outputs": []
    },
    {
      "cell_type": "code",
      "metadata": {
        "id": "SjH9MI_c1tw5",
        "outputId": "bdf76107-c08b-49d5-e25e-15e560377e9f",
        "colab": {
          "base_uri": "https://localhost:8080/",
          "height": 166
        }
      },
      "source": [
        "test_data.loc[23435:23438, 56:60]"
      ],
      "execution_count": 65,
      "outputs": [
        {
          "output_type": "execute_result",
          "data": {
            "text/html": [
              "<div>\n",
              "<style scoped>\n",
              "    .dataframe tbody tr th:only-of-type {\n",
              "        vertical-align: middle;\n",
              "    }\n",
              "\n",
              "    .dataframe tbody tr th {\n",
              "        vertical-align: top;\n",
              "    }\n",
              "\n",
              "    .dataframe thead th {\n",
              "        text-align: right;\n",
              "    }\n",
              "</style>\n",
              "<table border=\"1\" class=\"dataframe\">\n",
              "  <thead>\n",
              "    <tr style=\"text-align: right;\">\n",
              "      <th></th>\n",
              "      <th>56</th>\n",
              "      <th>57</th>\n",
              "      <th>58</th>\n",
              "      <th>59</th>\n",
              "      <th>60</th>\n",
              "    </tr>\n",
              "  </thead>\n",
              "  <tbody>\n",
              "    <tr>\n",
              "      <th>23435</th>\n",
              "      <td>-0.29</td>\n",
              "      <td>-2.23</td>\n",
              "      <td>-9.81</td>\n",
              "      <td>-0.29</td>\n",
              "      <td>-0.29</td>\n",
              "    </tr>\n",
              "    <tr>\n",
              "      <th>23436</th>\n",
              "      <td>3.59</td>\n",
              "      <td>-1.46</td>\n",
              "      <td>-9.66</td>\n",
              "      <td>-1.94</td>\n",
              "      <td>1.07</td>\n",
              "    </tr>\n",
              "    <tr>\n",
              "      <th>23437</th>\n",
              "      <td>-1.26</td>\n",
              "      <td>NaN</td>\n",
              "      <td>NaN</td>\n",
              "      <td>-6.80</td>\n",
              "      <td>NaN</td>\n",
              "    </tr>\n",
              "    <tr>\n",
              "      <th>23438</th>\n",
              "      <td>9.03</td>\n",
              "      <td>-9.22</td>\n",
              "      <td>-8.69</td>\n",
              "      <td>3.16</td>\n",
              "      <td>8.11</td>\n",
              "    </tr>\n",
              "  </tbody>\n",
              "</table>\n",
              "</div>"
            ],
            "text/plain": [
              "         56    57    58    59    60\n",
              "23435 -0.29 -2.23 -9.81 -0.29 -0.29\n",
              "23436  3.59 -1.46 -9.66 -1.94  1.07\n",
              "23437 -1.26   NaN   NaN -6.80   NaN\n",
              "23438  9.03 -9.22 -8.69  3.16  8.11"
            ]
          },
          "metadata": {
            "tags": []
          },
          "execution_count": 65
        }
      ]
    },
    {
      "cell_type": "code",
      "metadata": {
        "id": "-limcnBs3DA_",
        "outputId": "ab8754ea-5c40-4f3d-f7ce-c29fbe550066",
        "colab": {
          "base_uri": "https://localhost:8080/"
        }
      },
      "source": [
        "comparison_data.loc[23437, 58]"
      ],
      "execution_count": 69,
      "outputs": [
        {
          "output_type": "execute_result",
          "data": {
            "text/plain": [
              "(nan, -8.019239696177484)"
            ]
          },
          "metadata": {
            "tags": []
          },
          "execution_count": 69
        }
      ]
    },
    {
      "cell_type": "code",
      "metadata": {
        "id": "fDJY9EXC3UBw",
        "outputId": "5eaeabaa-a610-4723-d359-1a82773da4ae",
        "colab": {
          "base_uri": "https://localhost:8080/"
        }
      },
      "source": [
        "quiz_items.loc[quiz_items['Movie ID']==629, 'Factor12']"
      ],
      "execution_count": 77,
      "outputs": [
        {
          "output_type": "execute_result",
          "data": {
            "text/plain": [
              "53    0.452338\n",
              "Name: Factor12, dtype: float64"
            ]
          },
          "metadata": {
            "tags": []
          },
          "execution_count": 77
        }
      ]
    },
    {
      "cell_type": "code",
      "metadata": {
        "id": "yD8QWojM4Mlm",
        "outputId": "0dfececb-4625-40b5-8161-a1bebef2ee9f",
        "colab": {
          "base_uri": "https://localhost:8080/",
          "height": 77
        }
      },
      "source": [
        "(quiz_items.loc[quiz_items['Factor5']==np.max(quiz_items['Factor5']), ['Movie ID', 'Factor5']])"
      ],
      "execution_count": 87,
      "outputs": [
        {
          "output_type": "execute_result",
          "data": {
            "text/html": [
              "<div>\n",
              "<style scoped>\n",
              "    .dataframe tbody tr th:only-of-type {\n",
              "        vertical-align: middle;\n",
              "    }\n",
              "\n",
              "    .dataframe tbody tr th {\n",
              "        vertical-align: top;\n",
              "    }\n",
              "\n",
              "    .dataframe thead th {\n",
              "        text-align: right;\n",
              "    }\n",
              "</style>\n",
              "<table border=\"1\" class=\"dataframe\">\n",
              "  <thead>\n",
              "    <tr style=\"text-align: right;\">\n",
              "      <th></th>\n",
              "      <th>Movie ID</th>\n",
              "      <th>Factor5</th>\n",
              "    </tr>\n",
              "  </thead>\n",
              "  <tbody>\n",
              "    <tr>\n",
              "      <th>15</th>\n",
              "      <td>121</td>\n",
              "      <td>2.750878</td>\n",
              "    </tr>\n",
              "  </tbody>\n",
              "</table>\n",
              "</div>"
            ],
            "text/plain": [
              "    Movie ID   Factor5\n",
              "15       121  2.750878"
            ]
          },
          "metadata": {
            "tags": []
          },
          "execution_count": 87
        }
      ]
    },
    {
      "cell_type": "code",
      "metadata": {
        "id": "XTznqlq941Ww",
        "outputId": "6adbb604-bfac-4478-fac9-8377c6203ffd",
        "colab": {
          "base_uri": "https://localhost:8080/",
          "height": 330
        }
      },
      "source": [
        "quiz_items.head()"
      ],
      "execution_count": 89,
      "outputs": [
        {
          "output_type": "execute_result",
          "data": {
            "text/html": [
              "<div>\n",
              "<style scoped>\n",
              "    .dataframe tbody tr th:only-of-type {\n",
              "        vertical-align: middle;\n",
              "    }\n",
              "\n",
              "    .dataframe tbody tr th {\n",
              "        vertical-align: top;\n",
              "    }\n",
              "\n",
              "    .dataframe thead th {\n",
              "        text-align: right;\n",
              "    }\n",
              "</style>\n",
              "<table border=\"1\" class=\"dataframe\">\n",
              "  <thead>\n",
              "    <tr style=\"text-align: right;\">\n",
              "      <th></th>\n",
              "      <th>Movie ID</th>\n",
              "      <th>Title</th>\n",
              "      <th>Factor1</th>\n",
              "      <th>Factor2</th>\n",
              "      <th>Factor3</th>\n",
              "      <th>Factor4</th>\n",
              "      <th>Factor5</th>\n",
              "      <th>Factor6</th>\n",
              "      <th>Factor7</th>\n",
              "      <th>Factor8</th>\n",
              "      <th>Factor9</th>\n",
              "      <th>Factor10</th>\n",
              "      <th>Factor11</th>\n",
              "      <th>Factor12</th>\n",
              "      <th>Factor13</th>\n",
              "      <th>Factor14</th>\n",
              "      <th>Factor15</th>\n",
              "    </tr>\n",
              "  </thead>\n",
              "  <tbody>\n",
              "    <tr>\n",
              "      <th>0</th>\n",
              "      <td>11</td>\n",
              "      <td>Star Wars: Episode IV - A New Hope (1977)</td>\n",
              "      <td>-1.521848</td>\n",
              "      <td>-1.038507</td>\n",
              "      <td>2.027269</td>\n",
              "      <td>0.247933</td>\n",
              "      <td>-0.594548</td>\n",
              "      <td>2.513260</td>\n",
              "      <td>-1.848910</td>\n",
              "      <td>0.476710</td>\n",
              "      <td>-0.224146</td>\n",
              "      <td>-0.760681</td>\n",
              "      <td>-0.973915</td>\n",
              "      <td>0.862379</td>\n",
              "      <td>0.403861</td>\n",
              "      <td>1.129616</td>\n",
              "      <td>-0.248806</td>\n",
              "    </tr>\n",
              "    <tr>\n",
              "      <th>1</th>\n",
              "      <td>12</td>\n",
              "      <td>Finding Nemo (2003)</td>\n",
              "      <td>-0.342185</td>\n",
              "      <td>-0.296586</td>\n",
              "      <td>-0.385962</td>\n",
              "      <td>2.443297</td>\n",
              "      <td>-1.097015</td>\n",
              "      <td>-0.619465</td>\n",
              "      <td>0.572887</td>\n",
              "      <td>0.329516</td>\n",
              "      <td>-0.712228</td>\n",
              "      <td>0.323554</td>\n",
              "      <td>-0.561948</td>\n",
              "      <td>-0.142405</td>\n",
              "      <td>-0.564415</td>\n",
              "      <td>0.506876</td>\n",
              "      <td>1.274993</td>\n",
              "    </tr>\n",
              "    <tr>\n",
              "      <th>2</th>\n",
              "      <td>13</td>\n",
              "      <td>Forrest Gump (1994)</td>\n",
              "      <td>-2.240888</td>\n",
              "      <td>-0.438815</td>\n",
              "      <td>-2.275177</td>\n",
              "      <td>0.614548</td>\n",
              "      <td>0.904469</td>\n",
              "      <td>0.711919</td>\n",
              "      <td>-0.420876</td>\n",
              "      <td>1.302036</td>\n",
              "      <td>-0.868418</td>\n",
              "      <td>-0.160122</td>\n",
              "      <td>0.633667</td>\n",
              "      <td>0.133138</td>\n",
              "      <td>-0.330276</td>\n",
              "      <td>-2.209004</td>\n",
              "      <td>-0.419092</td>\n",
              "    </tr>\n",
              "    <tr>\n",
              "      <th>3</th>\n",
              "      <td>14</td>\n",
              "      <td>American Beauty (1999)</td>\n",
              "      <td>-0.634531</td>\n",
              "      <td>2.186059</td>\n",
              "      <td>-0.066681</td>\n",
              "      <td>0.086197</td>\n",
              "      <td>0.517558</td>\n",
              "      <td>-0.185319</td>\n",
              "      <td>-0.412352</td>\n",
              "      <td>0.063841</td>\n",
              "      <td>0.075937</td>\n",
              "      <td>-0.577682</td>\n",
              "      <td>0.526803</td>\n",
              "      <td>-1.465557</td>\n",
              "      <td>-0.819682</td>\n",
              "      <td>0.549010</td>\n",
              "      <td>-0.681191</td>\n",
              "    </tr>\n",
              "    <tr>\n",
              "      <th>4</th>\n",
              "      <td>22</td>\n",
              "      <td>Pirates of the Caribbean: The Curse of the Bla...</td>\n",
              "      <td>0.517348</td>\n",
              "      <td>-1.456763</td>\n",
              "      <td>0.369161</td>\n",
              "      <td>0.073903</td>\n",
              "      <td>-0.098332</td>\n",
              "      <td>-0.594722</td>\n",
              "      <td>0.828888</td>\n",
              "      <td>0.033626</td>\n",
              "      <td>-0.707414</td>\n",
              "      <td>0.717877</td>\n",
              "      <td>1.394326</td>\n",
              "      <td>-0.786986</td>\n",
              "      <td>1.429191</td>\n",
              "      <td>0.855746</td>\n",
              "      <td>-2.292566</td>\n",
              "    </tr>\n",
              "  </tbody>\n",
              "</table>\n",
              "</div>"
            ],
            "text/plain": [
              "   Movie ID  ...  Factor15\n",
              "0        11  ... -0.248806\n",
              "1        12  ...  1.274993\n",
              "2        13  ... -0.419092\n",
              "3        14  ... -0.681191\n",
              "4        22  ... -2.292566\n",
              "\n",
              "[5 rows x 17 columns]"
            ]
          },
          "metadata": {
            "tags": []
          },
          "execution_count": 89
        }
      ]
    },
    {
      "cell_type": "code",
      "metadata": {
        "id": "GDMMDtdg7Xdu"
      },
      "source": [
        "a=quiz_items.loc[quiz_items['Movie ID']==8358]"
      ],
      "execution_count": 110,
      "outputs": []
    },
    {
      "cell_type": "code",
      "metadata": {
        "id": "7pVIIdv775cu"
      },
      "source": [
        "a=a.values.squeeze()"
      ],
      "execution_count": 111,
      "outputs": []
    },
    {
      "cell_type": "code",
      "metadata": {
        "id": "FJmQBp9N838F",
        "outputId": "7ddd69d1-ed5f-43c1-c674-54fe4f8de938",
        "colab": {
          "base_uri": "https://localhost:8080/"
        }
      },
      "source": [
        "a=a[2:]\n",
        "a"
      ],
      "execution_count": 112,
      "outputs": [
        {
          "output_type": "execute_result",
          "data": {
            "text/plain": [
              "array([0.1254612435522293, -0.1846836856931454, -1.3257366317768604,\n",
              "       -0.33872401288259174, 0.5344138950050794, -0.19292569791749567,\n",
              "       -0.42831016818184303, 0.08639926748549187, -0.33228588544004956,\n",
              "       0.15839832717803923, 0.01295686912424204, 0.4678236973410492,\n",
              "       0.16033537589107677, -0.7588670152539986, 0.4766352511552939],\n",
              "      dtype=object)"
            ]
          },
          "metadata": {
            "tags": []
          },
          "execution_count": 112
        }
      ]
    },
    {
      "cell_type": "code",
      "metadata": {
        "id": "79yRez-V9hXa"
      },
      "source": [
        "b=quiz_users.loc[quiz_users['User']==768]"
      ],
      "execution_count": 130,
      "outputs": []
    },
    {
      "cell_type": "code",
      "metadata": {
        "id": "koXsLwTX-FbM"
      },
      "source": [
        "b=b.values.squeeze()"
      ],
      "execution_count": 135,
      "outputs": []
    },
    {
      "cell_type": "code",
      "metadata": {
        "id": "wVg3crTo-GSM",
        "outputId": "4270e1d7-fbbe-4ba6-edb7-c9cb139f6ee6",
        "colab": {
          "base_uri": "https://localhost:8080/"
        }
      },
      "source": [
        "b=b[1:]\n",
        "b"
      ],
      "execution_count": 136,
      "outputs": [
        {
          "output_type": "execute_result",
          "data": {
            "text/plain": [
              "array([ 0.00081908, -0.00922855, -0.01922806,  0.00270275,  0.01286875,\n",
              "        0.00665548,  0.00768734,  0.01874699,  0.01470509, -0.00925601,\n",
              "       -0.01011581, -0.01005119, -0.00210834,  0.04322289, -0.00666964])"
            ]
          },
          "metadata": {
            "tags": []
          },
          "execution_count": 136
        }
      ]
    },
    {
      "cell_type": "code",
      "metadata": {
        "id": "Lyugtr-T-Km8"
      },
      "source": [
        "quiz_pred=np.dot(b, a.T)"
      ],
      "execution_count": 139,
      "outputs": []
    },
    {
      "cell_type": "code",
      "metadata": {
        "id": "Uh_GnfqB--rk",
        "outputId": "f55346d9-f6bd-46db-ac8a-5225d1e7fed5",
        "colab": {
          "base_uri": "https://localhost:8080/"
        }
      },
      "source": [
        "round(quiz_pred, 2)"
      ],
      "execution_count": 142,
      "outputs": [
        {
          "output_type": "execute_result",
          "data": {
            "text/plain": [
              "-0.02"
            ]
          },
          "metadata": {
            "tags": []
          },
          "execution_count": 142
        }
      ]
    },
    {
      "cell_type": "code",
      "metadata": {
        "id": "TQ7BZL9q_TQr",
        "outputId": "a46410f4-a5f5-4828-b594-104a7f029d0f",
        "colab": {
          "base_uri": "https://localhost:8080/"
        }
      },
      "source": [
        "c=quiz_items.loc[quiz_items['Movie ID']==197]\n",
        "c=c.values.squeeze()\n",
        "c=c[2:]\n",
        "c"
      ],
      "execution_count": 144,
      "outputs": [
        {
          "output_type": "execute_result",
          "data": {
            "text/plain": [
              "array([-0.6880903520483415, -1.0785096340532638, -1.331394869897539,\n",
              "       -0.4773289748383014, 0.7395697351329814, 0.6382104977547886,\n",
              "       0.06771889989090495, 0.39080939755470473, -0.049157936178380664,\n",
              "       0.5860527130653354, -1.0852360002809158, 0.49648172827053944,\n",
              "       1.1235452510306585, -1.5321012682387738, -0.18185329170885758],\n",
              "      dtype=object)"
            ]
          },
          "metadata": {
            "tags": []
          },
          "execution_count": 144
        }
      ]
    },
    {
      "cell_type": "code",
      "metadata": {
        "id": "Fsrd98Ok_-Ch",
        "outputId": "2f947f9a-5cb4-4df3-f58e-404684addaae",
        "colab": {
          "base_uri": "https://localhost:8080/"
        }
      },
      "source": [
        "quiz_pred=np.dot(b, c.T)\n",
        "round(quiz_pred, 2)"
      ],
      "execution_count": 145,
      "outputs": [
        {
          "output_type": "execute_result",
          "data": {
            "text/plain": [
              "-0.01"
            ]
          },
          "metadata": {
            "tags": []
          },
          "execution_count": 145
        }
      ]
    },
    {
      "cell_type": "code",
      "metadata": {
        "id": "dbOJr-oqAHdL",
        "outputId": "e60e47a9-044a-42d3-9ef3-e4f7eb53cefc",
        "colab": {
          "base_uri": "https://localhost:8080/"
        }
      },
      "source": [
        "u_2067=quiz_users.loc[quiz_users['User']==2067]\n",
        "u_2067=u_2067.values.squeeze()\n",
        "u_2067=u_2067[1:]\n",
        "u_2067"
      ],
      "execution_count": 146,
      "outputs": [
        {
          "output_type": "execute_result",
          "data": {
            "text/plain": [
              "array([-8.32419876e-02,  1.81170624e-01, -3.44267114e-01, -1.97126297e-02,\n",
              "       -2.43198543e-01,  3.92197164e-02, -9.20858062e-02,  1.14807987e-01,\n",
              "       -3.64718778e-02,  4.23861148e-02, -1.86812335e-01, -1.27038258e-01,\n",
              "        1.76660761e-01, -5.58122216e-02, -4.16354710e-05])"
            ]
          },
          "metadata": {
            "tags": []
          },
          "execution_count": 146
        }
      ]
    },
    {
      "cell_type": "code",
      "metadata": {
        "id": "N9kezRMnB8wh"
      },
      "source": [
        "all_item_factors=quiz_items.values[:, 2:]"
      ],
      "execution_count": 149,
      "outputs": []
    },
    {
      "cell_type": "code",
      "metadata": {
        "id": "rSooDA9YBlXJ"
      },
      "source": [
        "quiz_ratings=np.dot(u_2067, all_item_factors.T)"
      ],
      "execution_count": 151,
      "outputs": []
    },
    {
      "cell_type": "code",
      "metadata": {
        "id": "rX4skNreC3VJ",
        "outputId": "51148a2f-2d73-43dc-e32b-f17d1890e8ee",
        "colab": {
          "base_uri": "https://localhost:8080/"
        }
      },
      "source": [
        "np.argmax(quiz_ratings)"
      ],
      "execution_count": 153,
      "outputs": [
        {
          "output_type": "execute_result",
          "data": {
            "text/plain": [
              "2"
            ]
          },
          "metadata": {
            "tags": []
          },
          "execution_count": 153
        }
      ]
    },
    {
      "cell_type": "code",
      "metadata": {
        "id": "QhORFODyE87b",
        "outputId": "bf097e1a-a28e-459b-8ca0-dbbb79054caf",
        "colab": {
          "base_uri": "https://localhost:8080/"
        }
      },
      "source": [
        "np.argsort(quiz_ratings)[::-1][:2]"
      ],
      "execution_count": 172,
      "outputs": [
        {
          "output_type": "execute_result",
          "data": {
            "text/plain": [
              "array([ 2, 10])"
            ]
          },
          "metadata": {
            "tags": []
          },
          "execution_count": 172
        }
      ]
    },
    {
      "cell_type": "code",
      "metadata": {
        "id": "2f9D2LyxC9tB",
        "outputId": "636f0de4-d88a-40d2-ba97-4d4ac306eb93",
        "colab": {
          "base_uri": "https://localhost:8080/",
          "height": 140
        }
      },
      "source": [
        "quiz_items.loc[np.argsort(quiz_ratings)[::-1][:2], :]"
      ],
      "execution_count": 173,
      "outputs": [
        {
          "output_type": "execute_result",
          "data": {
            "text/html": [
              "<div>\n",
              "<style scoped>\n",
              "    .dataframe tbody tr th:only-of-type {\n",
              "        vertical-align: middle;\n",
              "    }\n",
              "\n",
              "    .dataframe tbody tr th {\n",
              "        vertical-align: top;\n",
              "    }\n",
              "\n",
              "    .dataframe thead th {\n",
              "        text-align: right;\n",
              "    }\n",
              "</style>\n",
              "<table border=\"1\" class=\"dataframe\">\n",
              "  <thead>\n",
              "    <tr style=\"text-align: right;\">\n",
              "      <th></th>\n",
              "      <th>Movie ID</th>\n",
              "      <th>Title</th>\n",
              "      <th>Factor1</th>\n",
              "      <th>Factor2</th>\n",
              "      <th>Factor3</th>\n",
              "      <th>Factor4</th>\n",
              "      <th>Factor5</th>\n",
              "      <th>Factor6</th>\n",
              "      <th>Factor7</th>\n",
              "      <th>Factor8</th>\n",
              "      <th>Factor9</th>\n",
              "      <th>Factor10</th>\n",
              "      <th>Factor11</th>\n",
              "      <th>Factor12</th>\n",
              "      <th>Factor13</th>\n",
              "      <th>Factor14</th>\n",
              "      <th>Factor15</th>\n",
              "    </tr>\n",
              "  </thead>\n",
              "  <tbody>\n",
              "    <tr>\n",
              "      <th>2</th>\n",
              "      <td>13</td>\n",
              "      <td>Forrest Gump (1994)</td>\n",
              "      <td>-2.240888</td>\n",
              "      <td>-0.438815</td>\n",
              "      <td>-2.275177</td>\n",
              "      <td>0.614548</td>\n",
              "      <td>0.904469</td>\n",
              "      <td>0.711919</td>\n",
              "      <td>-0.420876</td>\n",
              "      <td>1.302036</td>\n",
              "      <td>-0.868418</td>\n",
              "      <td>-0.160122</td>\n",
              "      <td>0.633667</td>\n",
              "      <td>0.133138</td>\n",
              "      <td>-0.330276</td>\n",
              "      <td>-2.209004</td>\n",
              "      <td>-0.419092</td>\n",
              "    </tr>\n",
              "    <tr>\n",
              "      <th>10</th>\n",
              "      <td>98</td>\n",
              "      <td>Gladiator (2000)</td>\n",
              "      <td>-1.364852</td>\n",
              "      <td>-1.304136</td>\n",
              "      <td>-1.941623</td>\n",
              "      <td>-0.661007</td>\n",
              "      <td>0.128877</td>\n",
              "      <td>0.007048</td>\n",
              "      <td>0.371097</td>\n",
              "      <td>0.086026</td>\n",
              "      <td>-0.133839</td>\n",
              "      <td>0.548053</td>\n",
              "      <td>-0.827216</td>\n",
              "      <td>0.141476</td>\n",
              "      <td>0.735983</td>\n",
              "      <td>-0.338100</td>\n",
              "      <td>-0.175565</td>\n",
              "    </tr>\n",
              "  </tbody>\n",
              "</table>\n",
              "</div>"
            ],
            "text/plain": [
              "    Movie ID                Title   Factor1  ...  Factor13  Factor14  Factor15\n",
              "2         13  Forrest Gump (1994) -2.240888  ... -0.330276 -2.209004 -0.419092\n",
              "10        98     Gladiator (2000) -1.364852  ...  0.735983 -0.338100 -0.175565\n",
              "\n",
              "[2 rows x 17 columns]"
            ]
          },
          "metadata": {
            "tags": []
          },
          "execution_count": 173
        }
      ]
    },
    {
      "cell_type": "code",
      "metadata": {
        "id": "M2a2J4UkDECp"
      },
      "source": [
        ""
      ],
      "execution_count": 173,
      "outputs": []
    },
    {
      "cell_type": "code",
      "metadata": {
        "id": "KHQeAl_wENl5",
        "outputId": "31cbbd14-fcc2-4eda-ba17-d4d85ba1d9e8",
        "colab": {
          "base_uri": "https://localhost:8080/"
        }
      },
      "source": [
        "u_4940=quiz_users.loc[quiz_users['User']==4940]\n",
        "u_4940=u_4940.values.squeeze()\n",
        "u_4940=u_4940[1:]\n",
        "u_4940"
      ],
      "execution_count": 174,
      "outputs": [
        {
          "output_type": "execute_result",
          "data": {
            "text/plain": [
              "array([-0.11309877,  0.04764329, -0.0530243 ,  0.02483359,  0.0106429 ,\n",
              "       -0.01205102, -0.04915036,  0.0062524 ,  0.02042851,  0.00434913,\n",
              "        0.02837151,  0.01022704, -0.00823291, -0.02930419,  0.09051074])"
            ]
          },
          "metadata": {
            "tags": []
          },
          "execution_count": 174
        }
      ]
    },
    {
      "cell_type": "code",
      "metadata": {
        "id": "MqytbIb1FiDG",
        "outputId": "1a829282-ee78-416c-ea0d-324d1bbaf6d2",
        "colab": {
          "base_uri": "https://localhost:8080/"
        }
      },
      "source": [
        "quiz_ratings=np.dot(u_4940, all_item_factors.T)\n",
        "np.argsort(quiz_ratings)[::-1][:3]"
      ],
      "execution_count": 175,
      "outputs": [
        {
          "output_type": "execute_result",
          "data": {
            "text/plain": [
              "array([ 2, 33, 50])"
            ]
          },
          "metadata": {
            "tags": []
          },
          "execution_count": 175
        }
      ]
    },
    {
      "cell_type": "code",
      "metadata": {
        "id": "8i0lK_ueFsev",
        "outputId": "8d4058d2-aa18-4428-e4b2-e3c5d9b3128b",
        "colab": {
          "base_uri": "https://localhost:8080/",
          "height": 220
        }
      },
      "source": [
        "quiz_items.loc[np.argsort(quiz_ratings)[::-1][:3], :]"
      ],
      "execution_count": 176,
      "outputs": [
        {
          "output_type": "execute_result",
          "data": {
            "text/html": [
              "<div>\n",
              "<style scoped>\n",
              "    .dataframe tbody tr th:only-of-type {\n",
              "        vertical-align: middle;\n",
              "    }\n",
              "\n",
              "    .dataframe tbody tr th {\n",
              "        vertical-align: top;\n",
              "    }\n",
              "\n",
              "    .dataframe thead th {\n",
              "        text-align: right;\n",
              "    }\n",
              "</style>\n",
              "<table border=\"1\" class=\"dataframe\">\n",
              "  <thead>\n",
              "    <tr style=\"text-align: right;\">\n",
              "      <th></th>\n",
              "      <th>Movie ID</th>\n",
              "      <th>Title</th>\n",
              "      <th>Factor1</th>\n",
              "      <th>Factor2</th>\n",
              "      <th>Factor3</th>\n",
              "      <th>Factor4</th>\n",
              "      <th>Factor5</th>\n",
              "      <th>Factor6</th>\n",
              "      <th>Factor7</th>\n",
              "      <th>Factor8</th>\n",
              "      <th>Factor9</th>\n",
              "      <th>Factor10</th>\n",
              "      <th>Factor11</th>\n",
              "      <th>Factor12</th>\n",
              "      <th>Factor13</th>\n",
              "      <th>Factor14</th>\n",
              "      <th>Factor15</th>\n",
              "    </tr>\n",
              "  </thead>\n",
              "  <tbody>\n",
              "    <tr>\n",
              "      <th>2</th>\n",
              "      <td>13</td>\n",
              "      <td>Forrest Gump (1994)</td>\n",
              "      <td>-2.240888</td>\n",
              "      <td>-0.438815</td>\n",
              "      <td>-2.275177</td>\n",
              "      <td>0.614548</td>\n",
              "      <td>0.904469</td>\n",
              "      <td>0.711919</td>\n",
              "      <td>-0.420876</td>\n",
              "      <td>1.302036</td>\n",
              "      <td>-0.868418</td>\n",
              "      <td>-0.160122</td>\n",
              "      <td>0.633667</td>\n",
              "      <td>0.133138</td>\n",
              "      <td>-0.330276</td>\n",
              "      <td>-2.209004</td>\n",
              "      <td>-0.419092</td>\n",
              "    </tr>\n",
              "    <tr>\n",
              "      <th>33</th>\n",
              "      <td>278</td>\n",
              "      <td>The Shawshank Redemption (1994)</td>\n",
              "      <td>-2.780308</td>\n",
              "      <td>-0.088747</td>\n",
              "      <td>-1.821590</td>\n",
              "      <td>-0.157495</td>\n",
              "      <td>0.323285</td>\n",
              "      <td>-0.114768</td>\n",
              "      <td>0.281397</td>\n",
              "      <td>-0.130262</td>\n",
              "      <td>0.028689</td>\n",
              "      <td>-0.810090</td>\n",
              "      <td>-0.229137</td>\n",
              "      <td>0.587575</td>\n",
              "      <td>0.194144</td>\n",
              "      <td>-0.976664</td>\n",
              "      <td>-0.779991</td>\n",
              "    </tr>\n",
              "    <tr>\n",
              "      <th>50</th>\n",
              "      <td>603</td>\n",
              "      <td>The Matrix (1999)</td>\n",
              "      <td>-3.063639</td>\n",
              "      <td>-1.319283</td>\n",
              "      <td>-0.043618</td>\n",
              "      <td>-0.994612</td>\n",
              "      <td>-0.954054</td>\n",
              "      <td>0.190838</td>\n",
              "      <td>0.197918</td>\n",
              "      <td>-0.093962</td>\n",
              "      <td>-1.082840</td>\n",
              "      <td>-0.003843</td>\n",
              "      <td>1.377453</td>\n",
              "      <td>-1.668189</td>\n",
              "      <td>-1.348377</td>\n",
              "      <td>0.223797</td>\n",
              "      <td>0.752413</td>\n",
              "    </tr>\n",
              "  </tbody>\n",
              "</table>\n",
              "</div>"
            ],
            "text/plain": [
              "    Movie ID                            Title  ...  Factor14  Factor15\n",
              "2         13              Forrest Gump (1994)  ... -2.209004 -0.419092\n",
              "33       278  The Shawshank Redemption (1994)  ... -0.976664 -0.779991\n",
              "50       603                The Matrix (1999)  ...  0.223797  0.752413\n",
              "\n",
              "[3 rows x 17 columns]"
            ]
          },
          "metadata": {
            "tags": []
          },
          "execution_count": 176
        }
      ]
    },
    {
      "cell_type": "code",
      "metadata": {
        "id": "kd5B0YCOF4pI"
      },
      "source": [
        ""
      ],
      "execution_count": null,
      "outputs": []
    }
  ]
}