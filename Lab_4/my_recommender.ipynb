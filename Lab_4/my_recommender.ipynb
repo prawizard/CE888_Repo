{
  "nbformat": 4,
  "nbformat_minor": 0,
  "metadata": {
    "colab": {
      "name": "my_recommender.ipynb",
      "provenance": [],
      "authorship_tag": "ABX9TyP/yj+xORyaAH1t/frx6R7O",
      "include_colab_link": true
    },
    "kernelspec": {
      "name": "python3",
      "display_name": "Python 3"
    },
    "language_info": {
      "name": "python"
    }
  },
  "cells": [
    {
      "cell_type": "markdown",
      "metadata": {
        "id": "view-in-github",
        "colab_type": "text"
      },
      "source": [
        "<a href=\"https://colab.research.google.com/github/prawizard/CE888_Repo/blob/main/Lab_4/my_recommender.ipynb\" target=\"_parent\"><img src=\"https://colab.research.google.com/assets/colab-badge.svg\" alt=\"Open In Colab\"/></a>"
      ]
    },
    {
      "cell_type": "markdown",
      "metadata": {
        "id": "iD3tvkgRaSmW"
      },
      "source": [
        "# Import packages/libraries"
      ]
    },
    {
      "cell_type": "code",
      "metadata": {
        "id": "OUnxWB3FFeaL"
      },
      "source": [
        "import pandas as pd\n",
        "import numpy as np\n",
        "import matplotlib.pyplot as plt\n"
      ],
      "execution_count": 1,
      "outputs": []
    },
    {
      "cell_type": "markdown",
      "metadata": {
        "id": "vj658OypaYJE"
      },
      "source": [
        "# Load the data files"
      ]
    },
    {
      "cell_type": "code",
      "metadata": {
        "id": "ECPhByhUGQ_a"
      },
      "source": [
        "data=pd.read_csv('https://raw.githubusercontent.com/albanda/CE888/master/lab4-recommender/jester-data-1.csv', header=None)"
      ],
      "execution_count": 2,
      "outputs": []
    },
    {
      "cell_type": "code",
      "metadata": {
        "id": "y6s7l2F5HS8Q"
      },
      "source": [
        "test_data=pd.DataFrame(data)\n",
        "test_data=pd.concat([test_data.loc[:, 0], test_data.loc[:, 1:].replace(99.00, np.NaN)], axis=1)\n",
        "test_data.drop(columns=[0], inplace=True)"
      ],
      "execution_count": 3,
      "outputs": []
    },
    {
      "cell_type": "code",
      "metadata": {
        "id": "otueWz1wccC0"
      },
      "source": [
        "data=pd.concat([data.loc[:, 0], data.loc[:, 1:].replace(99.00, np.NaN)], axis=1)\n",
        "data.drop(columns=[0], inplace=True)"
      ],
      "execution_count": 5,
      "outputs": []
    },
    {
      "cell_type": "code",
      "metadata": {
        "id": "sabQoglucqH9"
      },
      "source": [
        "val_data=pd.read_csv('https://raw.githubusercontent.com/albanda/CE888/master/lab4-recommender/jester-data-1.csv', header=None)\n",
        "val_data.drop(columns=[0], inplace=True)\n",
        "# val_data.head()"
      ],
      "execution_count": 16,
      "outputs": []
    },
    {
      "cell_type": "markdown",
      "metadata": {
        "id": "e--FFgeNdJOL"
      },
      "source": [
        "# Highest and lowest rated joke"
      ]
    },
    {
      "cell_type": "code",
      "metadata": {
        "colab": {
          "base_uri": "https://localhost:8080/"
        },
        "id": "5KwTHPq1tYjT",
        "outputId": "dc118cd0-f182-4a70-8028-9a022d531078"
      },
      "source": [
        "print('Joke with highest rating : ', test_data.max(axis=0).idxmax())\n",
        "print('Joke with lowest rating : ', test_data.min(axis=0).idxmin())"
      ],
      "execution_count": 180,
      "outputs": [
        {
          "output_type": "stream",
          "text": [
            "Joke with highest rating :  45\n",
            "Joke with lowest rating :  1\n"
          ],
          "name": "stdout"
        }
      ]
    },
    {
      "cell_type": "code",
      "metadata": {
        "id": "4uh3la1WxlyI"
      },
      "source": [
        "# val_data=pd.DataFrame(data)\n",
        "# val_data.drop(columns=[0], inplace=True)"
      ],
      "execution_count": null,
      "outputs": []
    },
    {
      "cell_type": "markdown",
      "metadata": {
        "id": "6yxASbetgDMy"
      },
      "source": [
        "# Prepare Validation Data"
      ]
    },
    {
      "cell_type": "code",
      "metadata": {
        "colab": {
          "base_uri": "https://localhost:8080/"
        },
        "id": "y9HObTv_WFwe",
        "outputId": "c10850df-67e4-4c1b-a41e-7ac1935ee765"
      },
      "source": [
        "arr = val_data.values\n",
        "arr.shape"
      ],
      "execution_count": 17,
      "outputs": [
        {
          "output_type": "execute_result",
          "data": {
            "text/plain": [
              "(24983, 100)"
            ]
          },
          "metadata": {
            "tags": []
          },
          "execution_count": 17
        }
      ]
    },
    {
      "cell_type": "code",
      "metadata": {
        "colab": {
          "base_uri": "https://localhost:8080/"
        },
        "id": "sf-JXNOeWKg1",
        "outputId": "1a8a1fc6-292e-4482-f986-42dcf9c5a928"
      },
      "source": [
        "rated = np.where(arr!=99)\n",
        "print(len(rated[0]), rated[1].shape)"
      ],
      "execution_count": 19,
      "outputs": [
        {
          "output_type": "stream",
          "text": [
            "1810455 (1810455,)\n"
          ],
          "name": "stdout"
        }
      ]
    },
    {
      "cell_type": "code",
      "metadata": {
        "id": "5yNfg37WZae8"
      },
      "source": [
        "# data.drop(columns=[0], inplace=True)"
      ],
      "execution_count": null,
      "outputs": []
    },
    {
      "cell_type": "code",
      "metadata": {
        "id": "dkpajZh27ARd",
        "colab": {
          "base_uri": "https://localhost:8080/"
        },
        "outputId": "8df58b80-33ca-4eeb-fca1-d3d5a38915db"
      },
      "source": [
        "len(np.where(arr!=99)[1])"
      ],
      "execution_count": 35,
      "outputs": [
        {
          "output_type": "execute_result",
          "data": {
            "text/plain": [
              "1810455"
            ]
          },
          "metadata": {
            "tags": []
          },
          "execution_count": 35
        }
      ]
    },
    {
      "cell_type": "code",
      "metadata": {
        "id": "unyFgE5_W7Os"
      },
      "source": [
        "def replace(orig, percentage=0.1):\n",
        "  \"\"\"\n",
        "  Replaces 'percentage'% of the original values in 'orig' with 99's\n",
        "  :param orig: original data array\n",
        "  :param percentage: percentage of values to replace (0<percentage<1)\n",
        "  \"\"\"\n",
        "  new_data = orig.copy()\n",
        "  rated = np.where(arr!=99)\n",
        "  n_rated = len(rated[0])\n",
        "  idx = np.random.choice(n_rated, size=int(percentage*n_rated), replace=False)\n",
        "  new_data[rated[0][idx], rated[1][idx]] = 99\n",
        "  return new_data, (rated[0][idx], rated[1][idx])"
      ],
      "execution_count": 21,
      "outputs": []
    },
    {
      "cell_type": "code",
      "metadata": {
        "id": "dI1adC-Zd4am"
      },
      "source": [
        "new_arr, idx = replace(arr, 0.1)"
      ],
      "execution_count": 36,
      "outputs": []
    },
    {
      "cell_type": "code",
      "metadata": {
        "colab": {
          "base_uri": "https://localhost:8080/"
        },
        "id": "VewVl1-uwDW-",
        "outputId": "ae4f7d6b-233c-4493-8e83-c27a6165fef0"
      },
      "source": [
        "arr[idx[0][0], idx[1][0]]"
      ],
      "execution_count": 37,
      "outputs": [
        {
          "output_type": "execute_result",
          "data": {
            "text/plain": [
              "-4.71"
            ]
          },
          "metadata": {
            "tags": []
          },
          "execution_count": 37
        }
      ]
    },
    {
      "cell_type": "code",
      "metadata": {
        "colab": {
          "base_uri": "https://localhost:8080/"
        },
        "id": "qoBuorg7wF7Q",
        "outputId": "f71aabf9-2a61-4092-ef59-5be54f39bec9"
      },
      "source": [
        "new_arr[idx[0][0], idx[1][0]]"
      ],
      "execution_count": 38,
      "outputs": [
        {
          "output_type": "execute_result",
          "data": {
            "text/plain": [
              "99.0"
            ]
          },
          "metadata": {
            "tags": []
          },
          "execution_count": 38
        }
      ]
    },
    {
      "cell_type": "code",
      "metadata": {
        "id": "9VmabXr_dCDO",
        "colab": {
          "base_uri": "https://localhost:8080/",
          "height": 244
        },
        "outputId": "2ee1e10a-c7e8-4d71-818e-a432881341be"
      },
      "source": [
        "val_data=pd.DataFrame(new_arr)\n",
        "val_data=pd.DataFrame(val_data.loc[:, 0:].replace(99.00, np.NaN))\n",
        "val_data.head()"
      ],
      "execution_count": 39,
      "outputs": [
        {
          "output_type": "execute_result",
          "data": {
            "text/html": [
              "<div>\n",
              "<style scoped>\n",
              "    .dataframe tbody tr th:only-of-type {\n",
              "        vertical-align: middle;\n",
              "    }\n",
              "\n",
              "    .dataframe tbody tr th {\n",
              "        vertical-align: top;\n",
              "    }\n",
              "\n",
              "    .dataframe thead th {\n",
              "        text-align: right;\n",
              "    }\n",
              "</style>\n",
              "<table border=\"1\" class=\"dataframe\">\n",
              "  <thead>\n",
              "    <tr style=\"text-align: right;\">\n",
              "      <th></th>\n",
              "      <th>0</th>\n",
              "      <th>1</th>\n",
              "      <th>2</th>\n",
              "      <th>3</th>\n",
              "      <th>4</th>\n",
              "      <th>5</th>\n",
              "      <th>6</th>\n",
              "      <th>7</th>\n",
              "      <th>8</th>\n",
              "      <th>9</th>\n",
              "      <th>10</th>\n",
              "      <th>11</th>\n",
              "      <th>12</th>\n",
              "      <th>13</th>\n",
              "      <th>14</th>\n",
              "      <th>15</th>\n",
              "      <th>16</th>\n",
              "      <th>17</th>\n",
              "      <th>18</th>\n",
              "      <th>19</th>\n",
              "      <th>20</th>\n",
              "      <th>21</th>\n",
              "      <th>22</th>\n",
              "      <th>23</th>\n",
              "      <th>24</th>\n",
              "      <th>25</th>\n",
              "      <th>26</th>\n",
              "      <th>27</th>\n",
              "      <th>28</th>\n",
              "      <th>29</th>\n",
              "      <th>30</th>\n",
              "      <th>31</th>\n",
              "      <th>32</th>\n",
              "      <th>33</th>\n",
              "      <th>34</th>\n",
              "      <th>35</th>\n",
              "      <th>36</th>\n",
              "      <th>37</th>\n",
              "      <th>38</th>\n",
              "      <th>39</th>\n",
              "      <th>...</th>\n",
              "      <th>60</th>\n",
              "      <th>61</th>\n",
              "      <th>62</th>\n",
              "      <th>63</th>\n",
              "      <th>64</th>\n",
              "      <th>65</th>\n",
              "      <th>66</th>\n",
              "      <th>67</th>\n",
              "      <th>68</th>\n",
              "      <th>69</th>\n",
              "      <th>70</th>\n",
              "      <th>71</th>\n",
              "      <th>72</th>\n",
              "      <th>73</th>\n",
              "      <th>74</th>\n",
              "      <th>75</th>\n",
              "      <th>76</th>\n",
              "      <th>77</th>\n",
              "      <th>78</th>\n",
              "      <th>79</th>\n",
              "      <th>80</th>\n",
              "      <th>81</th>\n",
              "      <th>82</th>\n",
              "      <th>83</th>\n",
              "      <th>84</th>\n",
              "      <th>85</th>\n",
              "      <th>86</th>\n",
              "      <th>87</th>\n",
              "      <th>88</th>\n",
              "      <th>89</th>\n",
              "      <th>90</th>\n",
              "      <th>91</th>\n",
              "      <th>92</th>\n",
              "      <th>93</th>\n",
              "      <th>94</th>\n",
              "      <th>95</th>\n",
              "      <th>96</th>\n",
              "      <th>97</th>\n",
              "      <th>98</th>\n",
              "      <th>99</th>\n",
              "    </tr>\n",
              "  </thead>\n",
              "  <tbody>\n",
              "    <tr>\n",
              "      <th>0</th>\n",
              "      <td>NaN</td>\n",
              "      <td>8.79</td>\n",
              "      <td>-9.66</td>\n",
              "      <td>-8.16</td>\n",
              "      <td>-7.52</td>\n",
              "      <td>-8.50</td>\n",
              "      <td>-9.85</td>\n",
              "      <td>4.17</td>\n",
              "      <td>-8.98</td>\n",
              "      <td>-4.76</td>\n",
              "      <td>-8.50</td>\n",
              "      <td>-6.75</td>\n",
              "      <td>-7.18</td>\n",
              "      <td>8.45</td>\n",
              "      <td>-7.18</td>\n",
              "      <td>-7.52</td>\n",
              "      <td>-7.43</td>\n",
              "      <td>-9.81</td>\n",
              "      <td>-9.85</td>\n",
              "      <td>-9.85</td>\n",
              "      <td>-9.37</td>\n",
              "      <td>1.50</td>\n",
              "      <td>-4.37</td>\n",
              "      <td>NaN</td>\n",
              "      <td>-8.50</td>\n",
              "      <td>1.12</td>\n",
              "      <td>7.82</td>\n",
              "      <td>2.86</td>\n",
              "      <td>NaN</td>\n",
              "      <td>-7.43</td>\n",
              "      <td>2.14</td>\n",
              "      <td>-4.08</td>\n",
              "      <td>-9.08</td>\n",
              "      <td>7.82</td>\n",
              "      <td>5.05</td>\n",
              "      <td>4.95</td>\n",
              "      <td>-9.17</td>\n",
              "      <td>-8.40</td>\n",
              "      <td>-8.40</td>\n",
              "      <td>-8.40</td>\n",
              "      <td>...</td>\n",
              "      <td>8.59</td>\n",
              "      <td>3.59</td>\n",
              "      <td>-6.84</td>\n",
              "      <td>-9.03</td>\n",
              "      <td>2.82</td>\n",
              "      <td>-1.36</td>\n",
              "      <td>-9.08</td>\n",
              "      <td>8.30</td>\n",
              "      <td>5.68</td>\n",
              "      <td>-4.81</td>\n",
              "      <td>NaN</td>\n",
              "      <td>NaN</td>\n",
              "      <td>NaN</td>\n",
              "      <td>NaN</td>\n",
              "      <td>NaN</td>\n",
              "      <td>NaN</td>\n",
              "      <td>NaN</td>\n",
              "      <td>-9.42</td>\n",
              "      <td>NaN</td>\n",
              "      <td>NaN</td>\n",
              "      <td>NaN</td>\n",
              "      <td>-7.72</td>\n",
              "      <td>NaN</td>\n",
              "      <td>NaN</td>\n",
              "      <td>NaN</td>\n",
              "      <td>NaN</td>\n",
              "      <td>NaN</td>\n",
              "      <td>NaN</td>\n",
              "      <td>NaN</td>\n",
              "      <td>NaN</td>\n",
              "      <td>2.82</td>\n",
              "      <td>NaN</td>\n",
              "      <td>NaN</td>\n",
              "      <td>NaN</td>\n",
              "      <td>NaN</td>\n",
              "      <td>NaN</td>\n",
              "      <td>-5.63</td>\n",
              "      <td>NaN</td>\n",
              "      <td>NaN</td>\n",
              "      <td>NaN</td>\n",
              "    </tr>\n",
              "    <tr>\n",
              "      <th>1</th>\n",
              "      <td>NaN</td>\n",
              "      <td>-0.29</td>\n",
              "      <td>6.36</td>\n",
              "      <td>4.37</td>\n",
              "      <td>-2.38</td>\n",
              "      <td>-9.66</td>\n",
              "      <td>-0.73</td>\n",
              "      <td>-5.34</td>\n",
              "      <td>8.88</td>\n",
              "      <td>9.22</td>\n",
              "      <td>6.75</td>\n",
              "      <td>8.64</td>\n",
              "      <td>4.42</td>\n",
              "      <td>7.43</td>\n",
              "      <td>4.56</td>\n",
              "      <td>-0.97</td>\n",
              "      <td>4.66</td>\n",
              "      <td>-0.68</td>\n",
              "      <td>3.30</td>\n",
              "      <td>-1.21</td>\n",
              "      <td>0.87</td>\n",
              "      <td>8.64</td>\n",
              "      <td>8.35</td>\n",
              "      <td>9.17</td>\n",
              "      <td>0.05</td>\n",
              "      <td>7.57</td>\n",
              "      <td>4.71</td>\n",
              "      <td>0.87</td>\n",
              "      <td>-0.39</td>\n",
              "      <td>6.99</td>\n",
              "      <td>6.50</td>\n",
              "      <td>-0.92</td>\n",
              "      <td>7.14</td>\n",
              "      <td>9.03</td>\n",
              "      <td>-1.80</td>\n",
              "      <td>0.73</td>\n",
              "      <td>7.09</td>\n",
              "      <td>3.40</td>\n",
              "      <td>-0.87</td>\n",
              "      <td>7.91</td>\n",
              "      <td>...</td>\n",
              "      <td>-6.70</td>\n",
              "      <td>-3.35</td>\n",
              "      <td>-9.03</td>\n",
              "      <td>4.47</td>\n",
              "      <td>NaN</td>\n",
              "      <td>-3.83</td>\n",
              "      <td>8.74</td>\n",
              "      <td>1.12</td>\n",
              "      <td>0.78</td>\n",
              "      <td>7.52</td>\n",
              "      <td>-5.0</td>\n",
              "      <td>2.77</td>\n",
              "      <td>8.3</td>\n",
              "      <td>7.77</td>\n",
              "      <td>7.33</td>\n",
              "      <td>NaN</td>\n",
              "      <td>7.72</td>\n",
              "      <td>8.98</td>\n",
              "      <td>8.64</td>\n",
              "      <td>8.20</td>\n",
              "      <td>3.93</td>\n",
              "      <td>NaN</td>\n",
              "      <td>4.85</td>\n",
              "      <td>6.07</td>\n",
              "      <td>8.98</td>\n",
              "      <td>4.51</td>\n",
              "      <td>-0.05</td>\n",
              "      <td>3.69</td>\n",
              "      <td>4.56</td>\n",
              "      <td>0.58</td>\n",
              "      <td>2.82</td>\n",
              "      <td>-4.95</td>\n",
              "      <td>-0.29</td>\n",
              "      <td>7.86</td>\n",
              "      <td>-0.19</td>\n",
              "      <td>-2.14</td>\n",
              "      <td>3.06</td>\n",
              "      <td>0.34</td>\n",
              "      <td>-4.32</td>\n",
              "      <td>1.07</td>\n",
              "    </tr>\n",
              "    <tr>\n",
              "      <th>2</th>\n",
              "      <td>NaN</td>\n",
              "      <td>NaN</td>\n",
              "      <td>NaN</td>\n",
              "      <td>NaN</td>\n",
              "      <td>NaN</td>\n",
              "      <td>9.27</td>\n",
              "      <td>NaN</td>\n",
              "      <td>9.27</td>\n",
              "      <td>NaN</td>\n",
              "      <td>NaN</td>\n",
              "      <td>7.33</td>\n",
              "      <td>7.57</td>\n",
              "      <td>9.37</td>\n",
              "      <td>6.17</td>\n",
              "      <td>-6.36</td>\n",
              "      <td>-6.89</td>\n",
              "      <td>-7.86</td>\n",
              "      <td>9.03</td>\n",
              "      <td>9.03</td>\n",
              "      <td>9.03</td>\n",
              "      <td>7.28</td>\n",
              "      <td>NaN</td>\n",
              "      <td>8.25</td>\n",
              "      <td>NaN</td>\n",
              "      <td>NaN</td>\n",
              "      <td>NaN</td>\n",
              "      <td>7.28</td>\n",
              "      <td>7.28</td>\n",
              "      <td>8.93</td>\n",
              "      <td>NaN</td>\n",
              "      <td>6.17</td>\n",
              "      <td>7.28</td>\n",
              "      <td>NaN</td>\n",
              "      <td>NaN</td>\n",
              "      <td>8.98</td>\n",
              "      <td>7.33</td>\n",
              "      <td>NaN</td>\n",
              "      <td>6.17</td>\n",
              "      <td>9.08</td>\n",
              "      <td>7.33</td>\n",
              "      <td>...</td>\n",
              "      <td>6.46</td>\n",
              "      <td>7.28</td>\n",
              "      <td>NaN</td>\n",
              "      <td>NaN</td>\n",
              "      <td>7.04</td>\n",
              "      <td>7.28</td>\n",
              "      <td>NaN</td>\n",
              "      <td>7.28</td>\n",
              "      <td>NaN</td>\n",
              "      <td>NaN</td>\n",
              "      <td>NaN</td>\n",
              "      <td>NaN</td>\n",
              "      <td>NaN</td>\n",
              "      <td>NaN</td>\n",
              "      <td>NaN</td>\n",
              "      <td>NaN</td>\n",
              "      <td>NaN</td>\n",
              "      <td>NaN</td>\n",
              "      <td>NaN</td>\n",
              "      <td>9.08</td>\n",
              "      <td>NaN</td>\n",
              "      <td>NaN</td>\n",
              "      <td>NaN</td>\n",
              "      <td>NaN</td>\n",
              "      <td>NaN</td>\n",
              "      <td>NaN</td>\n",
              "      <td>NaN</td>\n",
              "      <td>NaN</td>\n",
              "      <td>NaN</td>\n",
              "      <td>9.03</td>\n",
              "      <td>NaN</td>\n",
              "      <td>NaN</td>\n",
              "      <td>NaN</td>\n",
              "      <td>9.08</td>\n",
              "      <td>NaN</td>\n",
              "      <td>NaN</td>\n",
              "      <td>NaN</td>\n",
              "      <td>NaN</td>\n",
              "      <td>NaN</td>\n",
              "      <td>NaN</td>\n",
              "    </tr>\n",
              "    <tr>\n",
              "      <th>3</th>\n",
              "      <td>NaN</td>\n",
              "      <td>8.35</td>\n",
              "      <td>NaN</td>\n",
              "      <td>NaN</td>\n",
              "      <td>1.80</td>\n",
              "      <td>NaN</td>\n",
              "      <td>-2.82</td>\n",
              "      <td>6.21</td>\n",
              "      <td>NaN</td>\n",
              "      <td>1.84</td>\n",
              "      <td>7.33</td>\n",
              "      <td>6.60</td>\n",
              "      <td>6.31</td>\n",
              "      <td>8.11</td>\n",
              "      <td>-7.23</td>\n",
              "      <td>-6.65</td>\n",
              "      <td>1.17</td>\n",
              "      <td>-6.60</td>\n",
              "      <td>-3.64</td>\n",
              "      <td>-2.09</td>\n",
              "      <td>5.34</td>\n",
              "      <td>NaN</td>\n",
              "      <td>NaN</td>\n",
              "      <td>NaN</td>\n",
              "      <td>NaN</td>\n",
              "      <td>2.91</td>\n",
              "      <td>3.93</td>\n",
              "      <td>6.75</td>\n",
              "      <td>6.60</td>\n",
              "      <td>NaN</td>\n",
              "      <td>6.65</td>\n",
              "      <td>-6.12</td>\n",
              "      <td>NaN</td>\n",
              "      <td>7.57</td>\n",
              "      <td>6.21</td>\n",
              "      <td>6.65</td>\n",
              "      <td>NaN</td>\n",
              "      <td>-8.30</td>\n",
              "      <td>7.18</td>\n",
              "      <td>2.82</td>\n",
              "      <td>...</td>\n",
              "      <td>0.00</td>\n",
              "      <td>-3.69</td>\n",
              "      <td>NaN</td>\n",
              "      <td>NaN</td>\n",
              "      <td>7.82</td>\n",
              "      <td>0.24</td>\n",
              "      <td>NaN</td>\n",
              "      <td>7.28</td>\n",
              "      <td>-2.33</td>\n",
              "      <td>NaN</td>\n",
              "      <td>NaN</td>\n",
              "      <td>NaN</td>\n",
              "      <td>NaN</td>\n",
              "      <td>NaN</td>\n",
              "      <td>NaN</td>\n",
              "      <td>NaN</td>\n",
              "      <td>NaN</td>\n",
              "      <td>NaN</td>\n",
              "      <td>NaN</td>\n",
              "      <td>NaN</td>\n",
              "      <td>NaN</td>\n",
              "      <td>NaN</td>\n",
              "      <td>NaN</td>\n",
              "      <td>NaN</td>\n",
              "      <td>0.63</td>\n",
              "      <td>NaN</td>\n",
              "      <td>NaN</td>\n",
              "      <td>-2.33</td>\n",
              "      <td>NaN</td>\n",
              "      <td>NaN</td>\n",
              "      <td>NaN</td>\n",
              "      <td>NaN</td>\n",
              "      <td>NaN</td>\n",
              "      <td>0.53</td>\n",
              "      <td>NaN</td>\n",
              "      <td>NaN</td>\n",
              "      <td>NaN</td>\n",
              "      <td>NaN</td>\n",
              "      <td>NaN</td>\n",
              "      <td>NaN</td>\n",
              "    </tr>\n",
              "    <tr>\n",
              "      <th>4</th>\n",
              "      <td>8.5</td>\n",
              "      <td>4.61</td>\n",
              "      <td>-4.17</td>\n",
              "      <td>NaN</td>\n",
              "      <td>1.36</td>\n",
              "      <td>1.60</td>\n",
              "      <td>NaN</td>\n",
              "      <td>4.61</td>\n",
              "      <td>-0.44</td>\n",
              "      <td>5.73</td>\n",
              "      <td>8.25</td>\n",
              "      <td>6.84</td>\n",
              "      <td>-3.93</td>\n",
              "      <td>7.23</td>\n",
              "      <td>-2.33</td>\n",
              "      <td>-9.66</td>\n",
              "      <td>2.72</td>\n",
              "      <td>-1.36</td>\n",
              "      <td>2.57</td>\n",
              "      <td>4.51</td>\n",
              "      <td>8.20</td>\n",
              "      <td>6.12</td>\n",
              "      <td>8.30</td>\n",
              "      <td>-1.26</td>\n",
              "      <td>7.77</td>\n",
              "      <td>1.89</td>\n",
              "      <td>NaN</td>\n",
              "      <td>5.68</td>\n",
              "      <td>8.45</td>\n",
              "      <td>4.61</td>\n",
              "      <td>8.06</td>\n",
              "      <td>-9.47</td>\n",
              "      <td>7.28</td>\n",
              "      <td>5.68</td>\n",
              "      <td>2.48</td>\n",
              "      <td>3.20</td>\n",
              "      <td>-1.26</td>\n",
              "      <td>6.80</td>\n",
              "      <td>4.51</td>\n",
              "      <td>2.48</td>\n",
              "      <td>...</td>\n",
              "      <td>7.38</td>\n",
              "      <td>6.17</td>\n",
              "      <td>4.71</td>\n",
              "      <td>-2.28</td>\n",
              "      <td>7.38</td>\n",
              "      <td>4.56</td>\n",
              "      <td>7.14</td>\n",
              "      <td>4.22</td>\n",
              "      <td>3.01</td>\n",
              "      <td>3.83</td>\n",
              "      <td>NaN</td>\n",
              "      <td>NaN</td>\n",
              "      <td>NaN</td>\n",
              "      <td>NaN</td>\n",
              "      <td>NaN</td>\n",
              "      <td>NaN</td>\n",
              "      <td>4.13</td>\n",
              "      <td>NaN</td>\n",
              "      <td>NaN</td>\n",
              "      <td>NaN</td>\n",
              "      <td>NaN</td>\n",
              "      <td>5.92</td>\n",
              "      <td>0.87</td>\n",
              "      <td>7.28</td>\n",
              "      <td>3.93</td>\n",
              "      <td>NaN</td>\n",
              "      <td>6.31</td>\n",
              "      <td>4.71</td>\n",
              "      <td>2.82</td>\n",
              "      <td>2.96</td>\n",
              "      <td>5.19</td>\n",
              "      <td>5.58</td>\n",
              "      <td>4.27</td>\n",
              "      <td>5.19</td>\n",
              "      <td>5.73</td>\n",
              "      <td>1.55</td>\n",
              "      <td>3.11</td>\n",
              "      <td>6.55</td>\n",
              "      <td>1.80</td>\n",
              "      <td>1.60</td>\n",
              "    </tr>\n",
              "  </tbody>\n",
              "</table>\n",
              "<p>5 rows × 100 columns</p>\n",
              "</div>"
            ],
            "text/plain": [
              "    0     1     2     3     4     5   ...    94    95    96    97    98    99\n",
              "0  NaN  8.79 -9.66 -8.16 -7.52 -8.50  ...   NaN   NaN -5.63   NaN   NaN   NaN\n",
              "1  NaN -0.29  6.36  4.37 -2.38 -9.66  ... -0.19 -2.14  3.06  0.34 -4.32  1.07\n",
              "2  NaN   NaN   NaN   NaN   NaN  9.27  ...   NaN   NaN   NaN   NaN   NaN   NaN\n",
              "3  NaN  8.35   NaN   NaN  1.80   NaN  ...   NaN   NaN   NaN   NaN   NaN   NaN\n",
              "4  8.5  4.61 -4.17   NaN  1.36  1.60  ...  5.73  1.55  3.11  6.55  1.80  1.60\n",
              "\n",
              "[5 rows x 100 columns]"
            ]
          },
          "metadata": {
            "tags": []
          },
          "execution_count": 39
        }
      ]
    },
    {
      "cell_type": "markdown",
      "metadata": {
        "id": "1CCaVUn08ylY"
      },
      "source": [
        "# Training"
      ]
    },
    {
      "cell_type": "code",
      "metadata": {
        "id": "C4N5BPUV6xhu"
      },
      "source": [
        "n_latent_factors = 2\n",
        "\n",
        "user_ratings = data.values\n",
        "# Initialise as random values\n",
        "latent_user_preferences = np.random.random((user_ratings.shape[0], n_latent_factors))\n",
        "latent_item_features = np.random.random((user_ratings.shape[1], n_latent_factors))"
      ],
      "execution_count": 189,
      "outputs": []
    },
    {
      "cell_type": "code",
      "metadata": {
        "id": "POHBvBF2wIOp"
      },
      "source": [
        "def predict_rating(user_id, item_id):\n",
        "    \"\"\" Predict a rating given a user_id and an item_id.\n",
        "    \"\"\"\n",
        "    user_preference = latent_user_preferences[user_id]\n",
        "    item_preference = latent_item_features[item_id]\n",
        "    return user_preference.dot(item_preference)\n",
        "\n",
        "\n",
        "def train(user_id, item_id, rating, alpha=0.0001):\n",
        "    #print(item_id)\n",
        "    predicted_rating = predict_rating(user_id, item_id)\n",
        "    err =  predicted_rating - rating\n",
        "    #print(err)\n",
        "    user_pref_values = latent_user_preferences[user_id]\n",
        "    latent_user_preferences[user_id] -= alpha * err * latent_item_features[item_id]\n",
        "    latent_item_features[item_id] -= alpha * err * user_pref_values\n",
        "    return err\n",
        "    \n",
        "\n",
        "def sgd(iterations):\n",
        "    \"\"\" Iterate over all users and all items and train for \n",
        "        a certain number of iterations\n",
        "    \"\"\"\n",
        "    mse_history = []\n",
        "    for iteration in range(iterations):\n",
        "        error = []\n",
        "        for user_id in range(latent_user_preferences.shape[0]):\n",
        "            for item_id in range(latent_item_features.shape[0]):\n",
        "                rating = user_ratings[user_id, item_id]\n",
        "                if not np.isnan(rating):\n",
        "                    err = train(user_id, item_id, rating)\n",
        "                    error.append(err)\n",
        "        mse = (np.array(error) ** 2).mean()   \n",
        "        if (iteration % 2) == 0:\n",
        "            print('Iteration %d/%d:\\tMSE=%.6f' % (iteration, iterations, mse))\n",
        "            mse_history.append(mse)\n",
        "    return mse_history"
      ],
      "execution_count": 190,
      "outputs": []
    },
    {
      "cell_type": "code",
      "metadata": {
        "colab": {
          "base_uri": "https://localhost:8080/"
        },
        "id": "tHVLcbkt35ov",
        "outputId": "d7514622-564d-4e14-83cb-cf718c9eedf4"
      },
      "source": [
        "num_iter = 10\n",
        "hist = sgd(num_iter)  # Note how the MSE decreases with the number of iterations"
      ],
      "execution_count": 191,
      "outputs": [
        {
          "output_type": "stream",
          "text": [
            "Iteration 0/10:\tMSE=26.197981\n",
            "Iteration 2/10:\tMSE=24.941956\n",
            "Iteration 4/10:\tMSE=24.475073\n",
            "Iteration 6/10:\tMSE=24.002070\n",
            "Iteration 8/10:\tMSE=23.524682\n"
          ],
          "name": "stdout"
        }
      ]
    },
    {
      "cell_type": "code",
      "metadata": {
        "colab": {
          "base_uri": "https://localhost:8080/",
          "height": 279
        },
        "id": "2TlgJFYK7Lgm",
        "outputId": "3fb86392-223f-4fbc-c247-e5658072ca4b"
      },
      "source": [
        "plt.figure()\n",
        "plt.plot(np.arange(0, num_iter, 2), hist)\n",
        "plt.xlabel(\"Iterations\")\n",
        "plt.ylabel(\"MSE\")\n",
        "plt.show()"
      ],
      "execution_count": 192,
      "outputs": [
        {
          "output_type": "display_data",
          "data": {
            "image/png": "[encoded data removed]",
            "text/plain": [
              "<Figure size 432x288 with 1 Axes>"
            ]
          },
          "metadata": {
            "tags": [],
            "needs_background": "light"
          }
        }
      ]
    },
    {
      "cell_type": "markdown",
      "metadata": {
        "id": "VE9P4o5n82N7"
      },
      "source": [
        "# Predicting"
      ]
    },
    {
      "cell_type": "code",
      "metadata": {
        "colab": {
          "base_uri": "https://localhost:8080/"
        },
        "id": "0wFebMUX97UW",
        "outputId": "1545ed50-a9fb-4079-9f0c-1b9d46a4af9e"
      },
      "source": [
        "predictions = latent_user_preferences.dot(latent_item_features.T)\n",
        "predictions"
      ],
      "execution_count": 193,
      "outputs": [
        {
          "output_type": "execute_result",
          "data": {
            "text/plain": [
              "array([[0.89621365, 0.57672886, 0.60527279, ..., 1.09508259, 0.47401317,\n",
              "        1.3894225 ],\n",
              "       [0.76350981, 0.49618581, 0.42153811, ..., 0.73612802, 0.32282567,\n",
              "        1.21123716],\n",
              "       [1.7924897 , 1.15744737, 1.13401617, ..., 2.03011575, 0.88215559,\n",
              "        2.80135627],\n",
              "       ...,\n",
              "       [1.33294943, 0.85707498, 0.91381747, ..., 1.65714453, 0.71670041,\n",
              "        2.06252741],\n",
              "       [1.5393378 , 0.99572314, 0.94010302, ..., 1.67281192, 0.72851547,\n",
              "        2.41560448],\n",
              "       [1.94316325, 1.25184515, 1.28547143, ..., 2.3181461 , 1.00461972,\n",
              "        3.02040211]])"
            ]
          },
          "metadata": {
            "tags": []
          },
          "execution_count": 193
        }
      ]
    },
    {
      "cell_type": "markdown",
      "metadata": {
        "id": "d9Nx8r-2XuNS"
      },
      "source": [
        "# Predicting on Validation set"
      ]
    },
    {
      "cell_type": "code",
      "metadata": {
        "id": "6muIo2Lj_V6N"
      },
      "source": [
        "val_data=pd.read_csv('https://raw.githubusercontent.com/albanda/CE888/master/lab4-recommender/jester-data-1.csv', header=None)\n",
        "val_data.drop(columns=[0], inplace=True)\n",
        "val_data=pd.DataFrame(val_data.loc[:, 0:].replace(99.00, np.NaN))\n",
        "\n",
        "v_data=pd.DataFrame(new_arr)\n",
        "v_data=pd.DataFrame(v_data.loc[:, 0:].replace(99.00, np.NaN))\n",
        "\n",
        "v_user_ratings=v_data.values\n",
        "\n",
        "v_values = [zip(v_user_ratings[i], predictions[i]) for i in range(predictions.shape[0])]\n",
        "v_comparison_data = pd.DataFrame(v_values)\n",
        "v_comparison_data.columns = data.columns\n",
        "\n",
        "# v_comparison_data"
      ],
      "execution_count": 194,
      "outputs": []
    },
    {
      "cell_type": "code",
      "metadata": {
        "colab": {
          "base_uri": "https://localhost:8080/"
        },
        "id": "gY9AUFBN_Zbc",
        "outputId": "b56ed137-df87-4ae8-b889-df148c5c1618"
      },
      "source": [
        "val_user_ratings=val_data.values\n",
        "\n",
        "error = []\n",
        "\n",
        "for user_id in range(latent_user_preferences.shape[0]):\n",
        "    for item_id in range(latent_item_features.shape[0]):\n",
        "        rating = val_user_ratings[user_id, item_id]\n",
        "        \n",
        "        if not np.isnan(rating):\n",
        "             val_predicted_rating = predict_rating(user_id, item_id)\n",
        "             err =  val_predicted_rating - rating\n",
        "             \n",
        "            #  err = train(user_id, item_id, rating)\n",
        "             error.append(err)\n",
        "val_mse = (np.array(error) ** 2).mean()\n",
        "print('MSE on Validation Set :', val_mse)"
      ],
      "execution_count": 195,
      "outputs": [
        {
          "output_type": "stream",
          "text": [
            "MSE on Validation Set : 23.157604369848936\n"
          ],
          "name": "stdout"
        }
      ]
    },
    {
      "cell_type": "markdown",
      "metadata": {
        "id": "335b1wlKZU1q"
      },
      "source": [
        "# Predicting on Test Set"
      ]
    },
    {
      "cell_type": "code",
      "metadata": {
        "id": "hGkTsg4Y_cCr",
        "colab": {
          "base_uri": "https://localhost:8080/",
          "height": 590
        },
        "outputId": "20912242-40b5-4daf-b146-ea0085140b9d"
      },
      "source": [
        "test_user_ratings=test_data.values\n",
        "values = [zip(test_user_ratings[i], predictions[i]) for i in range(predictions.shape[0])]\n",
        "comparison_data = pd.DataFrame(values)\n",
        "comparison_data.columns = data.columns\n",
        "comparison_data"
      ],
      "execution_count": 196,
      "outputs": [
        {
          "output_type": "execute_result",
          "data": {
            "text/html": [
              "<div>\n",
              "<style scoped>\n",
              "    .dataframe tbody tr th:only-of-type {\n",
              "        vertical-align: middle;\n",
              "    }\n",
              "\n",
              "    .dataframe tbody tr th {\n",
              "        vertical-align: top;\n",
              "    }\n",
              "\n",
              "    .dataframe thead th {\n",
              "        text-align: right;\n",
              "    }\n",
              "</style>\n",
              "<table border=\"1\" class=\"dataframe\">\n",
              "  <thead>\n",
              "    <tr style=\"text-align: right;\">\n",
              "      <th></th>\n",
              "      <th>1</th>\n",
              "      <th>2</th>\n",
              "      <th>3</th>\n",
              "      <th>4</th>\n",
              "      <th>5</th>\n",
              "      <th>6</th>\n",
              "      <th>7</th>\n",
              "      <th>8</th>\n",
              "      <th>9</th>\n",
              "      <th>10</th>\n",
              "      <th>11</th>\n",
              "      <th>12</th>\n",
              "      <th>13</th>\n",
              "      <th>14</th>\n",
              "      <th>15</th>\n",
              "      <th>16</th>\n",
              "      <th>17</th>\n",
              "      <th>18</th>\n",
              "      <th>19</th>\n",
              "      <th>20</th>\n",
              "      <th>21</th>\n",
              "      <th>22</th>\n",
              "      <th>23</th>\n",
              "      <th>24</th>\n",
              "      <th>25</th>\n",
              "      <th>26</th>\n",
              "      <th>27</th>\n",
              "      <th>28</th>\n",
              "      <th>29</th>\n",
              "      <th>30</th>\n",
              "      <th>31</th>\n",
              "      <th>32</th>\n",
              "      <th>33</th>\n",
              "      <th>34</th>\n",
              "      <th>35</th>\n",
              "      <th>36</th>\n",
              "      <th>37</th>\n",
              "      <th>38</th>\n",
              "      <th>39</th>\n",
              "      <th>40</th>\n",
              "      <th>...</th>\n",
              "      <th>61</th>\n",
              "      <th>62</th>\n",
              "      <th>63</th>\n",
              "      <th>64</th>\n",
              "      <th>65</th>\n",
              "      <th>66</th>\n",
              "      <th>67</th>\n",
              "      <th>68</th>\n",
              "      <th>69</th>\n",
              "      <th>70</th>\n",
              "      <th>71</th>\n",
              "      <th>72</th>\n",
              "      <th>73</th>\n",
              "      <th>74</th>\n",
              "      <th>75</th>\n",
              "      <th>76</th>\n",
              "      <th>77</th>\n",
              "      <th>78</th>\n",
              "      <th>79</th>\n",
              "      <th>80</th>\n",
              "      <th>81</th>\n",
              "      <th>82</th>\n",
              "      <th>83</th>\n",
              "      <th>84</th>\n",
              "      <th>85</th>\n",
              "      <th>86</th>\n",
              "      <th>87</th>\n",
              "      <th>88</th>\n",
              "      <th>89</th>\n",
              "      <th>90</th>\n",
              "      <th>91</th>\n",
              "      <th>92</th>\n",
              "      <th>93</th>\n",
              "      <th>94</th>\n",
              "      <th>95</th>\n",
              "      <th>96</th>\n",
              "      <th>97</th>\n",
              "      <th>98</th>\n",
              "      <th>99</th>\n",
              "      <th>100</th>\n",
              "    </tr>\n",
              "  </thead>\n",
              "  <tbody>\n",
              "    <tr>\n",
              "      <th>0</th>\n",
              "      <td>(-7.82, 0.8962136462665519)</td>\n",
              "      <td>(8.79, 0.5767288635993157)</td>\n",
              "      <td>(-9.66, 0.6052727861801858)</td>\n",
              "      <td>(-8.16, -0.46175887417391953)</td>\n",
              "      <td>(-7.52, 0.6156338947480964)</td>\n",
              "      <td>(-8.5, 1.53745873833349)</td>\n",
              "      <td>(-9.85, 0.03568762616017679)</td>\n",
              "      <td>(4.17, -0.24463416495151685)</td>\n",
              "      <td>(-8.98, -0.020268890442969374)</td>\n",
              "      <td>(-4.76, 1.1164378101574715)</td>\n",
              "      <td>(-8.5, 1.630006674295079)</td>\n",
              "      <td>(-6.75, 1.5233630449702529)</td>\n",
              "      <td>(-7.18, -0.9767828466795299)</td>\n",
              "      <td>(8.45, 1.4888396660423338)</td>\n",
              "      <td>(-7.18, -1.0146828303871098)</td>\n",
              "      <td>(-7.52, -1.8971588572047924)</td>\n",
              "      <td>(-7.43, -0.4481436881905043)</td>\n",
              "      <td>(-9.81, -0.23798567881349547)</td>\n",
              "      <td>(-9.85, 0.4178570745056873)</td>\n",
              "      <td>(-9.85, -0.23586527614531363)</td>\n",
              "      <td>(-9.37, 1.9305201798937979)</td>\n",
              "      <td>(1.5, 1.0546451365405167)</td>\n",
              "      <td>(-4.37, 0.4826560661950871)</td>\n",
              "      <td>(-9.81, -0.7287094626260407)</td>\n",
              "      <td>(-8.5, 0.7593353513824724)</td>\n",
              "      <td>(1.12, 1.4194773194969215)</td>\n",
              "      <td>(7.82, 2.512923058603568)</td>\n",
              "      <td>(2.86, 1.4775474577661405)</td>\n",
              "      <td>(9.13, 2.3628765215751906)</td>\n",
              "      <td>(-7.43, 0.23922594818874676)</td>\n",
              "      <td>(2.14, 1.944162632954412)</td>\n",
              "      <td>(-4.08, 2.471059557282392)</td>\n",
              "      <td>(-9.08, -0.42408394846317055)</td>\n",
              "      <td>(7.82, 1.129046041586181)</td>\n",
              "      <td>(5.05, 2.408965309489686)</td>\n",
              "      <td>(4.95, 2.5311109340097797)</td>\n",
              "      <td>(-9.17, -0.5552751056178817)</td>\n",
              "      <td>(-8.4, 1.2437503307754465)</td>\n",
              "      <td>(-8.4, 1.2777246176709511)</td>\n",
              "      <td>(-8.4, 1.1827964656427092)</td>\n",
              "      <td>...</td>\n",
              "      <td>(8.59, 2.1317143634145874)</td>\n",
              "      <td>(3.59, 2.3623158616412576)</td>\n",
              "      <td>(-6.84, 0.648442226304221)</td>\n",
              "      <td>(-9.03, -0.0606712424362652)</td>\n",
              "      <td>(2.82, 2.0438868590997923)</td>\n",
              "      <td>(-1.36, 2.1418780864025755)</td>\n",
              "      <td>(-9.08, -0.1711004405942607)</td>\n",
              "      <td>(8.3, 2.1775323226776138)</td>\n",
              "      <td>(5.68, 2.2042111845605183)</td>\n",
              "      <td>(-4.81, 0.7982342073133148)</td>\n",
              "      <td>(nan, -0.014977778446257157)</td>\n",
              "      <td>(nan, 2.2187901960840337)</td>\n",
              "      <td>(nan, 1.2018000138661724)</td>\n",
              "      <td>(nan, -0.48553077304257936)</td>\n",
              "      <td>(nan, 0.28915928061505347)</td>\n",
              "      <td>(nan, 2.0360329035476212)</td>\n",
              "      <td>(nan, 0.9362388705270525)</td>\n",
              "      <td>(-9.42, 1.6035770560934768)</td>\n",
              "      <td>(nan, 0.6514568575467026)</td>\n",
              "      <td>(nan, 1.3175124840010874)</td>\n",
              "      <td>(nan, 1.598839635342587)</td>\n",
              "      <td>(-7.72, 1.0507926259094857)</td>\n",
              "      <td>(nan, 1.787788933462462)</td>\n",
              "      <td>(nan, 0.9010251844436953)</td>\n",
              "      <td>(nan, 1.1030655038598307)</td>\n",
              "      <td>(nan, 0.5710923834319528)</td>\n",
              "      <td>(nan, 1.6485159192235765)</td>\n",
              "      <td>(nan, 1.727756012025878)</td>\n",
              "      <td>(nan, 2.6397512668717136)</td>\n",
              "      <td>(nan, 0.8633879171395363)</td>\n",
              "      <td>(2.82, 1.6904167140768322)</td>\n",
              "      <td>(nan, 1.2261603060104078)</td>\n",
              "      <td>(nan, 2.025767867595851)</td>\n",
              "      <td>(nan, 1.096506686381491)</td>\n",
              "      <td>(nan, 1.1093425491539792)</td>\n",
              "      <td>(nan, 1.3866113018999784)</td>\n",
              "      <td>(-5.63, 1.4780261566415818)</td>\n",
              "      <td>(nan, 1.0950825921686111)</td>\n",
              "      <td>(nan, 0.47401317177823366)</td>\n",
              "      <td>(nan, 1.3894225045350959)</td>\n",
              "    </tr>\n",
              "    <tr>\n",
              "      <th>1</th>\n",
              "      <td>(4.08, 0.7635098052338583)</td>\n",
              "      <td>(-0.29, 0.4961858070893432)</td>\n",
              "      <td>(6.36, 0.42153810811003434)</td>\n",
              "      <td>(4.37, -0.5461778178407407)</td>\n",
              "      <td>(-2.38, 0.4361144783383537)</td>\n",
              "      <td>(-9.66, 1.2654280575237329)</td>\n",
              "      <td>(-0.73, -0.0801699125718736)</td>\n",
              "      <td>(-5.34, -0.25859867757896404)</td>\n",
              "      <td>(8.88, 0.003017949984553358)</td>\n",
              "      <td>(9.22, 0.9456672683358905)</td>\n",
              "      <td>(6.75, 1.381978583042294)</td>\n",
              "      <td>(8.64, 1.233351021308492)</td>\n",
              "      <td>(4.42, -0.7932822090010282)</td>\n",
              "      <td>(7.43, 1.2562353555631485)</td>\n",
              "      <td>(4.56, -0.8552101029637671)</td>\n",
              "      <td>(-0.97, -1.634216033506132)</td>\n",
              "      <td>(4.66, -0.4214328187583657)</td>\n",
              "      <td>(-0.68, -0.11877567024457483)</td>\n",
              "      <td>(3.3, 0.3830394007084521)</td>\n",
              "      <td>(-1.21, -0.3195851134460975)</td>\n",
              "      <td>(0.87, 1.6087647503799707)</td>\n",
              "      <td>(8.64, 0.8284124636857897)</td>\n",
              "      <td>(8.35, 0.36048378147956267)</td>\n",
              "      <td>(9.17, -0.7078196586059422)</td>\n",
              "      <td>(0.05, 0.5574081601912652)</td>\n",
              "      <td>(7.57, 1.1157486464218997)</td>\n",
              "      <td>(4.71, 2.094205742846258)</td>\n",
              "      <td>(0.87, 1.1927548840011577)</td>\n",
              "      <td>(-0.39, 2.014838919789672)</td>\n",
              "      <td>(6.99, 0.03776554439952153)</td>\n",
              "      <td>(6.5, 1.673601698054475)</td>\n",
              "      <td>(-0.92, 2.146375799677036)</td>\n",
              "      <td>(7.14, -0.4458295533550019)</td>\n",
              "      <td>(9.03, 0.91725350598857)</td>\n",
              "      <td>(-1.8, 2.082441168301575)</td>\n",
              "      <td>(0.73, 2.1487380217327874)</td>\n",
              "      <td>(7.09, -0.48605421345639704)</td>\n",
              "      <td>(3.4, 1.0077864213098484)</td>\n",
              "      <td>(-0.87, 1.0026816880798328)</td>\n",
              "      <td>(7.91, 0.9106994873429306)</td>\n",
              "      <td>...</td>\n",
              "      <td>(-6.7, 1.7811562722083418)</td>\n",
              "      <td>(-3.35, 2.10188442229904)</td>\n",
              "      <td>(-9.03, 0.4933315637721156)</td>\n",
              "      <td>(4.47, -0.13487533032030238)</td>\n",
              "      <td>(4.08, 1.6731063343786583)</td>\n",
              "      <td>(-3.83, 1.7801747295962933)</td>\n",
              "      <td>(8.74, -0.1336119517921721)</td>\n",
              "      <td>(1.12, 1.803276366834458)</td>\n",
              "      <td>(0.78, 1.8327438646189311)</td>\n",
              "      <td>(7.52, 0.7079224337167497)</td>\n",
              "      <td>(-5.0, -0.07321249002646114)</td>\n",
              "      <td>(2.77, 1.8548803745531441)</td>\n",
              "      <td>(8.3, 1.0944193949042713)</td>\n",
              "      <td>(7.77, -0.568696500021049)</td>\n",
              "      <td>(7.33, 0.18727137363935417)</td>\n",
              "      <td>(6.21, 1.7084737085074968)</td>\n",
              "      <td>(7.72, 0.8950713971978626)</td>\n",
              "      <td>(8.98, 1.3812891092338127)</td>\n",
              "      <td>(8.64, 0.4582789502238818)</td>\n",
              "      <td>(8.2, 1.1190798804389723)</td>\n",
              "      <td>(3.93, 1.4507867413200803)</td>\n",
              "      <td>(4.85, 0.8041669282579261)</td>\n",
              "      <td>(4.85, 1.6021690291087225)</td>\n",
              "      <td>(6.07, 0.826443369658148)</td>\n",
              "      <td>(8.98, 0.8995279329144983)</td>\n",
              "      <td>(4.51, 0.33011914198435693)</td>\n",
              "      <td>(-0.05, 1.3683456750712315)</td>\n",
              "      <td>(3.69, 1.5061746476695927)</td>\n",
              "      <td>(4.56, 2.2639397866930095)</td>\n",
              "      <td>(0.58, 0.7240281085613381)</td>\n",
              "      <td>(2.82, 1.3945350763039137)</td>\n",
              "      <td>(-4.95, 1.057671110569104)</td>\n",
              "      <td>(-0.29, 1.7253716863153055)</td>\n",
              "      <td>(7.86, 0.9553023697077014)</td>\n",
              "      <td>(-0.19, 0.7333350504788869)</td>\n",
              "      <td>(-2.14, 1.243407300638926)</td>\n",
              "      <td>(3.06, 1.2154583801228476)</td>\n",
              "      <td>(0.34, 0.7361280223891197)</td>\n",
              "      <td>(-4.32, 0.3228256691866831)</td>\n",
              "      <td>(1.07, 1.211237157938063)</td>\n",
              "    </tr>\n",
              "    <tr>\n",
              "      <th>2</th>\n",
              "      <td>(nan, 1.7924896994874049)</td>\n",
              "      <td>(nan, 1.1574473672673928)</td>\n",
              "      <td>(nan, 1.1340161668546487)</td>\n",
              "      <td>(nan, -1.047866460535117)</td>\n",
              "      <td>(9.03, 1.1594170335819098)</td>\n",
              "      <td>(9.27, 3.0389183551574934)</td>\n",
              "      <td>(9.03, -0.018588033662082296)</td>\n",
              "      <td>(9.27, -0.5301197850984716)</td>\n",
              "      <td>(nan, -0.02403420976653032)</td>\n",
              "      <td>(nan, 2.2285127741063655)</td>\n",
              "      <td>(7.33, 3.2546996913972217)</td>\n",
              "      <td>(7.57, 2.9943976246195083)</td>\n",
              "      <td>(9.37, -1.9220105003052375)</td>\n",
              "      <td>(6.17, 2.9678979192057344)</td>\n",
              "      <td>(-6.36, -2.0219289801900504)</td>\n",
              "      <td>(-6.89, -3.8090729103918544)</td>\n",
              "      <td>(-7.86, -0.9285762037010552)</td>\n",
              "      <td>(9.03, -0.4076664774569634)</td>\n",
              "      <td>(9.03, 0.8577561218528597)</td>\n",
              "      <td>(9.03, -0.5682800395088639)</td>\n",
              "      <td>(7.28, 3.831965359004781)</td>\n",
              "      <td>(nan, 2.052352912978164)</td>\n",
              "      <td>(8.25, 0.9240909172412421)</td>\n",
              "      <td>(nan, -1.528264834809387)</td>\n",
              "      <td>(nan, 1.4459108257640934)</td>\n",
              "      <td>(7.48, 2.7629429498336178)</td>\n",
              "      <td>(7.28, 4.988085866821031)</td>\n",
              "      <td>(7.28, 2.901490301890796)</td>\n",
              "      <td>(8.93, 4.727412580551052)</td>\n",
              "      <td>(nan, 0.3433750703407953)</td>\n",
              "      <td>(6.17, 3.902548216045122)</td>\n",
              "      <td>(7.28, 4.97582101478213)</td>\n",
              "      <td>(nan, -0.9169821155722025)</td>\n",
              "      <td>(nan, 2.2218723425108915)</td>\n",
              "      <td>(8.98, 4.842649956996043)</td>\n",
              "      <td>(7.33, 5.056225006367525)</td>\n",
              "      <td>(nan, -1.1211657632987457)</td>\n",
              "      <td>(6.17, 2.4454414091598617)</td>\n",
              "      <td>(9.08, 2.4856895291626335)</td>\n",
              "      <td>(7.33, 2.2867869996725334)</td>\n",
              "      <td>...</td>\n",
              "      <td>(6.46, 4.235172005779478)</td>\n",
              "      <td>(7.28, 4.797502747417621)</td>\n",
              "      <td>(nan, 1.2488483005507829)</td>\n",
              "      <td>(nan, -0.1890308487783473)</td>\n",
              "      <td>(7.04, 4.032476210028718)</td>\n",
              "      <td>(7.28, 4.247656509427479)</td>\n",
              "      <td>(nan, -0.33232444536924627)</td>\n",
              "      <td>(7.28, 4.313049751279367)</td>\n",
              "      <td>(8.25, 4.371892406378763)</td>\n",
              "      <td>(nan, 1.6192113527274576)</td>\n",
              "      <td>(nan, -0.07914261233646247)</td>\n",
              "      <td>(nan, 4.4089568741212855)</td>\n",
              "      <td>(nan, 2.4611031869565796)</td>\n",
              "      <td>(nan, -1.0972561931521958)</td>\n",
              "      <td>(nan, 0.5302762133066867)</td>\n",
              "      <td>(8.93, 4.050987746389404)</td>\n",
              "      <td>(nan, 1.951841808174459)</td>\n",
              "      <td>(nan, 3.2195974630234456)</td>\n",
              "      <td>(nan, 1.2242682799824276)</td>\n",
              "      <td>(9.08, 2.632394022443739)</td>\n",
              "      <td>(nan, 3.2699514728422168)</td>\n",
              "      <td>(nan, 2.0275910966931363)</td>\n",
              "      <td>(nan, 3.6400613415311898)</td>\n",
              "      <td>(nan, 1.84998265459224)</td>\n",
              "      <td>(nan, 2.1734959289216964)</td>\n",
              "      <td>(nan, 1.0149640167503506)</td>\n",
              "      <td>(nan, 3.2677975382142193)</td>\n",
              "      <td>(nan, 3.4834994610962764)</td>\n",
              "      <td>(nan, 5.29194033632576)</td>\n",
              "      <td>(9.03, 1.7174657538496827)</td>\n",
              "      <td>(nan, 3.3438667979210988)</td>\n",
              "      <td>(nan, 2.4630404701558564)</td>\n",
              "      <td>(nan, 4.051320937192116)</td>\n",
              "      <td>(9.08, 2.2103039146425436)</td>\n",
              "      <td>(nan, 2.046479843266249)</td>\n",
              "      <td>(nan, 2.823856887288323)</td>\n",
              "      <td>(nan, 2.9205881840054406)</td>\n",
              "      <td>(nan, 2.0301157466738515)</td>\n",
              "      <td>(nan, 0.8821555933409011)</td>\n",
              "      <td>(nan, 2.801356269972298)</td>\n",
              "    </tr>\n",
              "    <tr>\n",
              "      <th>3</th>\n",
              "      <td>(nan, 1.591602034804088)</td>\n",
              "      <td>(8.35, 1.0254103261633134)</td>\n",
              "      <td>(nan, 1.0518997073739265)</td>\n",
              "      <td>(nan, -0.8574118941679391)</td>\n",
              "      <td>(1.8, 1.0717062371344905)</td>\n",
              "      <td>(8.16, 2.719548328650069)</td>\n",
              "      <td>(-2.82, 0.036337199383684016)</td>\n",
              "      <td>(6.21, -0.446723883700097)</td>\n",
              "      <td>(nan, -0.031034970269913455)</td>\n",
              "      <td>(1.84, 1.981367401198153)</td>\n",
              "      <td>(7.33, 2.8931271068172744)</td>\n",
              "      <td>(6.6, 2.6896076995063174)</td>\n",
              "      <td>(6.31, -1.725181316045288)</td>\n",
              "      <td>(8.11, 2.641086138730588)</td>\n",
              "      <td>(-7.23, -1.7997371152345987)</td>\n",
              "      <td>(-6.65, -3.3735940273748706)</td>\n",
              "      <td>(1.17, -0.8055621922253395)</td>\n",
              "      <td>(-6.6, -0.4021076270576889)</td>\n",
              "      <td>(-3.64, 0.7486963734259243)</td>\n",
              "      <td>(-2.09, -0.44789245210679063)</td>\n",
              "      <td>(5.34, 3.4196662197929077)</td>\n",
              "      <td>(nan, 1.8558275928240182)</td>\n",
              "      <td>(nan, 0.8447576396012906)</td>\n",
              "      <td>(nan, -1.3154072975045028)</td>\n",
              "      <td>(nan, 1.3266319916955458)</td>\n",
              "      <td>(2.91, 2.4979988434703486)</td>\n",
              "      <td>(3.93, 4.451343309056768)</td>\n",
              "      <td>(6.75, 2.6078603547241577)</td>\n",
              "      <td>(6.6, 4.196724533808312)</td>\n",
              "      <td>(nan, 0.3842405073546559)</td>\n",
              "      <td>(6.65, 3.4569079219871193)</td>\n",
              "      <td>(-6.12, 4.398477485688105)</td>\n",
              "      <td>(nan, -0.7738130419752831)</td>\n",
              "      <td>(7.57, 1.9941830650576702)</td>\n",
              "      <td>(6.21, 4.285504589123791)</td>\n",
              "      <td>(6.65, 4.493190259029319)</td>\n",
              "      <td>(nan, -0.989302215100432)</td>\n",
              "      <td>(-8.3, 2.1961308996000124)</td>\n",
              "      <td>(7.18, 2.248139786401494)</td>\n",
              "      <td>(2.82, 2.076838116941603)</td>\n",
              "      <td>...</td>\n",
              "      <td>(0.0, 3.777212351853274)</td>\n",
              "      <td>(-3.69, 4.21713296723453)</td>\n",
              "      <td>(nan, 1.1371284395674155)</td>\n",
              "      <td>(nan, -0.12809104693481796)</td>\n",
              "      <td>(7.82, 3.613112059154479)</td>\n",
              "      <td>(0.24, 3.7929047177100865)</td>\n",
              "      <td>(nan, -0.3008882178434964)</td>\n",
              "      <td>(7.28, 3.8544450281589913)</td>\n",
              "      <td>(-2.33, 3.9034725547434643)</td>\n",
              "      <td>(nan, 1.4244177365010007)</td>\n",
              "      <td>(nan, -0.041383196805196774)</td>\n",
              "      <td>(nan, 3.9317398280252083)</td>\n",
              "      <td>(nan, 2.1515570242411473)</td>\n",
              "      <td>(nan, -0.9001831765605041)</td>\n",
              "      <td>(nan, 0.499077011206813)</td>\n",
              "      <td>(nan, 3.609449615286621)</td>\n",
              "      <td>(nan, 1.686518496588839)</td>\n",
              "      <td>(nan, 2.8515280643489125)</td>\n",
              "      <td>(nan, 1.133281851823815)</td>\n",
              "      <td>(nan, 2.338975904314294)</td>\n",
              "      <td>(nan, 2.8610977099505703)</td>\n",
              "      <td>(nan, 1.8438591521558851)</td>\n",
              "      <td>(nan, 3.1943111679039258)</td>\n",
              "      <td>(nan, 1.6145351291810026)</td>\n",
              "      <td>(0.63, 1.949121747067225)</td>\n",
              "      <td>(nan, 0.9759624787374467)</td>\n",
              "      <td>(nan, 2.918807770871844)</td>\n",
              "      <td>(-2.33, 3.0767292221627267)</td>\n",
              "      <td>(nan, 4.691665244053999)</td>\n",
              "      <td>(nan, 1.5304898174720247)</td>\n",
              "      <td>(nan, 2.990895159659757)</td>\n",
              "      <td>(nan, 2.180756694476748)</td>\n",
              "      <td>(nan, 3.5974908587473196)</td>\n",
              "      <td>(0.53, 1.9524801554346094)</td>\n",
              "      <td>(nan, 1.9183183865188649)</td>\n",
              "      <td>(nan, 2.4776982825783365)</td>\n",
              "      <td>(nan, 2.6141629782367346)</td>\n",
              "      <td>(nan, 1.8966478554721484)</td>\n",
              "      <td>(nan, 0.8219998124587055)</td>\n",
              "      <td>(nan, 2.4742377243429687)</td>\n",
              "    </tr>\n",
              "    <tr>\n",
              "      <th>4</th>\n",
              "      <td>(8.5, 1.642703958040242)</td>\n",
              "      <td>(4.61, 1.0658215779490356)</td>\n",
              "      <td>(-4.17, 0.9404944304766734)</td>\n",
              "      <td>(-5.39, -1.1206438921411872)</td>\n",
              "      <td>(1.36, 0.96980619524795)</td>\n",
              "      <td>(1.6, 2.7384085383259875)</td>\n",
              "      <td>(7.04, -0.13307026648892534)</td>\n",
              "      <td>(4.61, -0.5384885775687343)</td>\n",
              "      <td>(-0.44, -0.0007381443344861962)</td>\n",
              "      <td>(5.73, 2.0365642999367664)</td>\n",
              "      <td>(8.25, 2.9757275470600475)</td>\n",
              "      <td>(6.84, 2.6765481961443163)</td>\n",
              "      <td>(-3.93, -1.720614826081487)</td>\n",
              "      <td>(7.23, 2.7071420631183813)</td>\n",
              "      <td>(-2.33, -1.8432878463761748)</td>\n",
              "      <td>(-9.66, -3.509635989680145)</td>\n",
              "      <td>(2.72, -0.8925866675829603)</td>\n",
              "      <td>(-1.36, -0.28548143465984444)</td>\n",
              "      <td>(2.57, 0.8144711158434174)</td>\n",
              "      <td>(4.51, -0.6452987040912233)</td>\n",
              "      <td>(8.2, 3.4740814372555437)</td>\n",
              "      <td>(6.12, 1.807321191494959)</td>\n",
              "      <td>(8.3, 0.7936617507218121)</td>\n",
              "      <td>(-1.26, -1.4918682631396447)</td>\n",
              "      <td>(7.77, 1.231174251921866)</td>\n",
              "      <td>(1.89, 2.4338978847138844)</td>\n",
              "      <td>(-1.17, 4.5223387805034045)</td>\n",
              "      <td>(5.68, 2.5897626561135914)</td>\n",
              "      <td>(8.45, 4.334304214752841)</td>\n",
              "      <td>(4.61, 0.14044158290009576)</td>\n",
              "      <td>(8.06, 3.5946095239815015)</td>\n",
              "      <td>(-9.47, 4.603272592715917)</td>\n",
              "      <td>(7.28, -0.9290730732332272)</td>\n",
              "      <td>(5.68, 1.98938943889719)</td>\n",
              "      <td>(2.48, 4.469649804921703)</td>\n",
              "      <td>(3.2, 4.625749968445075)</td>\n",
              "      <td>(-1.26, -1.0411196273271208)</td>\n",
              "      <td>(6.8, 2.1867344613357047)</td>\n",
              "      <td>(4.51, 2.187888955605508)</td>\n",
              "      <td>(2.48, 1.9939482500220422)</td>\n",
              "      <td>...</td>\n",
              "      <td>(7.38, 3.8446322701144853)</td>\n",
              "      <td>(6.17, 4.490384207672449)</td>\n",
              "      <td>(4.71, 1.0824768290523585)</td>\n",
              "      <td>(-2.28, -0.2605321083676425)</td>\n",
              "      <td>(7.38, 3.624005720988139)</td>\n",
              "      <td>(4.56, 3.8459569965253837)</td>\n",
              "      <td>(7.14, -0.2918006956076048)</td>\n",
              "      <td>(4.22, 3.898253273272755)</td>\n",
              "      <td>(3.01, 3.9592507872787825)</td>\n",
              "      <td>(3.83, 1.5131668194705694)</td>\n",
              "      <td>(nan, -0.13596805696487885)</td>\n",
              "      <td>(nan, 4.003414255142636)</td>\n",
              "      <td>(nan, 2.3295042627784865)</td>\n",
              "      <td>(nan, -1.1682851762410127)</td>\n",
              "      <td>(nan, 0.4239750276464949)</td>\n",
              "      <td>(nan, 3.6851064343981386)</td>\n",
              "      <td>(4.13, 1.8910177503651557)</td>\n",
              "      <td>(nan, 2.9664634640191285)</td>\n",
              "      <td>(nan, 1.0204714624087137)</td>\n",
              "      <td>(nan, 2.408911737808138)</td>\n",
              "      <td>(5.24, 3.0897758605432992)</td>\n",
              "      <td>(5.92, 1.7626294826924578)</td>\n",
              "      <td>(0.87, 3.41889558633249)</td>\n",
              "      <td>(7.28, 1.7571335200946872)</td>\n",
              "      <td>(3.93, 1.9496812382236877)</td>\n",
              "      <td>(-0.63, 0.7660133264903188)</td>\n",
              "      <td>(6.31, 2.9568770155011586)</td>\n",
              "      <td>(4.71, 3.228350234514895)</td>\n",
              "      <td>(2.82, 4.865535019856996)</td>\n",
              "      <td>(2.96, 1.5618637937106379)</td>\n",
              "      <td>(5.19, 3.0166129821924326)</td>\n",
              "      <td>(5.58, 2.2709375920513333)</td>\n",
              "      <td>(4.27, 3.7123215965405)</td>\n",
              "      <td>(5.19, 2.047806791611659)</td>\n",
              "      <td>(5.73, 1.6532644573253235)</td>\n",
              "      <td>(1.55, 2.65306929590921)</td>\n",
              "      <td>(3.11, 2.630661743081578)</td>\n",
              "      <td>(6.55, 1.6539473298217706)</td>\n",
              "      <td>(1.8, 0.723439115653694)</td>\n",
              "      <td>(1.6, 2.5961763035745458)</td>\n",
              "    </tr>\n",
              "    <tr>\n",
              "      <th>...</th>\n",
              "      <td>...</td>\n",
              "      <td>...</td>\n",
              "      <td>...</td>\n",
              "      <td>...</td>\n",
              "      <td>...</td>\n",
              "      <td>...</td>\n",
              "      <td>...</td>\n",
              "      <td>...</td>\n",
              "      <td>...</td>\n",
              "      <td>...</td>\n",
              "      <td>...</td>\n",
              "      <td>...</td>\n",
              "      <td>...</td>\n",
              "      <td>...</td>\n",
              "      <td>...</td>\n",
              "      <td>...</td>\n",
              "      <td>...</td>\n",
              "      <td>...</td>\n",
              "      <td>...</td>\n",
              "      <td>...</td>\n",
              "      <td>...</td>\n",
              "      <td>...</td>\n",
              "      <td>...</td>\n",
              "      <td>...</td>\n",
              "      <td>...</td>\n",
              "      <td>...</td>\n",
              "      <td>...</td>\n",
              "      <td>...</td>\n",
              "      <td>...</td>\n",
              "      <td>...</td>\n",
              "      <td>...</td>\n",
              "      <td>...</td>\n",
              "      <td>...</td>\n",
              "      <td>...</td>\n",
              "      <td>...</td>\n",
              "      <td>...</td>\n",
              "      <td>...</td>\n",
              "      <td>...</td>\n",
              "      <td>...</td>\n",
              "      <td>...</td>\n",
              "      <td>...</td>\n",
              "      <td>...</td>\n",
              "      <td>...</td>\n",
              "      <td>...</td>\n",
              "      <td>...</td>\n",
              "      <td>...</td>\n",
              "      <td>...</td>\n",
              "      <td>...</td>\n",
              "      <td>...</td>\n",
              "      <td>...</td>\n",
              "      <td>...</td>\n",
              "      <td>...</td>\n",
              "      <td>...</td>\n",
              "      <td>...</td>\n",
              "      <td>...</td>\n",
              "      <td>...</td>\n",
              "      <td>...</td>\n",
              "      <td>...</td>\n",
              "      <td>...</td>\n",
              "      <td>...</td>\n",
              "      <td>...</td>\n",
              "      <td>...</td>\n",
              "      <td>...</td>\n",
              "      <td>...</td>\n",
              "      <td>...</td>\n",
              "      <td>...</td>\n",
              "      <td>...</td>\n",
              "      <td>...</td>\n",
              "      <td>...</td>\n",
              "      <td>...</td>\n",
              "      <td>...</td>\n",
              "      <td>...</td>\n",
              "      <td>...</td>\n",
              "      <td>...</td>\n",
              "      <td>...</td>\n",
              "      <td>...</td>\n",
              "      <td>...</td>\n",
              "      <td>...</td>\n",
              "      <td>...</td>\n",
              "      <td>...</td>\n",
              "      <td>...</td>\n",
              "    </tr>\n",
              "    <tr>\n",
              "      <th>24978</th>\n",
              "      <td>(0.44, 1.2368504335565103)</td>\n",
              "      <td>(7.43, 0.7979347646909898)</td>\n",
              "      <td>(9.08, 0.7965465278277262)</td>\n",
              "      <td>(2.33, -0.7002284512505919)</td>\n",
              "      <td>(3.2, 0.8132149485794337)</td>\n",
              "      <td>(6.75, 2.1035361595687023)</td>\n",
              "      <td>(-8.79, 0.0036872272688176443)</td>\n",
              "      <td>(-0.53, -0.35829707652288617)</td>\n",
              "      <td>(-8.74, -0.019613547232341783)</td>\n",
              "      <td>(7.23, 1.5385293450686555)</td>\n",
              "      <td>(-0.53, 2.246798033866706)</td>\n",
              "      <td>(5.63, 2.0758131346173263)</td>\n",
              "      <td>(-7.14, -1.332026609577113)</td>\n",
              "      <td>(-4.08, 2.0497178611944653)</td>\n",
              "      <td>(-3.5, -1.3965456817651467)</td>\n",
              "      <td>(-8.2, -2.625645375432356)</td>\n",
              "      <td>(-3.98, -0.6348135190592306)</td>\n",
              "      <td>(-9.22, -0.2938377416149073)</td>\n",
              "      <td>(-0.15, 0.5878268102751879)</td>\n",
              "      <td>(-6.46, -0.3744048028403591)</td>\n",
              "      <td>(5.63, 2.6494870837573137)</td>\n",
              "      <td>(-0.92, 1.4266251580915905)</td>\n",
              "      <td>(-2.91, 0.6452118734697545)</td>\n",
              "      <td>(-4.17, -1.041535956008529)</td>\n",
              "      <td>(2.82, 1.0110695729983017)</td>\n",
              "      <td>(3.4, 1.9204509589791077)</td>\n",
              "      <td>(8.64, 3.4488328526338634)</td>\n",
              "      <td>(6.84, 2.011939048015529)</td>\n",
              "      <td>(6.8, 3.261726093258352)</td>\n",
              "      <td>(-0.87, 0.2617315773646652)</td>\n",
              "      <td>(7.38, 2.690243328321707)</td>\n",
              "      <td>(-3.5, 3.427252397234878)</td>\n",
              "      <td>(8.88, -0.6201088078662961)</td>\n",
              "      <td>(7.43, 1.5397948529496999)</td>\n",
              "      <td>(5.39, 3.337009914464625)</td>\n",
              "      <td>(2.23, 3.490020126374444)</td>\n",
              "      <td>(-0.68, -0.7716833322623669)</td>\n",
              "      <td>(3.4, 1.695134881960438)</td>\n",
              "      <td>(-0.58, 1.7279916958755699)</td>\n",
              "      <td>(4.42, 1.5924045701260086)</td>\n",
              "      <td>...</td>\n",
              "      <td>(8.59, 2.927559365329445)</td>\n",
              "      <td>(3.45, 3.2970186334931975)</td>\n",
              "      <td>(0.87, 0.870553371124086)</td>\n",
              "      <td>(9.27, -0.11801122538136433)</td>\n",
              "      <td>(-4.66, 2.7926578276855425)</td>\n",
              "      <td>(5.73, 2.937613609365455)</td>\n",
              "      <td>(-0.49, -0.23112491698246895)</td>\n",
              "      <td>(8.35, 2.983822335660837)</td>\n",
              "      <td>(1.94, 3.023418412229815)</td>\n",
              "      <td>(5.0, 1.1131209419291674)</td>\n",
              "      <td>(-9.66, -0.04558169710959633)</td>\n",
              "      <td>(8.98, 3.0475425182898097)</td>\n",
              "      <td>(8.98, 1.6876664757915045)</td>\n",
              "      <td>(-9.81, -0.7339697440095302)</td>\n",
              "      <td>(9.13, 0.3747221310677285)</td>\n",
              "      <td>(9.08, 2.7991500093808233)</td>\n",
              "      <td>(9.08, 1.3322508933690094)</td>\n",
              "      <td>(3.98, 2.219317204515517)</td>\n",
              "      <td>(0.73, 0.8592111139887254)</td>\n",
              "      <td>(9.03, 1.8168994163982164)</td>\n",
              "      <td>(8.98, 2.2430806789132602)</td>\n",
              "      <td>(9.22, 1.412669798003787)</td>\n",
              "      <td>(8.93, 2.4998952511206443)</td>\n",
              "      <td>(9.13, 1.2677351133185628)</td>\n",
              "      <td>(9.27, 1.5057559489812395)</td>\n",
              "      <td>(-1.99, 0.7237023934951449)</td>\n",
              "      <td>(-9.95, 2.260226680659938)</td>\n",
              "      <td>(-9.9, 2.3985628285618525)</td>\n",
              "      <td>(9.13, 3.649285670605041)</td>\n",
              "      <td>(8.83, 1.1868024590257569)</td>\n",
              "      <td>(8.83, 2.3141356633357533)</td>\n",
              "      <td>(-1.21, 1.6975906697894325)</td>\n",
              "      <td>(9.22, 2.795550312986561)</td>\n",
              "      <td>(-6.7, 1.5219901455213694)</td>\n",
              "      <td>(8.45, 1.4437308707609753)</td>\n",
              "      <td>(9.03, 1.9392362656711304)</td>\n",
              "      <td>(6.55, 2.0217872353098967)</td>\n",
              "      <td>(8.69, 1.4302079522455629)</td>\n",
              "      <td>(8.79, 0.620800075218115)</td>\n",
              "      <td>(7.43, 1.9288724763149783)</td>\n",
              "    </tr>\n",
              "    <tr>\n",
              "      <th>24979</th>\n",
              "      <td>(9.13, 0.4575239666046933)</td>\n",
              "      <td>(-8.16, 0.28916131993009125)</td>\n",
              "      <td>(8.59, 0.41103815297591856)</td>\n",
              "      <td>(9.08, -0.07006318259202039)</td>\n",
              "      <td>(0.87, 0.41009361993542826)</td>\n",
              "      <td>(-8.93, 0.8330007911515991)</td>\n",
              "      <td>(-3.5, 0.1381101127569312)</td>\n",
              "      <td>(5.78, -0.07047035157638448)</td>\n",
              "      <td>(-8.11, -0.032342499729212125)</td>\n",
              "      <td>(4.9, 0.575867769788978)</td>\n",
              "      <td>(8.88, 0.839363368011109)</td>\n",
              "      <td>(-8.69, 0.8475645363889)</td>\n",
              "      <td>(-7.48, -0.5407972796708058)</td>\n",
              "      <td>(-8.83, 0.7732372997581002)</td>\n",
              "      <td>(-1.75, -0.5280079180654828)</td>\n",
              "      <td>(6.6, -0.9490270003235234)</td>\n",
              "      <td>(3.54, -0.1857932507072777)</td>\n",
              "      <td>(1.5, -0.2125409045985077)</td>\n",
              "      <td>(7.67, 0.18398418141078562)</td>\n",
              "      <td>(-0.44, 0.008232051612000328)</td>\n",
              "      <td>(9.22, 1.0244708502102933)</td>\n",
              "      <td>(8.74, 0.6143789026396101)</td>\n",
              "      <td>(9.03, 0.30137715515399655)</td>\n",
              "      <td>(9.08, -0.27766785573083896)</td>\n",
              "      <td>(8.93, 0.4846791791919083)</td>\n",
              "      <td>(3.74, 0.8260814657832934)</td>\n",
              "      <td>(3.2, 1.3334202941963182)</td>\n",
              "      <td>(-9.17, 0.8258717114944116)</td>\n",
              "      <td>(-8.98, 1.2042743700841647)</td>\n",
              "      <td>(8.79, 0.30215664777860096)</td>\n",
              "      <td>(-7.67, 0.9737364396056993)</td>\n",
              "      <td>(-3.06, 1.2168119896692597)</td>\n",
              "      <td>(9.13, -0.12483341437551107)</td>\n",
              "      <td>(8.4, 0.6247590699352972)</td>\n",
              "      <td>(-0.63, 1.197077089725854)</td>\n",
              "      <td>(-7.18, 1.3003781102230185)</td>\n",
              "      <td>(0.58, -0.26937711521175256)</td>\n",
              "      <td>(8.88, 0.6911090596209242)</td>\n",
              "      <td>(9.27, 0.7453708706250364)</td>\n",
              "      <td>(8.5, 0.7089558025888888)</td>\n",
              "      <td>...</td>\n",
              "      <td>(2.77, 1.1261102339544582)</td>\n",
              "      <td>(8.11, 1.10908935965077)</td>\n",
              "      <td>(-7.96, 0.3951094566930385)</td>\n",
              "      <td>(8.93, 0.05922494295861626)</td>\n",
              "      <td>(-0.87, 1.1173008967769946)</td>\n",
              "      <td>(-5.87, 1.1417515953084265)</td>\n",
              "      <td>(8.88, -0.10052562854726803)</td>\n",
              "      <td>(-1.12, 1.1678394943359358)</td>\n",
              "      <td>(-8.74, 1.1741523370247073)</td>\n",
              "      <td>(8.74, 0.37727080497492405)</td>\n",
              "      <td>(nan, 0.05790060452222807)</td>\n",
              "      <td>(nan, 1.1710600028651839)</td>\n",
              "      <td>(nan, 0.5370091076659426)</td>\n",
              "      <td>(nan, -0.07974117324119899)</td>\n",
              "      <td>(nan, 0.2116676632993778)</td>\n",
              "      <td>(4.9, 1.0676887174695744)</td>\n",
              "      <td>(nan, 0.37228090121845214)</td>\n",
              "      <td>(nan, 0.8022048269482803)</td>\n",
              "      <td>(nan, 0.43743965240634314)</td>\n",
              "      <td>(nan, 0.6762286109625015)</td>\n",
              "      <td>(-0.29, 0.7200560295553518)</td>\n",
              "      <td>(0.92, 0.6351422471402356)</td>\n",
              "      <td>(-0.78, 0.8269131458448078)</td>\n",
              "      <td>(0.15, 0.39618778714895714)</td>\n",
              "      <td>(-0.1, 0.606716357811579)</td>\n",
              "      <td>(0.0, 0.4611385525448744)</td>\n",
              "      <td>(-0.19, 0.8806916225058515)</td>\n",
              "      <td>(-0.87, 0.8448961099140222)</td>\n",
              "      <td>(-1.36, 1.3312832865017754)</td>\n",
              "      <td>(-0.58, 0.45325321375099403)</td>\n",
              "      <td>(-1.17, 0.9123905429130045)</td>\n",
              "      <td>(-5.73, 0.6117924295093723)</td>\n",
              "      <td>(-1.46, 1.0346443243745118)</td>\n",
              "      <td>(0.24, 0.5368349207441916)</td>\n",
              "      <td>(9.22, 0.7959171645155505)</td>\n",
              "      <td>(-8.2, 0.6405275295869178)</td>\n",
              "      <td>(-7.23, 0.8019415374701566)</td>\n",
              "      <td>(-8.59, 0.7724367868576423)</td>\n",
              "      <td>(9.13, 0.32981285899529633)</td>\n",
              "      <td>(8.45, 0.6794405832042792)</td>\n",
              "    </tr>\n",
              "    <tr>\n",
              "      <th>24980</th>\n",
              "      <td>(nan, 1.3329494275264562)</td>\n",
              "      <td>(nan, 0.8570749846738871)</td>\n",
              "      <td>(nan, 0.9138174673659449)</td>\n",
              "      <td>(nan, -0.6647191337787106)</td>\n",
              "      <td>(-7.77, 0.9283975538753516)</td>\n",
              "      <td>(nan, 2.293088209214911)</td>\n",
              "      <td>(6.7, 0.06904340395945863)</td>\n",
              "      <td>(-6.75, -0.3566011394719807)</td>\n",
              "      <td>(nan, -0.03307503789212275)</td>\n",
              "      <td>(nan, 1.6612794969880589)</td>\n",
              "      <td>(nan, 2.4252917694826785)</td>\n",
              "      <td>(nan, 2.2750210428273445)</td>\n",
              "      <td>(-6.46, -1.4583926343330773)</td>\n",
              "      <td>(-1.65, 2.2161234413815887)</td>\n",
              "      <td>(-6.8, -1.5104822873572865)</td>\n",
              "      <td>(-6.41, -2.8190724594128427)</td>\n",
              "      <td>(-6.99, -0.6608053073108656)</td>\n",
              "      <td>(7.23, -0.3660828857638958)</td>\n",
              "      <td>(6.75, 0.6175776280343439)</td>\n",
              "      <td>(-6.99, -0.33367513101897334)</td>\n",
              "      <td>(6.55, 2.8764694049482533)</td>\n",
              "      <td>(nan, 1.5787032857449335)</td>\n",
              "      <td>(nan, 0.7251810459255729)</td>\n",
              "      <td>(nan, -1.07125555455021)</td>\n",
              "      <td>(nan, 1.1422895761355787)</td>\n",
              "      <td>(0.49, 2.124711936661673)</td>\n",
              "      <td>(-0.53, 3.744232698111913)</td>\n",
              "      <td>(-6.94, 2.207104855404524)</td>\n",
              "      <td>(-0.49, 3.514069619664804)</td>\n",
              "      <td>(nan, 0.37977650187129697)</td>\n",
              "      <td>(6.46, 2.8890767751056874)</td>\n",
              "      <td>(-0.53, 3.669286859898762)</td>\n",
              "      <td>(nan, -0.6185390991016171)</td>\n",
              "      <td>(nan, 1.6856851541488218)</td>\n",
              "      <td>(-7.86, 3.5785265541099966)</td>\n",
              "      <td>(-0.34, 3.7656474376995743)</td>\n",
              "      <td>(nan, -0.8239904920647025)</td>\n",
              "      <td>(-6.94, 1.8573238955833016)</td>\n",
              "      <td>(nan, 1.9127702341961945)</td>\n",
              "      <td>(nan, 1.7731865559070779)</td>\n",
              "      <td>...</td>\n",
              "      <td>(0.49, 3.175565233967204)</td>\n",
              "      <td>(-0.24, 3.5005989900857224)</td>\n",
              "      <td>(nan, 0.9729681977014439)</td>\n",
              "      <td>(nan, -0.078226269620795)</td>\n",
              "      <td>(-3.11, 3.049735725592662)</td>\n",
              "      <td>(-6.65, 3.1920737476821377)</td>\n",
              "      <td>(nan, -0.25623448577720764)</td>\n",
              "      <td>(-0.58, 3.2461528463169955)</td>\n",
              "      <td>(6.31, 3.2848596491786104)</td>\n",
              "      <td>(nan, 1.1831974631152815)</td>\n",
              "      <td>(nan, -0.013548388539929826)</td>\n",
              "      <td>(-7.86, 3.305140341649375)</td>\n",
              "      <td>(nan, 1.7772624373462944)</td>\n",
              "      <td>(nan, -0.6997480929821338)</td>\n",
              "      <td>(nan, 0.43859897421614585)</td>\n",
              "      <td>(nan, 3.031981975438453)</td>\n",
              "      <td>(nan, 1.3784075456219762)</td>\n",
              "      <td>(nan, 2.38283130323895)</td>\n",
              "      <td>(nan, 0.9828836650462804)</td>\n",
              "      <td>(nan, 1.9600354508674886)</td>\n",
              "      <td>(nan, 2.3651683665130583)</td>\n",
              "      <td>(nan, 1.5760001448173582)</td>\n",
              "      <td>(nan, 2.6475794234675827)</td>\n",
              "      <td>(nan, 1.3316110559326726)</td>\n",
              "      <td>(nan, 1.6464075524584083)</td>\n",
              "      <td>(nan, 0.8719754872563757)</td>\n",
              "      <td>(nan, 2.4570658308392628)</td>\n",
              "      <td>(nan, 2.5647673485961073)</td>\n",
              "      <td>(nan, 3.9239595645166396)</td>\n",
              "      <td>(nan, 1.2857900999451422)</td>\n",
              "      <td>(nan, 2.520758040118193)</td>\n",
              "      <td>(nan, 1.821795969218753)</td>\n",
              "      <td>(nan, 3.0130122716176193)</td>\n",
              "      <td>(nan, 1.6277929733279255)</td>\n",
              "      <td>(nan, 1.6805108086881826)</td>\n",
              "      <td>(nan, 2.0533556994049533)</td>\n",
              "      <td>(nan, 2.2045977387406674)</td>\n",
              "      <td>(nan, 1.6571445299340641)</td>\n",
              "      <td>(nan, 0.7167004101866963)</td>\n",
              "      <td>(nan, 2.062527406123564)</td>\n",
              "    </tr>\n",
              "    <tr>\n",
              "      <th>24981</th>\n",
              "      <td>(nan, 1.5393377960410533)</td>\n",
              "      <td>(nan, 0.9957231377791863)</td>\n",
              "      <td>(nan, 0.9401030221360153)</td>\n",
              "      <td>(nan, -0.9546826616904269)</td>\n",
              "      <td>(-9.71, 0.9639788316593162)</td>\n",
              "      <td>(nan, 2.593816734174985)</td>\n",
              "      <td>(4.56, -0.05562470365730266)</td>\n",
              "      <td>(-8.3, -0.4732534376608819)</td>\n",
              "      <td>(nan, -0.013363576311796004)</td>\n",
              "      <td>(nan, 1.9118240217600784)</td>\n",
              "      <td>(nan, 2.792648436447363)</td>\n",
              "      <td>(nan, 2.548385194102896)</td>\n",
              "      <td>(-9.47, -1.636625231999817)</td>\n",
              "      <td>(nan, 2.5443861538603554)</td>\n",
              "      <td>(3.45, -1.73306390281274)</td>\n",
              "      <td>(-0.92, -3.2775672132808897)</td>\n",
              "      <td>(-4.51, -0.8116550480528706)</td>\n",
              "      <td>(-4.13, -0.31997222200354725)</td>\n",
              "      <td>(-5.73, 0.7463203850112136)</td>\n",
              "      <td>(-9.51, -0.5305793642625067)</td>\n",
              "      <td>(2.82, 3.277902802070387)</td>\n",
              "      <td>(nan, 1.7373672479584759)</td>\n",
              "      <td>(nan, 0.7753948994505447)</td>\n",
              "      <td>(nan, -1.3436395901792348)</td>\n",
              "      <td>(nan, 1.209606130195169)</td>\n",
              "      <td>(-0.49, 2.339181005977518)</td>\n",
              "      <td>(2.91, 4.26689851139287)</td>\n",
              "      <td>(2.62, 2.4680379094661946)</td>\n",
              "      <td>(8.3, 4.060422916731474)</td>\n",
              "      <td>(nan, 0.23532386762370794)</td>\n",
              "      <td>(3.06, 3.3576049893125193)</td>\n",
              "      <td>(5.44, 4.287871532997269)</td>\n",
              "      <td>(nan, -0.8178015170362791)</td>\n",
              "      <td>(nan, 1.8920767607264177)</td>\n",
              "      <td>(-0.68, 4.1695500188500505)</td>\n",
              "      <td>(2.04, 4.33941689862287)</td>\n",
              "      <td>(nan, -0.9674872798616274)</td>\n",
              "      <td>(nan, 2.081493446697061)</td>\n",
              "      <td>(1.55, 2.1038444351528307)</td>\n",
              "      <td>(nan, 1.9290475948037222)</td>\n",
              "      <td>...</td>\n",
              "      <td>(-8.83, 3.6245194590240875)</td>\n",
              "      <td>(-0.78, 4.152008248707704)</td>\n",
              "      <td>(nan, 1.051277567078016)</td>\n",
              "      <td>(nan, -0.19217305000665408)</td>\n",
              "      <td>(4.51, 3.4385318652786747)</td>\n",
              "      <td>(-2.48, 3.6317828751948578)</td>\n",
              "      <td>(nan, -0.2810311998193548)</td>\n",
              "      <td>(1.26, 3.685331828725287)</td>\n",
              "      <td>(5.78, 3.7382814215392024)</td>\n",
              "      <td>(nan, 1.4005332424010875)</td>\n",
              "      <td>(nan, -0.08964925415310264)</td>\n",
              "      <td>(nan, 3.7735964504535997)</td>\n",
              "      <td>(nan, 2.1388371802959156)</td>\n",
              "      <td>(nan, -0.9979101809257396)</td>\n",
              "      <td>(-4.56, 0.4341971457115464)</td>\n",
              "      <td>(nan, 3.469515081255146)</td>\n",
              "      <td>(nan, 1.7111440223294427)</td>\n",
              "      <td>(nan, 2.7703327418692045)</td>\n",
              "      <td>(nan, 1.0166746210433744)</td>\n",
              "      <td>(3.16, 2.2594227846795074)</td>\n",
              "      <td>(nan, 2.8399512772556914)</td>\n",
              "      <td>(nan, 1.7085830714781278)</td>\n",
              "      <td>(nan, 3.1543513232336804)</td>\n",
              "      <td>(nan, 1.6098145853427062)</td>\n",
              "      <td>(nan, 1.8521136227946062)</td>\n",
              "      <td>(nan, 0.8155180390603962)</td>\n",
              "      <td>(nan, 2.793350385858548)</td>\n",
              "      <td>(nan, 3.003812942479608)</td>\n",
              "      <td>(nan, 4.549966014228777)</td>\n",
              "      <td>(nan, 1.4707785244603648)</td>\n",
              "      <td>(nan, 2.855266322945674)</td>\n",
              "      <td>(nan, 2.1198754711793066)</td>\n",
              "      <td>(nan, 3.478999200712519)</td>\n",
              "      <td>(nan, 1.905733397366987)</td>\n",
              "      <td>(nan, 1.6815055416871492)</td>\n",
              "      <td>(nan, 2.447325611891096)</td>\n",
              "      <td>(nan, 2.492435917956266)</td>\n",
              "      <td>(nan, 1.672811921894903)</td>\n",
              "      <td>(nan, 0.7285154673163172)</td>\n",
              "      <td>(nan, 2.4156044827726526)</td>\n",
              "    </tr>\n",
              "    <tr>\n",
              "      <th>24982</th>\n",
              "      <td>(2.43, 1.9431632498081979)</td>\n",
              "      <td>(2.67, 1.251845147800632)</td>\n",
              "      <td>(-3.98, 1.2854714301290173)</td>\n",
              "      <td>(4.27, -1.0448162932953966)</td>\n",
              "      <td>(-2.28, 1.3095782287437716)</td>\n",
              "      <td>(7.33, 3.3208326595703435)</td>\n",
              "      <td>(2.33, 0.04580015425992411)</td>\n",
              "      <td>(4.56, -0.5447464850294422)</td>\n",
              "      <td>(6.75, -0.038153691478020814)</td>\n",
              "      <td>(4.61, 2.419092897046071)</td>\n",
              "      <td>(-3.16, 3.532262513527008)</td>\n",
              "      <td>(7.38, 3.28453932837331)</td>\n",
              "      <td>(-8.2, -2.106753178919752)</td>\n",
              "      <td>(9.08, 3.22462063047651)</td>\n",
              "      <td>(-8.83, -2.197392153619489)</td>\n",
              "      <td>(-7.77, -4.118537259961894)</td>\n",
              "      <td>(5.49, -0.9829837959486643)</td>\n",
              "      <td>(1.36, -0.49201820389864437)</td>\n",
              "      <td>(-9.32, 0.9137207556706659)</td>\n",
              "      <td>(7.04, -0.5452837554668791)</td>\n",
              "      <td>(7.28, 4.175486048914154)</td>\n",
              "      <td>(3.2, 2.2666626737087423)</td>\n",
              "      <td>(-0.05, 1.0320108096395426)</td>\n",
              "      <td>(-1.26, -1.6048307188832045)</td>\n",
              "      <td>(6.94, 1.6208279675452146)</td>\n",
              "      <td>(5.49, 3.050984993461229)</td>\n",
              "      <td>(1.21, 5.435184598390937)</td>\n",
              "      <td>(5.0, 3.184755538172807)</td>\n",
              "      <td>(7.38, 5.123694685872933)</td>\n",
              "      <td>(2.33, 0.4712707447122884)</td>\n",
              "      <td>(3.35, 4.220262506002898)</td>\n",
              "      <td>(6.17, 5.369500319343214)</td>\n",
              "      <td>(-4.81, -0.9436384524150417)</td>\n",
              "      <td>(3.79, 2.4352480675869286)</td>\n",
              "      <td>(6.26, 5.231716758320188)</td>\n",
              "      <td>(8.54, 5.4857677273705345)</td>\n",
              "      <td>(5.29, -1.2076554631320722)</td>\n",
              "      <td>(1.12, 2.6818965499951544)</td>\n",
              "      <td>(0.83, 2.7458357955560024)</td>\n",
              "      <td>(0.19, 2.5368404834129827)</td>\n",
              "      <td>...</td>\n",
              "      <td>(6.17, 4.61199596029277)</td>\n",
              "      <td>(-0.29, 5.147473905642422)</td>\n",
              "      <td>(0.83, 1.3890709782904638)</td>\n",
              "      <td>(4.22, -0.1553036475303465)</td>\n",
              "      <td>(4.27, 4.412080053897155)</td>\n",
              "      <td>(7.38, 4.631279786770392)</td>\n",
              "      <td>(6.21, -0.3675078505452888)</td>\n",
              "      <td>(7.48, 4.706507932732751)</td>\n",
              "      <td>(5.15, 4.766277354845872)</td>\n",
              "      <td>(3.2, 1.738688146421574)</td>\n",
              "      <td>(6.26, -0.04973870825481543)</td>\n",
              "      <td>(nan, 4.800662211391622)</td>\n",
              "      <td>(nan, 2.625887071060751)</td>\n",
              "      <td>(nan, -1.0970056655965255)</td>\n",
              "      <td>(nan, 0.610083179616919)</td>\n",
              "      <td>(nan, 4.4070621926247)</td>\n",
              "      <td>(nan, 2.057779071249806)</td>\n",
              "      <td>(nan, 3.481191281225469)</td>\n",
              "      <td>(nan, 1.3848635206876114)</td>\n",
              "      <td>(nan, 2.8556643671358515)</td>\n",
              "      <td>(nan, 3.491919343818791)</td>\n",
              "      <td>(nan, 2.2523229477025875)</td>\n",
              "      <td>(nan, 3.898859281706675)</td>\n",
              "      <td>(nan, 1.9703975243264589)</td>\n",
              "      <td>(nan, 2.380176104574391)</td>\n",
              "      <td>(nan, 1.1935702181053955)</td>\n",
              "      <td>(7.23, 3.563997648890553)</td>\n",
              "      <td>(nan, 3.755887949150275)</td>\n",
              "      <td>(nan, 5.727788633339145)</td>\n",
              "      <td>(nan, 1.8687018796718584)</td>\n",
              "      <td>(nan, 3.6521315889995165)</td>\n",
              "      <td>(nan, 2.662283594949955)</td>\n",
              "      <td>(nan, 4.392128760630491)</td>\n",
              "      <td>(nan, 2.38347909658879)</td>\n",
              "      <td>(nan, 2.3447974571044496)</td>\n",
              "      <td>(nan, 3.024177972484776)</td>\n",
              "      <td>(nan, 3.192160643770966)</td>\n",
              "      <td>(nan, 2.3181461034670536)</td>\n",
              "      <td>(nan, 1.0046197206414968)</td>\n",
              "      <td>(nan, 3.020402110776882)</td>\n",
              "    </tr>\n",
              "  </tbody>\n",
              "</table>\n",
              "<p>24983 rows × 100 columns</p>\n",
              "</div>"
            ],
            "text/plain": [
              "                               1    ...                         100\n",
              "0      (-7.82, 0.8962136462665519)  ...   (nan, 1.3894225045350959)\n",
              "1       (4.08, 0.7635098052338583)  ...   (1.07, 1.211237157938063)\n",
              "2        (nan, 1.7924896994874049)  ...    (nan, 2.801356269972298)\n",
              "3         (nan, 1.591602034804088)  ...   (nan, 2.4742377243429687)\n",
              "4         (8.5, 1.642703958040242)  ...   (1.6, 2.5961763035745458)\n",
              "...                            ...  ...                         ...\n",
              "24978   (0.44, 1.2368504335565103)  ...  (7.43, 1.9288724763149783)\n",
              "24979   (9.13, 0.4575239666046933)  ...  (8.45, 0.6794405832042792)\n",
              "24980    (nan, 1.3329494275264562)  ...    (nan, 2.062527406123564)\n",
              "24981    (nan, 1.5393377960410533)  ...   (nan, 2.4156044827726526)\n",
              "24982   (2.43, 1.9431632498081979)  ...    (nan, 3.020402110776882)\n",
              "\n",
              "[24983 rows x 100 columns]"
            ]
          },
          "metadata": {
            "tags": []
          },
          "execution_count": 196
        }
      ]
    },
    {
      "cell_type": "code",
      "metadata": {
        "id": "XmFmmgWiZjMx"
      },
      "source": [
        "# while 1: pass"
      ],
      "execution_count": 58,
      "outputs": []
    },
    {
      "cell_type": "markdown",
      "metadata": {
        "id": "pRBJmE-O0SZC"
      },
      "source": [
        "# For Quiz"
      ]
    },
    {
      "cell_type": "code",
      "metadata": {
        "id": "yItBZqyGzgur"
      },
      "source": [
        "quiz_users=pd.read_excel('movies_latent_factors.xlsx', sheet_name='Users')\n",
        "quiz_items=pd.read_excel('movies_latent_factors.xlsx', sheet_name='Items')"
      ],
      "execution_count": 70,
      "outputs": []
    },
    {
      "cell_type": "code",
      "metadata": {
        "id": "H0lb8VPN1Fn6"
      },
      "source": [
        "# quiz_movies"
      ],
      "execution_count": 63,
      "outputs": []
    },
    {
      "cell_type": "code",
      "metadata": {
        "colab": {
          "base_uri": "https://localhost:8080/"
        },
        "id": "SjH9MI_c1tw5",
        "outputId": "d9b6d831-805f-4d3f-dd1a-6e0f53b29622"
      },
      "source": [
        "test_data.loc[8243, 61]"
      ],
      "execution_count": 232,
      "outputs": [
        {
          "output_type": "execute_result",
          "data": {
            "text/plain": [
              "-1.02"
            ]
          },
          "metadata": {
            "tags": []
          },
          "execution_count": 232
        }
      ]
    },
    {
      "cell_type": "code",
      "metadata": {
        "id": "76TVOxVpV_9O",
        "outputId": "a1a10c75-26a3-4a6b-c809-3da3a21f6acc",
        "colab": {
          "base_uri": "https://localhost:8080/"
        }
      },
      "source": [
        "comparison_data.loc[8243, 61]"
      ],
      "execution_count": 233,
      "outputs": [
        {
          "output_type": "execute_result",
          "data": {
            "text/plain": [
              "(-1.02, 3.7707899520837618)"
            ]
          },
          "metadata": {
            "tags": []
          },
          "execution_count": 233
        }
      ]
    },
    {
      "cell_type": "code",
      "metadata": {
        "colab": {
          "base_uri": "https://localhost:8080/"
        },
        "id": "-limcnBs3DA_",
        "outputId": "a3f553c3-9ebc-4a81-bb4a-0acc33251a75"
      },
      "source": [
        "comparison_data.loc[23437, 58]"
      ],
      "execution_count": 230,
      "outputs": [
        {
          "output_type": "execute_result",
          "data": {
            "text/plain": [
              "(nan, -0.5170951318240115)"
            ]
          },
          "metadata": {
            "tags": []
          },
          "execution_count": 230
        }
      ]
    },
    {
      "cell_type": "code",
      "metadata": {
        "id": "U0VrRF4-SHha",
        "outputId": "d6f471c8-d67f-46aa-e4e1-81d4f3003cc9",
        "colab": {
          "base_uri": "https://localhost:8080/"
        }
      },
      "source": [
        "quiz_users.loc[quiz_users['User']==4327, 'Factor14']"
      ],
      "execution_count": 198,
      "outputs": [
        {
          "output_type": "execute_result",
          "data": {
            "text/plain": [
              "21   -0.09349\n",
              "Name: Factor14, dtype: float64"
            ]
          },
          "metadata": {
            "tags": []
          },
          "execution_count": 198
        }
      ]
    },
    {
      "cell_type": "code",
      "metadata": {
        "id": "v4xeHYbKSrKK",
        "outputId": "7951e906-5411-4481-e249-245b3553fa68",
        "colab": {
          "base_uri": "https://localhost:8080/"
        }
      },
      "source": [
        "round(-0.09349, 3)"
      ],
      "execution_count": 199,
      "outputs": [
        {
          "output_type": "execute_result",
          "data": {
            "text/plain": [
              "-0.093"
            ]
          },
          "metadata": {
            "tags": []
          },
          "execution_count": 199
        }
      ]
    },
    {
      "cell_type": "code",
      "metadata": {
        "colab": {
          "base_uri": "https://localhost:8080/"
        },
        "id": "fDJY9EXC3UBw",
        "outputId": "5eaeabaa-a610-4723-d359-1a82773da4ae"
      },
      "source": [
        "quiz_items.loc[quiz_items['Movie ID']==629, 'Factor12']"
      ],
      "execution_count": 77,
      "outputs": [
        {
          "output_type": "execute_result",
          "data": {
            "text/plain": [
              "53    0.452338\n",
              "Name: Factor12, dtype: float64"
            ]
          },
          "metadata": {
            "tags": []
          },
          "execution_count": 77
        }
      ]
    },
    {
      "cell_type": "code",
      "metadata": {
        "colab": {
          "base_uri": "https://localhost:8080/",
          "height": 77
        },
        "id": "yD8QWojM4Mlm",
        "outputId": "0dfececb-4625-40b5-8161-a1bebef2ee9f"
      },
      "source": [
        "(quiz_items.loc[quiz_items['Factor5']==np.max(quiz_items['Factor5']), ['Movie ID', 'Factor5']])"
      ],
      "execution_count": 87,
      "outputs": [
        {
          "output_type": "execute_result",
          "data": {
            "text/html": [
              "<div>\n",
              "<style scoped>\n",
              "    .dataframe tbody tr th:only-of-type {\n",
              "        vertical-align: middle;\n",
              "    }\n",
              "\n",
              "    .dataframe tbody tr th {\n",
              "        vertical-align: top;\n",
              "    }\n",
              "\n",
              "    .dataframe thead th {\n",
              "        text-align: right;\n",
              "    }\n",
              "</style>\n",
              "<table border=\"1\" class=\"dataframe\">\n",
              "  <thead>\n",
              "    <tr style=\"text-align: right;\">\n",
              "      <th></th>\n",
              "      <th>Movie ID</th>\n",
              "      <th>Factor5</th>\n",
              "    </tr>\n",
              "  </thead>\n",
              "  <tbody>\n",
              "    <tr>\n",
              "      <th>15</th>\n",
              "      <td>121</td>\n",
              "      <td>2.750878</td>\n",
              "    </tr>\n",
              "  </tbody>\n",
              "</table>\n",
              "</div>"
            ],
            "text/plain": [
              "    Movie ID   Factor5\n",
              "15       121  2.750878"
            ]
          },
          "metadata": {
            "tags": []
          },
          "execution_count": 87
        }
      ]
    },
    {
      "cell_type": "code",
      "metadata": {
        "colab": {
          "base_uri": "https://localhost:8080/",
          "height": 330
        },
        "id": "XTznqlq941Ww",
        "outputId": "6adbb604-bfac-4478-fac9-8377c6203ffd"
      },
      "source": [
        "quiz_items.head()"
      ],
      "execution_count": 89,
      "outputs": [
        {
          "output_type": "execute_result",
          "data": {
            "text/html": [
              "<div>\n",
              "<style scoped>\n",
              "    .dataframe tbody tr th:only-of-type {\n",
              "        vertical-align: middle;\n",
              "    }\n",
              "\n",
              "    .dataframe tbody tr th {\n",
              "        vertical-align: top;\n",
              "    }\n",
              "\n",
              "    .dataframe thead th {\n",
              "        text-align: right;\n",
              "    }\n",
              "</style>\n",
              "<table border=\"1\" class=\"dataframe\">\n",
              "  <thead>\n",
              "    <tr style=\"text-align: right;\">\n",
              "      <th></th>\n",
              "      <th>Movie ID</th>\n",
              "      <th>Title</th>\n",
              "      <th>Factor1</th>\n",
              "      <th>Factor2</th>\n",
              "      <th>Factor3</th>\n",
              "      <th>Factor4</th>\n",
              "      <th>Factor5</th>\n",
              "      <th>Factor6</th>\n",
              "      <th>Factor7</th>\n",
              "      <th>Factor8</th>\n",
              "      <th>Factor9</th>\n",
              "      <th>Factor10</th>\n",
              "      <th>Factor11</th>\n",
              "      <th>Factor12</th>\n",
              "      <th>Factor13</th>\n",
              "      <th>Factor14</th>\n",
              "      <th>Factor15</th>\n",
              "    </tr>\n",
              "  </thead>\n",
              "  <tbody>\n",
              "    <tr>\n",
              "      <th>0</th>\n",
              "      <td>11</td>\n",
              "      <td>Star Wars: Episode IV - A New Hope (1977)</td>\n",
              "      <td>-1.521848</td>\n",
              "      <td>-1.038507</td>\n",
              "      <td>2.027269</td>\n",
              "      <td>0.247933</td>\n",
              "      <td>-0.594548</td>\n",
              "      <td>2.513260</td>\n",
              "      <td>-1.848910</td>\n",
              "      <td>0.476710</td>\n",
              "      <td>-0.224146</td>\n",
              "      <td>-0.760681</td>\n",
              "      <td>-0.973915</td>\n",
              "      <td>0.862379</td>\n",
              "      <td>0.403861</td>\n",
              "      <td>1.129616</td>\n",
              "      <td>-0.248806</td>\n",
              "    </tr>\n",
              "    <tr>\n",
              "      <th>1</th>\n",
              "      <td>12</td>\n",
              "      <td>Finding Nemo (2003)</td>\n",
              "      <td>-0.342185</td>\n",
              "      <td>-0.296586</td>\n",
              "      <td>-0.385962</td>\n",
              "      <td>2.443297</td>\n",
              "      <td>-1.097015</td>\n",
              "      <td>-0.619465</td>\n",
              "      <td>0.572887</td>\n",
              "      <td>0.329516</td>\n",
              "      <td>-0.712228</td>\n",
              "      <td>0.323554</td>\n",
              "      <td>-0.561948</td>\n",
              "      <td>-0.142405</td>\n",
              "      <td>-0.564415</td>\n",
              "      <td>0.506876</td>\n",
              "      <td>1.274993</td>\n",
              "    </tr>\n",
              "    <tr>\n",
              "      <th>2</th>\n",
              "      <td>13</td>\n",
              "      <td>Forrest Gump (1994)</td>\n",
              "      <td>-2.240888</td>\n",
              "      <td>-0.438815</td>\n",
              "      <td>-2.275177</td>\n",
              "      <td>0.614548</td>\n",
              "      <td>0.904469</td>\n",
              "      <td>0.711919</td>\n",
              "      <td>-0.420876</td>\n",
              "      <td>1.302036</td>\n",
              "      <td>-0.868418</td>\n",
              "      <td>-0.160122</td>\n",
              "      <td>0.633667</td>\n",
              "      <td>0.133138</td>\n",
              "      <td>-0.330276</td>\n",
              "      <td>-2.209004</td>\n",
              "      <td>-0.419092</td>\n",
              "    </tr>\n",
              "    <tr>\n",
              "      <th>3</th>\n",
              "      <td>14</td>\n",
              "      <td>American Beauty (1999)</td>\n",
              "      <td>-0.634531</td>\n",
              "      <td>2.186059</td>\n",
              "      <td>-0.066681</td>\n",
              "      <td>0.086197</td>\n",
              "      <td>0.517558</td>\n",
              "      <td>-0.185319</td>\n",
              "      <td>-0.412352</td>\n",
              "      <td>0.063841</td>\n",
              "      <td>0.075937</td>\n",
              "      <td>-0.577682</td>\n",
              "      <td>0.526803</td>\n",
              "      <td>-1.465557</td>\n",
              "      <td>-0.819682</td>\n",
              "      <td>0.549010</td>\n",
              "      <td>-0.681191</td>\n",
              "    </tr>\n",
              "    <tr>\n",
              "      <th>4</th>\n",
              "      <td>22</td>\n",
              "      <td>Pirates of the Caribbean: The Curse of the Bla...</td>\n",
              "      <td>0.517348</td>\n",
              "      <td>-1.456763</td>\n",
              "      <td>0.369161</td>\n",
              "      <td>0.073903</td>\n",
              "      <td>-0.098332</td>\n",
              "      <td>-0.594722</td>\n",
              "      <td>0.828888</td>\n",
              "      <td>0.033626</td>\n",
              "      <td>-0.707414</td>\n",
              "      <td>0.717877</td>\n",
              "      <td>1.394326</td>\n",
              "      <td>-0.786986</td>\n",
              "      <td>1.429191</td>\n",
              "      <td>0.855746</td>\n",
              "      <td>-2.292566</td>\n",
              "    </tr>\n",
              "  </tbody>\n",
              "</table>\n",
              "</div>"
            ],
            "text/plain": [
              "   Movie ID  ...  Factor15\n",
              "0        11  ... -0.248806\n",
              "1        12  ...  1.274993\n",
              "2        13  ... -0.419092\n",
              "3        14  ... -0.681191\n",
              "4        22  ... -2.292566\n",
              "\n",
              "[5 rows x 17 columns]"
            ]
          },
          "metadata": {
            "tags": []
          },
          "execution_count": 89
        }
      ]
    },
    {
      "cell_type": "code",
      "metadata": {
        "id": "dVSt9IARTDz4",
        "outputId": "8fd87259-9831-48bb-a1b2-f6fe57ff29ce",
        "colab": {
          "base_uri": "https://localhost:8080/"
        }
      },
      "source": [
        "np.argmin(quiz_items.loc[:, 'Factor3'].values)"
      ],
      "execution_count": 203,
      "outputs": [
        {
          "output_type": "execute_result",
          "data": {
            "text/plain": [
              "47"
            ]
          },
          "metadata": {
            "tags": []
          },
          "execution_count": 203
        }
      ]
    },
    {
      "cell_type": "code",
      "metadata": {
        "id": "cy0BPUI1TDrB",
        "outputId": "709d3e22-18ce-4173-bba6-19ae0e6018a4",
        "colab": {
          "base_uri": "https://localhost:8080/"
        }
      },
      "source": [
        "quiz_items.loc[47, ['Title', 'Factor3']]"
      ],
      "execution_count": 205,
      "outputs": [
        {
          "output_type": "execute_result",
          "data": {
            "text/plain": [
              "Title      Titanic (1997)\n",
              "Factor3          -2.52338\n",
              "Name: 47, dtype: object"
            ]
          },
          "metadata": {
            "tags": []
          },
          "execution_count": 205
        }
      ]
    },
    {
      "cell_type": "code",
      "metadata": {
        "id": "GDMMDtdg7Xdu"
      },
      "source": [
        "a=quiz_items.loc[quiz_items['Movie ID']==8358]"
      ],
      "execution_count": 110,
      "outputs": []
    },
    {
      "cell_type": "code",
      "metadata": {
        "id": "7pVIIdv775cu"
      },
      "source": [
        "a=a.values.squeeze()"
      ],
      "execution_count": 111,
      "outputs": []
    },
    {
      "cell_type": "code",
      "metadata": {
        "colab": {
          "base_uri": "https://localhost:8080/"
        },
        "id": "FJmQBp9N838F",
        "outputId": "7ddd69d1-ed5f-43c1-c674-54fe4f8de938"
      },
      "source": [
        "a=a[2:]\n",
        "a"
      ],
      "execution_count": 112,
      "outputs": [
        {
          "output_type": "execute_result",
          "data": {
            "text/plain": [
              "array([0.1254612435522293, -0.1846836856931454, -1.3257366317768604,\n",
              "       -0.33872401288259174, 0.5344138950050794, -0.19292569791749567,\n",
              "       -0.42831016818184303, 0.08639926748549187, -0.33228588544004956,\n",
              "       0.15839832717803923, 0.01295686912424204, 0.4678236973410492,\n",
              "       0.16033537589107677, -0.7588670152539986, 0.4766352511552939],\n",
              "      dtype=object)"
            ]
          },
          "metadata": {
            "tags": []
          },
          "execution_count": 112
        }
      ]
    },
    {
      "cell_type": "code",
      "metadata": {
        "id": "79yRez-V9hXa"
      },
      "source": [
        "b=quiz_users.loc[quiz_users['User']==3878]"
      ],
      "execution_count": 211,
      "outputs": []
    },
    {
      "cell_type": "code",
      "metadata": {
        "id": "koXsLwTX-FbM"
      },
      "source": [
        "b=b.values.squeeze()"
      ],
      "execution_count": 212,
      "outputs": []
    },
    {
      "cell_type": "code",
      "metadata": {
        "colab": {
          "base_uri": "https://localhost:8080/"
        },
        "id": "wVg3crTo-GSM",
        "outputId": "0fdb6268-1cbf-4d7c-c886-bd75d243dd84"
      },
      "source": [
        "b=b[1:]\n",
        "b"
      ],
      "execution_count": 213,
      "outputs": [
        {
          "output_type": "execute_result",
          "data": {
            "text/plain": [
              "array([-0.09146183,  0.2158788 , -0.18045275,  0.0854081 , -0.32109377,\n",
              "        0.22794667,  0.05376719,  0.03801749,  0.09714137, -0.13987159,\n",
              "        0.02925282,  0.21446732,  0.18925022,  0.06598962,  0.10277606])"
            ]
          },
          "metadata": {
            "tags": []
          },
          "execution_count": 213
        }
      ]
    },
    {
      "cell_type": "code",
      "metadata": {
        "id": "Lyugtr-T-Km8"
      },
      "source": [
        "quiz_pred=np.dot(b, a.T)"
      ],
      "execution_count": 139,
      "outputs": []
    },
    {
      "cell_type": "code",
      "metadata": {
        "colab": {
          "base_uri": "https://localhost:8080/"
        },
        "id": "Uh_GnfqB--rk",
        "outputId": "f55346d9-f6bd-46db-ac8a-5225d1e7fed5"
      },
      "source": [
        "round(quiz_pred, 2)"
      ],
      "execution_count": 142,
      "outputs": [
        {
          "output_type": "execute_result",
          "data": {
            "text/plain": [
              "-0.02"
            ]
          },
          "metadata": {
            "tags": []
          },
          "execution_count": 142
        }
      ]
    },
    {
      "cell_type": "code",
      "metadata": {
        "colab": {
          "base_uri": "https://localhost:8080/"
        },
        "id": "TQ7BZL9q_TQr",
        "outputId": "fb0af4dc-1481-490e-cd15-0014400984c2"
      },
      "source": [
        "c=quiz_items.loc[quiz_items['Movie ID']==197]\n",
        "c=c.values.squeeze()\n",
        "c=c[2:]\n",
        "c"
      ],
      "execution_count": 214,
      "outputs": [
        {
          "output_type": "execute_result",
          "data": {
            "text/plain": [
              "array([-0.6880903520483415, -1.0785096340532638, -1.331394869897539,\n",
              "       -0.4773289748383014, 0.7395697351329814, 0.6382104977547886,\n",
              "       0.06771889989090495, 0.39080939755470473, -0.049157936178380664,\n",
              "       0.5860527130653354, -1.0852360002809158, 0.49648172827053944,\n",
              "       1.1235452510306585, -1.5321012682387738, -0.18185329170885758],\n",
              "      dtype=object)"
            ]
          },
          "metadata": {
            "tags": []
          },
          "execution_count": 214
        }
      ]
    },
    {
      "cell_type": "code",
      "metadata": {
        "colab": {
          "base_uri": "https://localhost:8080/"
        },
        "id": "Fsrd98Ok_-Ch",
        "outputId": "5ae34a13-3ef3-405c-ed68-f376800ea28d"
      },
      "source": [
        "quiz_pred=np.dot(b, c.T)\n",
        "round(quiz_pred, 2)"
      ],
      "execution_count": 215,
      "outputs": [
        {
          "output_type": "execute_result",
          "data": {
            "text/plain": [
              "0.04"
            ]
          },
          "metadata": {
            "tags": []
          },
          "execution_count": 215
        }
      ]
    },
    {
      "cell_type": "code",
      "metadata": {
        "colab": {
          "base_uri": "https://localhost:8080/"
        },
        "id": "dbOJr-oqAHdL",
        "outputId": "0d822cea-cbda-460f-f767-03c64fe8bf6d"
      },
      "source": [
        "u_2067=quiz_users.loc[quiz_users['User']==4433]\n",
        "u_2067=u_2067.values.squeeze()\n",
        "u_2067=u_2067[1:]\n",
        "u_2067"
      ],
      "execution_count": 223,
      "outputs": [
        {
          "output_type": "execute_result",
          "data": {
            "text/plain": [
              "array([-0.29876022, -0.29022829, -0.16011999,  0.15627653, -0.05536439,\n",
              "       -0.43420511, -0.08925945,  0.25221114, -0.10741343, -0.08859105,\n",
              "        0.12115684,  0.07137071, -0.41559848, -0.02213915, -0.18302114])"
            ]
          },
          "metadata": {
            "tags": []
          },
          "execution_count": 223
        }
      ]
    },
    {
      "cell_type": "code",
      "metadata": {
        "id": "N9kezRMnB8wh"
      },
      "source": [
        "all_item_factors=quiz_items.values[:, 2:]"
      ],
      "execution_count": 224,
      "outputs": []
    },
    {
      "cell_type": "code",
      "metadata": {
        "id": "rSooDA9YBlXJ"
      },
      "source": [
        "quiz_ratings=np.dot(u_2067, all_item_factors.T)"
      ],
      "execution_count": 225,
      "outputs": []
    },
    {
      "cell_type": "code",
      "metadata": {
        "colab": {
          "base_uri": "https://localhost:8080/"
        },
        "id": "rX4skNreC3VJ",
        "outputId": "83121ae6-b58a-45ad-e43f-b2cf89fa6fc9"
      },
      "source": [
        "np.argmax(quiz_ratings)"
      ],
      "execution_count": 226,
      "outputs": [
        {
          "output_type": "execute_result",
          "data": {
            "text/plain": [
              "2"
            ]
          },
          "metadata": {
            "tags": []
          },
          "execution_count": 226
        }
      ]
    },
    {
      "cell_type": "code",
      "metadata": {
        "colab": {
          "base_uri": "https://localhost:8080/"
        },
        "id": "QhORFODyE87b",
        "outputId": "b754d3fa-f285-48e4-d870-32bae3670726"
      },
      "source": [
        "np.argsort(quiz_ratings)[::-1][:3]"
      ],
      "execution_count": 227,
      "outputs": [
        {
          "output_type": "execute_result",
          "data": {
            "text/plain": [
              "array([ 2, 27, 50])"
            ]
          },
          "metadata": {
            "tags": []
          },
          "execution_count": 227
        }
      ]
    },
    {
      "cell_type": "code",
      "metadata": {
        "colab": {
          "base_uri": "https://localhost:8080/",
          "height": 203
        },
        "id": "2f9D2LyxC9tB",
        "outputId": "45936dbf-2775-4d35-dc14-2e0af602aa66"
      },
      "source": [
        "quiz_items.loc[np.argsort(quiz_ratings)[::-1][:3], :]"
      ],
      "execution_count": 228,
      "outputs": [
        {
          "output_type": "execute_result",
          "data": {
            "text/html": [
              "<div>\n",
              "<style scoped>\n",
              "    .dataframe tbody tr th:only-of-type {\n",
              "        vertical-align: middle;\n",
              "    }\n",
              "\n",
              "    .dataframe tbody tr th {\n",
              "        vertical-align: top;\n",
              "    }\n",
              "\n",
              "    .dataframe thead th {\n",
              "        text-align: right;\n",
              "    }\n",
              "</style>\n",
              "<table border=\"1\" class=\"dataframe\">\n",
              "  <thead>\n",
              "    <tr style=\"text-align: right;\">\n",
              "      <th></th>\n",
              "      <th>Movie ID</th>\n",
              "      <th>Title</th>\n",
              "      <th>Factor1</th>\n",
              "      <th>Factor2</th>\n",
              "      <th>Factor3</th>\n",
              "      <th>Factor4</th>\n",
              "      <th>Factor5</th>\n",
              "      <th>Factor6</th>\n",
              "      <th>Factor7</th>\n",
              "      <th>Factor8</th>\n",
              "      <th>Factor9</th>\n",
              "      <th>Factor10</th>\n",
              "      <th>Factor11</th>\n",
              "      <th>Factor12</th>\n",
              "      <th>Factor13</th>\n",
              "      <th>Factor14</th>\n",
              "      <th>Factor15</th>\n",
              "    </tr>\n",
              "  </thead>\n",
              "  <tbody>\n",
              "    <tr>\n",
              "      <th>2</th>\n",
              "      <td>13</td>\n",
              "      <td>Forrest Gump (1994)</td>\n",
              "      <td>-2.240888</td>\n",
              "      <td>-0.438815</td>\n",
              "      <td>-2.275177</td>\n",
              "      <td>0.614548</td>\n",
              "      <td>0.904469</td>\n",
              "      <td>0.711919</td>\n",
              "      <td>-0.420876</td>\n",
              "      <td>1.302036</td>\n",
              "      <td>-0.868418</td>\n",
              "      <td>-0.160122</td>\n",
              "      <td>0.633667</td>\n",
              "      <td>0.133138</td>\n",
              "      <td>-0.330276</td>\n",
              "      <td>-2.209004</td>\n",
              "      <td>-0.419092</td>\n",
              "    </tr>\n",
              "    <tr>\n",
              "      <th>27</th>\n",
              "      <td>238</td>\n",
              "      <td>The Godfather (1972)</td>\n",
              "      <td>-2.611462</td>\n",
              "      <td>0.005551</td>\n",
              "      <td>-1.055331</td>\n",
              "      <td>0.150950</td>\n",
              "      <td>0.233674</td>\n",
              "      <td>0.266476</td>\n",
              "      <td>0.605631</td>\n",
              "      <td>0.595702</td>\n",
              "      <td>-0.112474</td>\n",
              "      <td>-1.488997</td>\n",
              "      <td>-0.378031</td>\n",
              "      <td>0.303310</td>\n",
              "      <td>-0.591693</td>\n",
              "      <td>0.400705</td>\n",
              "      <td>-2.267831</td>\n",
              "    </tr>\n",
              "    <tr>\n",
              "      <th>50</th>\n",
              "      <td>603</td>\n",
              "      <td>The Matrix (1999)</td>\n",
              "      <td>-3.063639</td>\n",
              "      <td>-1.319283</td>\n",
              "      <td>-0.043618</td>\n",
              "      <td>-0.994612</td>\n",
              "      <td>-0.954054</td>\n",
              "      <td>0.190838</td>\n",
              "      <td>0.197918</td>\n",
              "      <td>-0.093962</td>\n",
              "      <td>-1.082840</td>\n",
              "      <td>-0.003843</td>\n",
              "      <td>1.377453</td>\n",
              "      <td>-1.668189</td>\n",
              "      <td>-1.348377</td>\n",
              "      <td>0.223797</td>\n",
              "      <td>0.752413</td>\n",
              "    </tr>\n",
              "  </tbody>\n",
              "</table>\n",
              "</div>"
            ],
            "text/plain": [
              "    Movie ID                 Title   Factor1  ...  Factor13  Factor14  Factor15\n",
              "2         13   Forrest Gump (1994) -2.240888  ... -0.330276 -2.209004 -0.419092\n",
              "27       238  The Godfather (1972) -2.611462  ... -0.591693  0.400705 -2.267831\n",
              "50       603     The Matrix (1999) -3.063639  ... -1.348377  0.223797  0.752413\n",
              "\n",
              "[3 rows x 17 columns]"
            ]
          },
          "metadata": {
            "tags": []
          },
          "execution_count": 228
        }
      ]
    },
    {
      "cell_type": "code",
      "metadata": {
        "id": "M2a2J4UkDECp"
      },
      "source": [
        ""
      ],
      "execution_count": 173,
      "outputs": []
    },
    {
      "cell_type": "code",
      "metadata": {
        "colab": {
          "base_uri": "https://localhost:8080/"
        },
        "id": "KHQeAl_wENl5",
        "outputId": "31cbbd14-fcc2-4eda-ba17-d4d85ba1d9e8"
      },
      "source": [
        "u_4940=quiz_users.loc[quiz_users['User']==4940]\n",
        "u_4940=u_4940.values.squeeze()\n",
        "u_4940=u_4940[1:]\n",
        "u_4940"
      ],
      "execution_count": 174,
      "outputs": [
        {
          "output_type": "execute_result",
          "data": {
            "text/plain": [
              "array([-0.11309877,  0.04764329, -0.0530243 ,  0.02483359,  0.0106429 ,\n",
              "       -0.01205102, -0.04915036,  0.0062524 ,  0.02042851,  0.00434913,\n",
              "        0.02837151,  0.01022704, -0.00823291, -0.02930419,  0.09051074])"
            ]
          },
          "metadata": {
            "tags": []
          },
          "execution_count": 174
        }
      ]
    },
    {
      "cell_type": "code",
      "metadata": {
        "colab": {
          "base_uri": "https://localhost:8080/"
        },
        "id": "MqytbIb1FiDG",
        "outputId": "1a829282-ee78-416c-ea0d-324d1bbaf6d2"
      },
      "source": [
        "quiz_ratings=np.dot(u_4940, all_item_factors.T)\n",
        "np.argsort(quiz_ratings)[::-1][:3]"
      ],
      "execution_count": 175,
      "outputs": [
        {
          "output_type": "execute_result",
          "data": {
            "text/plain": [
              "array([ 2, 33, 50])"
            ]
          },
          "metadata": {
            "tags": []
          },
          "execution_count": 175
        }
      ]
    },
    {
      "cell_type": "code",
      "metadata": {
        "colab": {
          "base_uri": "https://localhost:8080/",
          "height": 220
        },
        "id": "8i0lK_ueFsev",
        "outputId": "8d4058d2-aa18-4428-e4b2-e3c5d9b3128b"
      },
      "source": [
        "quiz_items.loc[np.argsort(quiz_ratings)[::-1][:3], :]"
      ],
      "execution_count": 176,
      "outputs": [
        {
          "output_type": "execute_result",
          "data": {
            "text/html": [
              "<div>\n",
              "<style scoped>\n",
              "    .dataframe tbody tr th:only-of-type {\n",
              "        vertical-align: middle;\n",
              "    }\n",
              "\n",
              "    .dataframe tbody tr th {\n",
              "        vertical-align: top;\n",
              "    }\n",
              "\n",
              "    .dataframe thead th {\n",
              "        text-align: right;\n",
              "    }\n",
              "</style>\n",
              "<table border=\"1\" class=\"dataframe\">\n",
              "  <thead>\n",
              "    <tr style=\"text-align: right;\">\n",
              "      <th></th>\n",
              "      <th>Movie ID</th>\n",
              "      <th>Title</th>\n",
              "      <th>Factor1</th>\n",
              "      <th>Factor2</th>\n",
              "      <th>Factor3</th>\n",
              "      <th>Factor4</th>\n",
              "      <th>Factor5</th>\n",
              "      <th>Factor6</th>\n",
              "      <th>Factor7</th>\n",
              "      <th>Factor8</th>\n",
              "      <th>Factor9</th>\n",
              "      <th>Factor10</th>\n",
              "      <th>Factor11</th>\n",
              "      <th>Factor12</th>\n",
              "      <th>Factor13</th>\n",
              "      <th>Factor14</th>\n",
              "      <th>Factor15</th>\n",
              "    </tr>\n",
              "  </thead>\n",
              "  <tbody>\n",
              "    <tr>\n",
              "      <th>2</th>\n",
              "      <td>13</td>\n",
              "      <td>Forrest Gump (1994)</td>\n",
              "      <td>-2.240888</td>\n",
              "      <td>-0.438815</td>\n",
              "      <td>-2.275177</td>\n",
              "      <td>0.614548</td>\n",
              "      <td>0.904469</td>\n",
              "      <td>0.711919</td>\n",
              "      <td>-0.420876</td>\n",
              "      <td>1.302036</td>\n",
              "      <td>-0.868418</td>\n",
              "      <td>-0.160122</td>\n",
              "      <td>0.633667</td>\n",
              "      <td>0.133138</td>\n",
              "      <td>-0.330276</td>\n",
              "      <td>-2.209004</td>\n",
              "      <td>-0.419092</td>\n",
              "    </tr>\n",
              "    <tr>\n",
              "      <th>33</th>\n",
              "      <td>278</td>\n",
              "      <td>The Shawshank Redemption (1994)</td>\n",
              "      <td>-2.780308</td>\n",
              "      <td>-0.088747</td>\n",
              "      <td>-1.821590</td>\n",
              "      <td>-0.157495</td>\n",
              "      <td>0.323285</td>\n",
              "      <td>-0.114768</td>\n",
              "      <td>0.281397</td>\n",
              "      <td>-0.130262</td>\n",
              "      <td>0.028689</td>\n",
              "      <td>-0.810090</td>\n",
              "      <td>-0.229137</td>\n",
              "      <td>0.587575</td>\n",
              "      <td>0.194144</td>\n",
              "      <td>-0.976664</td>\n",
              "      <td>-0.779991</td>\n",
              "    </tr>\n",
              "    <tr>\n",
              "      <th>50</th>\n",
              "      <td>603</td>\n",
              "      <td>The Matrix (1999)</td>\n",
              "      <td>-3.063639</td>\n",
              "      <td>-1.319283</td>\n",
              "      <td>-0.043618</td>\n",
              "      <td>-0.994612</td>\n",
              "      <td>-0.954054</td>\n",
              "      <td>0.190838</td>\n",
              "      <td>0.197918</td>\n",
              "      <td>-0.093962</td>\n",
              "      <td>-1.082840</td>\n",
              "      <td>-0.003843</td>\n",
              "      <td>1.377453</td>\n",
              "      <td>-1.668189</td>\n",
              "      <td>-1.348377</td>\n",
              "      <td>0.223797</td>\n",
              "      <td>0.752413</td>\n",
              "    </tr>\n",
              "  </tbody>\n",
              "</table>\n",
              "</div>"
            ],
            "text/plain": [
              "    Movie ID                            Title  ...  Factor14  Factor15\n",
              "2         13              Forrest Gump (1994)  ... -2.209004 -0.419092\n",
              "33       278  The Shawshank Redemption (1994)  ... -0.976664 -0.779991\n",
              "50       603                The Matrix (1999)  ...  0.223797  0.752413\n",
              "\n",
              "[3 rows x 17 columns]"
            ]
          },
          "metadata": {
            "tags": []
          },
          "execution_count": 176
        }
      ]
    },
    {
      "cell_type": "code",
      "metadata": {
        "id": "r1YeIeStOIX-",
        "outputId": "25abafeb-a1d1-4cef-84d8-88630a8d00ec",
        "colab": {
          "base_uri": "https://localhost:8080/"
        }
      },
      "source": [
        "np.average(data.loc[:, 45].values[~np.isnan(data.loc[:, 45].values)])"
      ],
      "execution_count": 188,
      "outputs": [
        {
          "output_type": "execute_result",
          "data": {
            "text/plain": [
              "1.1086161781946073"
            ]
          },
          "metadata": {
            "tags": []
          },
          "execution_count": 188
        }
      ]
    },
    {
      "cell_type": "code",
      "metadata": {
        "id": "Gufu8-06Q50p"
      },
      "source": [
        ""
      ],
      "execution_count": null,
      "outputs": []
    }
  ]
}