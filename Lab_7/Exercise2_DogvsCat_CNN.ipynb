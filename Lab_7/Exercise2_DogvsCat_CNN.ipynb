{
  "nbformat": 4,
  "nbformat_minor": 0,
  "metadata": {
    "colab": {
      "name": "Exercise2_DogvsCat_CNN.ipynb",
      "provenance": [],
      "toc_visible": true,
      "include_colab_link": true
    },
    "kernelspec": {
      "name": "python3",
      "display_name": "Python 3"
    },
    "accelerator": "GPU"
  },
  "cells": [
    {
      "cell_type": "markdown",
      "metadata": {
        "id": "view-in-github",
        "colab_type": "text"
      },
      "source": [
        "<a href=\"https://colab.research.google.com/github/prawizard/CE888_Repo/blob/main/Lab_7/Exercise2_DogvsCat_CNN.ipynb\" target=\"_parent\"><img src=\"https://colab.research.google.com/assets/colab-badge.svg\" alt=\"Open In Colab\"/></a>"
      ]
    },
    {
      "cell_type": "markdown",
      "metadata": {
        "id": "qTh9DiKVslsJ"
      },
      "source": [
        "## Dogs vs. Cats \n",
        "\n",
        "In this competition, you'll write an algorithm to classify whether images contain either a dog or a cat.  This is easy for humans, dogs, and cats. Your computer will find it a bit more difficult.\n",
        "\n",
        "![alt text](https://miro.medium.com/max/3000/1*bhFifratH9DjKqMBTeQG5A.gif)\n",
        "\n",
        "Ref: https://medium.com/@thegrigorian/rolling-in-the-deep-cnn-c8d3f7108c8c"
      ]
    },
    {
      "cell_type": "markdown",
      "metadata": {
        "id": "RSBI-_mSSY1g"
      },
      "source": [
        "Get your API Key from Kaggle using following steps:\n",
        "1. Login to [Kaggle](https://www.kaggle.com/) or Register if you don't have account\n",
        "2. Open Dataset (https://www.kaggle.com/c/dogs-vs-cats/rules) and accept terms and condition. \n",
        "3. On the top right corner click on your Icon and go to accounts and press a button \"Create New API Token\". It will download a JSON file containing your username and key. \n",
        "4. Now, paste both below. \n"
      ]
    },
    {
      "cell_type": "code",
      "metadata": {
        "id": "YmXSOc0tZIGA",
        "colab": {
          "base_uri": "https://localhost:8080/",
          "height": 199
        },
        "outputId": "7e8af6a4-2bcc-4bda-c88d-873ee9327318"
      },
      "source": [
        "# import os\n",
        "# os.environ['KAGGLE_USERNAME'] = \"sagihaider\" # username from the json file\n",
        "# os.environ['KAGGLE_KEY'] = \"xxx\" # key from the json file\n",
        "# !kaggle competitions download -c dogs-vs-cats # api copied from kaggle (https://www.kaggle.com/c/dogs-vs-cats/data)"
      ],
      "execution_count": null,
      "outputs": [
        {
          "output_type": "stream",
          "text": [
            "Warning: Looks like you're using an outdated API Version, please consider updating (server 1.5.6 / client 1.5.4)\n",
            "Downloading test1.zip to /content\n",
            " 98% 267M/271M [00:01<00:00, 167MB/s]\n",
            "100% 271M/271M [00:01<00:00, 165MB/s]\n",
            "Downloading sampleSubmission.csv to /content\n",
            "  0% 0.00/86.8k [00:00<?, ?B/s]\n",
            "100% 86.8k/86.8k [00:00<00:00, 126MB/s]\n",
            "Downloading train.zip to /content\n",
            " 98% 535M/543M [00:04<00:00, 107MB/s]\n",
            "100% 543M/543M [00:04<00:00, 134MB/s]\n"
          ],
          "name": "stdout"
        }
      ]
    },
    {
      "cell_type": "code",
      "metadata": {
        "id": "0T3zcsRnn7EF",
        "colab": {
          "base_uri": "https://localhost:8080/"
        },
        "outputId": "4765e6b3-84bc-4c59-b1db-e258430ec5ff"
      },
      "source": [
        "import os\n",
        "os.environ['KAGGLE_USERNAME'] = \"prawizard\" # username from the json file\n",
        "os.environ['KAGGLE_KEY'] = \"7a403fa6105c4d269dea7753dcfe811a\" # key from the json file\n",
        "# !kaggle competitions download -c dogs-vs-cats # api copied from kaggle (https://www.kaggle.com/c/dogs-vs-cats/data)\n",
        "\n",
        "!kaggle competitions download -c dogs-vs-cats"
      ],
      "execution_count": null,
      "outputs": [
        {
          "output_type": "stream",
          "text": [
            "Warning: Looks like you're using an outdated API Version, please consider updating (server 1.5.12 / client 1.5.4)\n",
            "Downloading test1.zip to /content\n",
            " 96% 261M/271M [00:01<00:00, 153MB/s]\n",
            "100% 271M/271M [00:01<00:00, 152MB/s]\n",
            "Downloading sampleSubmission.csv to /content\n",
            "  0% 0.00/86.8k [00:00<?, ?B/s]\n",
            "100% 86.8k/86.8k [00:00<00:00, 84.4MB/s]\n",
            "Downloading train.zip to /content\n",
            " 97% 525M/543M [00:02<00:00, 263MB/s]\n",
            "100% 543M/543M [00:02<00:00, 251MB/s]\n"
          ],
          "name": "stdout"
        }
      ]
    },
    {
      "cell_type": "code",
      "metadata": {
        "id": "PiwIL8d1n7eS",
        "colab": {
          "base_uri": "https://localhost:8080/"
        },
        "outputId": "99a00db0-4af9-47c2-dae8-a10d2b68bb95"
      },
      "source": [
        "# Unzip training data\n",
        "from zipfile import ZipFile\n",
        "file_name = \"/content/train.zip\"\n",
        "with ZipFile(file_name, 'r') as zip:\n",
        "  zip.extractall()\n",
        "  print('done')"
      ],
      "execution_count": null,
      "outputs": [
        {
          "output_type": "stream",
          "text": [
            "done\n"
          ],
          "name": "stdout"
        }
      ]
    },
    {
      "cell_type": "code",
      "metadata": {
        "id": "sa2Bj5i7pPKV",
        "colab": {
          "base_uri": "https://localhost:8080/"
        },
        "outputId": "65730f3d-e189-4af4-c564-31139f4e44b5"
      },
      "source": [
        "# Get all the paths\n",
        "data_dir_list = os.listdir('/content/train')\n",
        "#print(data_dir_list)\n",
        "path, dirs, files = next(os.walk(\"/content/train\"))\n",
        "file_count = len(files)\n",
        "print(file_count)"
      ],
      "execution_count": null,
      "outputs": [
        {
          "output_type": "stream",
          "text": [
            "25000\n"
          ],
          "name": "stdout"
        }
      ]
    },
    {
      "cell_type": "code",
      "metadata": {
        "id": "0ERlHkfHqpK8"
      },
      "source": [
        "# Make new base directory\n",
        "original_dataset_dir = '/content/train'\n",
        "base_dir = '/content/cats_and_dogs_small'\n",
        "os.mkdir(base_dir)"
      ],
      "execution_count": null,
      "outputs": []
    },
    {
      "cell_type": "code",
      "metadata": {
        "id": "AANB1UJ6rQhM"
      },
      "source": [
        "train_dir = os.path.join(base_dir, 'train')\n",
        "os.mkdir(train_dir)\n",
        "\n",
        "validation_dir = os.path.join(base_dir, 'validation')\n",
        "os.mkdir(validation_dir)\n",
        "\n",
        "test_dir = os.path.join(base_dir, 'test')\n",
        "os.mkdir(test_dir)\n",
        "\n",
        "train_cats_dir = os.path.join(train_dir, 'cats')\n",
        "os.mkdir(train_cats_dir)\n",
        "\n",
        "train_dogs_dir = os.path.join(train_dir, 'dogs')\n",
        "os.mkdir(train_dogs_dir)\n",
        "\n",
        "validation_cats_dir = os.path.join(validation_dir, 'cats')\n",
        "os.mkdir(validation_cats_dir)\n",
        "\n",
        "validation_dogs_dir = os.path.join(validation_dir, 'dogs')\n",
        "os.mkdir(validation_dogs_dir)\n",
        "\n",
        "test_cats_dir = os.path.join(test_dir, 'cats')\n",
        "os.mkdir(test_cats_dir)\n",
        "\n",
        "test_dogs_dir = os.path.join(test_dir, 'dogs')\n",
        "os.mkdir(test_dogs_dir)"
      ],
      "execution_count": null,
      "outputs": []
    },
    {
      "cell_type": "code",
      "metadata": {
        "id": "ULRgL9s9rV8T"
      },
      "source": [
        "import shutil\n",
        "fnames = ['cat.{}.jpg'.format(i) for i in range(1000)]\n",
        "for fname in fnames:\n",
        "    src = os.path.join(original_dataset_dir, fname)\n",
        "    dst = os.path.join(train_cats_dir, fname)\n",
        "    #print(src,dst)\n",
        "    shutil.copyfile(src, dst)\n",
        "    \n",
        "fnames = ['cat.{}.jpg'.format(i) for i in range(1000, 1500)]\n",
        "for fname in fnames:\n",
        "    src = os.path.join(original_dataset_dir, fname)\n",
        "    dst = os.path.join(validation_cats_dir, fname)\n",
        "    shutil.copyfile(src, dst)\n",
        "\n",
        "fnames = ['cat.{}.jpg'.format(i) for i in range(1500, 2000)]\n",
        "for fname in fnames:\n",
        "    src = os.path.join(original_dataset_dir, fname)\n",
        "    dst = os.path.join(test_cats_dir, fname)\n",
        "    shutil.copyfile(src, dst)\n",
        "    \n",
        "fnames = ['dog.{}.jpg'.format(i) for i in range(1000)]\n",
        "for fname in fnames:\n",
        "    src = os.path.join(original_dataset_dir, fname)\n",
        "    dst = os.path.join(train_dogs_dir, fname)\n",
        "    shutil.copyfile(src, dst)\n",
        "\n",
        "fnames = ['dog.{}.jpg'.format(i) for i in range(1000, 1500)]\n",
        "for fname in fnames:\n",
        "    src = os.path.join(original_dataset_dir, fname)\n",
        "    dst = os.path.join(validation_dogs_dir, fname)\n",
        "    shutil.copyfile(src, dst)\n",
        "\n",
        "fnames = ['dog.{}.jpg'.format(i) for i in range(1500, 2000)]\n",
        "for fname in fnames:\n",
        "    src = os.path.join(original_dataset_dir, fname)\n",
        "    dst = os.path.join(test_dogs_dir, fname)\n",
        "    shutil.copyfile(src, dst)"
      ],
      "execution_count": null,
      "outputs": []
    },
    {
      "cell_type": "code",
      "metadata": {
        "id": "ul3XAbIyr7vC",
        "colab": {
          "base_uri": "https://localhost:8080/"
        },
        "outputId": "1fc0194e-7c03-49b5-c609-60c0d1a56575"
      },
      "source": [
        "print('total training cat images:', len(os.listdir(train_cats_dir)))\n",
        "print('total training dog images:', len(os.listdir(train_dogs_dir)))\n",
        "print('total validation cat images:', len(os.listdir(validation_cats_dir)))\n",
        "\n",
        "print('total validation dog images:', len(os.listdir(validation_dogs_dir)))\n",
        "print('total test cat images:', len(os.listdir(test_cats_dir)))\n",
        "print('total test dog images:', len(os.listdir(test_dogs_dir)))"
      ],
      "execution_count": null,
      "outputs": [
        {
          "output_type": "stream",
          "text": [
            "total training cat images: 1000\n",
            "total training dog images: 1000\n",
            "total validation cat images: 500\n",
            "total validation dog images: 500\n",
            "total test cat images: 500\n",
            "total test dog images: 500\n"
          ],
          "name": "stdout"
        }
      ]
    },
    {
      "cell_type": "code",
      "metadata": {
        "id": "o9yTA21_r-ma",
        "colab": {
          "base_uri": "https://localhost:8080/"
        },
        "outputId": "68393990-aac5-4a7a-9340-21755ff3ae19"
      },
      "source": [
        "from keras import layers\n",
        "from keras import models\n",
        "\n",
        "model = models.Sequential()\n",
        "model.add(layers.Conv2D(32, (3, 3), activation='relu', input_shape=(150, 150, 3)))\n",
        "model.add(layers.MaxPooling2D((2, 2)))\n",
        "model.add(layers.Conv2D(64, (3, 3), activation='relu'))\n",
        "model.add(layers.MaxPooling2D((2, 2)))\n",
        "model.add(layers.Conv2D(128, (3, 3), activation='relu'))\n",
        "model.add(layers.MaxPooling2D((2, 2)))\n",
        "model.add(layers.Conv2D(128, (3, 3), activation='relu'))\n",
        "model.add(layers.MaxPooling2D((2, 2)))\n",
        "model.add(layers.Flatten())\n",
        "model.add(layers.Dense(512, activation='relu'))\n",
        "model.add(layers.Dense(1, activation='sigmoid'))\n",
        "model.summary()"
      ],
      "execution_count": null,
      "outputs": [
        {
          "output_type": "stream",
          "text": [
            "Model: \"sequential\"\n",
            "_________________________________________________________________\n",
            "Layer (type)                 Output Shape              Param #   \n",
            "=================================================================\n",
            "conv2d (Conv2D)              (None, 148, 148, 32)      896       \n",
            "_________________________________________________________________\n",
            "max_pooling2d (MaxPooling2D) (None, 74, 74, 32)        0         \n",
            "_________________________________________________________________\n",
            "conv2d_1 (Conv2D)            (None, 72, 72, 64)        18496     \n",
            "_________________________________________________________________\n",
            "max_pooling2d_1 (MaxPooling2 (None, 36, 36, 64)        0         \n",
            "_________________________________________________________________\n",
            "conv2d_2 (Conv2D)            (None, 34, 34, 128)       73856     \n",
            "_________________________________________________________________\n",
            "max_pooling2d_2 (MaxPooling2 (None, 17, 17, 128)       0         \n",
            "_________________________________________________________________\n",
            "conv2d_3 (Conv2D)            (None, 15, 15, 128)       147584    \n",
            "_________________________________________________________________\n",
            "max_pooling2d_3 (MaxPooling2 (None, 7, 7, 128)         0         \n",
            "_________________________________________________________________\n",
            "flatten (Flatten)            (None, 6272)              0         \n",
            "_________________________________________________________________\n",
            "dense (Dense)                (None, 512)               3211776   \n",
            "_________________________________________________________________\n",
            "dense_1 (Dense)              (None, 1)                 513       \n",
            "=================================================================\n",
            "Total params: 3,453,121\n",
            "Trainable params: 3,453,121\n",
            "Non-trainable params: 0\n",
            "_________________________________________________________________\n"
          ],
          "name": "stdout"
        }
      ]
    },
    {
      "cell_type": "code",
      "metadata": {
        "id": "2mG8wekxsBVS"
      },
      "source": [
        "from keras import optimizers\n",
        "model.compile(loss='binary_crossentropy', \n",
        "              optimizer=optimizers.RMSprop(lr=1e-4),\n",
        "              metrics=['acc'])"
      ],
      "execution_count": null,
      "outputs": []
    },
    {
      "cell_type": "markdown",
      "metadata": {
        "id": "7zS4Klm8qWp6"
      },
      "source": [
        "## Using ImageDataGenerator to read images from directories\n",
        "As you know by now, data should be formatted into appropriately preprocessed floatingpoint tensors before being fed into the network. Currently, the data sits on a drive as JPEG files, so the steps for getting it into the network are roughly as follows:\n",
        "\n",
        "* Read the picture files.\n",
        "* Decode the JPEG content to RGB grids of pixels.\n",
        "* Convert these into floating-point tensors.\n",
        "* Rescale the pixel values (between 0 and 255) to the [0, 1] interval (as you know, neural networks prefer to deal with small input values).\n",
        "\n",
        "It may seem a bit daunting, but fortunately Keras has utilities to take care of these steps automatically. Keras has a module with image-processing helper tools, located at keras.preprocessing.image. In particular, it contains the class ImageDataGenerator,which lets you quickly set up Python generators that can automatically turn image files on disk into batches of preprocessed tensors."
      ]
    },
    {
      "cell_type": "code",
      "metadata": {
        "id": "XJ7XU7t9sEh6",
        "colab": {
          "base_uri": "https://localhost:8080/"
        },
        "outputId": "876ae3ce-903a-4665-e7aa-1b4ef292d7f9"
      },
      "source": [
        "from keras.preprocessing.image import ImageDataGenerator\n",
        "\n",
        "train_datagen = ImageDataGenerator(rescale=1./255)\n",
        "test_datagen = ImageDataGenerator(rescale=1./255)\n",
        "\n",
        "train_generator = train_datagen.flow_from_directory(train_dir,\n",
        "                                                    target_size=(150, 150), \n",
        "                                                    batch_size=20,\n",
        "                                                    class_mode='binary')\n",
        "\n",
        "validation_generator = test_datagen.flow_from_directory(validation_dir,\n",
        "                                                        target_size=(150, 150),\n",
        "                                                        batch_size=20,\n",
        "                                                        class_mode='binary')"
      ],
      "execution_count": null,
      "outputs": [
        {
          "output_type": "stream",
          "text": [
            "Found 2000 images belonging to 2 classes.\n",
            "Found 1000 images belonging to 2 classes.\n"
          ],
          "name": "stdout"
        }
      ]
    },
    {
      "cell_type": "markdown",
      "metadata": {
        "id": "SEgLywySqm4u"
      },
      "source": [
        "Let’s fit the model to the data using the generator. You do so using the fit_generator method, the equivalent of fit for data generators like this one. It expects as its first argument a Python generator that will yield batches of inputs and targets indefinitely,like this one does. Because the data is being generated endlessly, the Keras model needs to know how many samples to draw from the generator before declaring anepoch over. This is the role of the `steps_per_epoch` argument: after having drawn `steps_per_epoch` batches from the generator—that is, after having run for `steps_per_epoch` gradient descent steps—the fitting process will go to the next epoch. In this case, batches are 20 samples, so it will take 100 batches until you see your target of 2,000 samples.\n",
        "\n",
        "When using fit_generator, you can pass a validation_data argument, much as with the fit method. It’s important to note that this argument is allowed to be a data generator, but it could also be a tuple of Numpy arrays. If you pass a generator as validation_data, then this generator is expected to yield batches of validation data endlessly; thus you should also specify the validation_steps argument, which tells the process how many batches to draw from the validation generator for evaluation."
      ]
    },
    {
      "cell_type": "code",
      "metadata": {
        "id": "yMyfPphJsJG6",
        "colab": {
          "base_uri": "https://localhost:8080/"
        },
        "outputId": "c98fefac-0894-40b7-cd41-1824e84d4b9b"
      },
      "source": [
        "history = model.fit_generator(train_generator,\n",
        "                              steps_per_epoch=100,\n",
        "                              epochs=30,\n",
        "                              validation_data=validation_generator,\n",
        "                              validation_steps=10)"
      ],
      "execution_count": null,
      "outputs": [
        {
          "output_type": "stream",
          "text": [
            "/usr/local/lib/python3.7/dist-packages/tensorflow/python/keras/engine/training.py:1844: UserWarning: `Model.fit_generator` is deprecated and will be removed in a future version. Please use `Model.fit`, which supports generators.\n",
            "  warnings.warn('`Model.fit_generator` is deprecated and '\n"
          ],
          "name": "stderr"
        },
        {
          "output_type": "stream",
          "text": [
            "Epoch 1/30\n",
            "100/100 [==============================] - 40s 67ms/step - loss: 0.6954 - acc: 0.5268 - val_loss: 0.7090 - val_acc: 0.4850\n",
            "Epoch 2/30\n",
            "100/100 [==============================] - 6s 64ms/step - loss: 0.6655 - acc: 0.5928 - val_loss: 0.6346 - val_acc: 0.6500\n",
            "Epoch 3/30\n",
            "100/100 [==============================] - 6s 64ms/step - loss: 0.6245 - acc: 0.6529 - val_loss: 0.6291 - val_acc: 0.6200\n",
            "Epoch 4/30\n",
            "100/100 [==============================] - 6s 64ms/step - loss: 0.5915 - acc: 0.7040 - val_loss: 0.7136 - val_acc: 0.6100\n",
            "Epoch 5/30\n",
            "100/100 [==============================] - 6s 63ms/step - loss: 0.5609 - acc: 0.7103 - val_loss: 0.6175 - val_acc: 0.6500\n",
            "Epoch 6/30\n",
            "100/100 [==============================] - 6s 65ms/step - loss: 0.5225 - acc: 0.7450 - val_loss: 0.6197 - val_acc: 0.6750\n",
            "Epoch 7/30\n",
            "100/100 [==============================] - 6s 64ms/step - loss: 0.5099 - acc: 0.7374 - val_loss: 0.6082 - val_acc: 0.6650\n",
            "Epoch 8/30\n",
            "100/100 [==============================] - 6s 64ms/step - loss: 0.4774 - acc: 0.7678 - val_loss: 0.5739 - val_acc: 0.6900\n",
            "Epoch 9/30\n",
            "100/100 [==============================] - 6s 64ms/step - loss: 0.4543 - acc: 0.7742 - val_loss: 0.5511 - val_acc: 0.7250\n",
            "Epoch 10/30\n",
            "100/100 [==============================] - 6s 64ms/step - loss: 0.4320 - acc: 0.7989 - val_loss: 0.5821 - val_acc: 0.7050\n",
            "Epoch 11/30\n",
            "100/100 [==============================] - 6s 64ms/step - loss: 0.4087 - acc: 0.8117 - val_loss: 0.5174 - val_acc: 0.7850\n",
            "Epoch 12/30\n",
            "100/100 [==============================] - 6s 64ms/step - loss: 0.3872 - acc: 0.8227 - val_loss: 0.5076 - val_acc: 0.7750\n",
            "Epoch 13/30\n",
            "100/100 [==============================] - 6s 64ms/step - loss: 0.3579 - acc: 0.8464 - val_loss: 0.5864 - val_acc: 0.7050\n",
            "Epoch 14/30\n",
            "100/100 [==============================] - 7s 65ms/step - loss: 0.3297 - acc: 0.8763 - val_loss: 0.5624 - val_acc: 0.7150\n",
            "Epoch 15/30\n",
            "100/100 [==============================] - 7s 65ms/step - loss: 0.3188 - acc: 0.8719 - val_loss: 0.5041 - val_acc: 0.7700\n",
            "Epoch 16/30\n",
            "100/100 [==============================] - 6s 64ms/step - loss: 0.3062 - acc: 0.8649 - val_loss: 0.5871 - val_acc: 0.7300\n",
            "Epoch 17/30\n",
            "100/100 [==============================] - 6s 64ms/step - loss: 0.2609 - acc: 0.9026 - val_loss: 0.6194 - val_acc: 0.7150\n",
            "Epoch 18/30\n",
            "100/100 [==============================] - 6s 64ms/step - loss: 0.2586 - acc: 0.9038 - val_loss: 0.7568 - val_acc: 0.7050\n",
            "Epoch 19/30\n",
            "100/100 [==============================] - 6s 65ms/step - loss: 0.2351 - acc: 0.9053 - val_loss: 0.6067 - val_acc: 0.7450\n",
            "Epoch 20/30\n",
            "100/100 [==============================] - 6s 64ms/step - loss: 0.2238 - acc: 0.9028 - val_loss: 0.7297 - val_acc: 0.6650\n",
            "Epoch 21/30\n",
            "100/100 [==============================] - 6s 64ms/step - loss: 0.1877 - acc: 0.9268 - val_loss: 0.6168 - val_acc: 0.7400\n",
            "Epoch 22/30\n",
            "100/100 [==============================] - 6s 64ms/step - loss: 0.1880 - acc: 0.9377 - val_loss: 0.6901 - val_acc: 0.7000\n",
            "Epoch 23/30\n",
            "100/100 [==============================] - 6s 65ms/step - loss: 0.1544 - acc: 0.9417 - val_loss: 0.7388 - val_acc: 0.7100\n",
            "Epoch 24/30\n",
            "100/100 [==============================] - 6s 64ms/step - loss: 0.1529 - acc: 0.9443 - val_loss: 0.6018 - val_acc: 0.7700\n",
            "Epoch 25/30\n",
            "100/100 [==============================] - 6s 64ms/step - loss: 0.1386 - acc: 0.9574 - val_loss: 0.8157 - val_acc: 0.7300\n",
            "Epoch 26/30\n",
            "100/100 [==============================] - 6s 64ms/step - loss: 0.1216 - acc: 0.9652 - val_loss: 0.7003 - val_acc: 0.7150\n",
            "Epoch 27/30\n",
            "100/100 [==============================] - 6s 64ms/step - loss: 0.0971 - acc: 0.9716 - val_loss: 0.8253 - val_acc: 0.7300\n",
            "Epoch 28/30\n",
            "100/100 [==============================] - 6s 64ms/step - loss: 0.0878 - acc: 0.9737 - val_loss: 0.9331 - val_acc: 0.7100\n",
            "Epoch 29/30\n",
            "100/100 [==============================] - 7s 65ms/step - loss: 0.0757 - acc: 0.9834 - val_loss: 0.8117 - val_acc: 0.7150\n",
            "Epoch 30/30\n",
            "100/100 [==============================] - 6s 64ms/step - loss: 0.0639 - acc: 0.9803 - val_loss: 0.8019 - val_acc: 0.7050\n"
          ],
          "name": "stdout"
        }
      ]
    },
    {
      "cell_type": "code",
      "metadata": {
        "id": "MZaZ2HWZsNUi",
        "colab": {
          "base_uri": "https://localhost:8080/",
          "height": 545
        },
        "outputId": "80e23fc3-4b37-439b-b200-7ffc633ee39c"
      },
      "source": [
        "model.save('cats_and_dogs_small_1.h5')\n",
        "\n",
        "import matplotlib.pyplot as plt\n",
        "\n",
        "acc = history.history['acc']\n",
        "val_acc = history.history['val_acc']\n",
        "loss = history.history['loss']\n",
        "val_loss = history.history['val_loss']\n",
        "\n",
        "epochs = range(1, len(acc) + 1)\n",
        "\n",
        "plt.plot(epochs, acc, 'bo', label='Training acc')\n",
        "plt.plot(epochs, val_acc, 'b', label='Validation acc')\n",
        "plt.title('Training and validation accuracy')\n",
        "plt.legend()\n",
        "\n",
        "plt.figure()\n",
        "\n",
        "plt.plot(epochs, loss, 'bo', label='Training loss')\n",
        "plt.plot(epochs, val_loss, 'b', label='Validation loss')\n",
        "plt.title('Training and validation loss')\n",
        "plt.legend()\n",
        "\n",
        "plt.show()"
      ],
      "execution_count": null,
      "outputs": [
        {
          "output_type": "display_data",
          "data": {
            "image/png": "[encoded data removed]",
            "text/plain": [
              "<Figure size 432x288 with 1 Axes>"
            ]
          },
          "metadata": {
            "tags": [],
            "needs_background": "light"
          }
        },
        {
          "output_type": "display_data",
          "data": {
            "image/png": "[encoded data removed]",
            "text/plain": [
              "<Figure size 432x288 with 1 Axes>"
            ]
          },
          "metadata": {
            "tags": [],
            "needs_background": "light"
          }
        }
      ]
    },
    {
      "cell_type": "markdown",
      "metadata": {
        "id": "XKZmXmBcq_8-"
      },
      "source": [
        "## Convolutional Networks with Dropout\n",
        "\n",
        "![alt text](https://camo.githubusercontent.com/ee6fa1073247cd2c3d241300caf110d7a7541bc5/68747470733a2f2f63646e2d696d616765732d312e6d656469756d2e636f6d2f6d61782f3830302f312a4972644a355067684439596f4f7956415137334d4a772e676966)\n",
        "\n",
        "Ref: https://github.com/mneha4/Training-Neural-Nets---Guidelines"
      ]
    },
    {
      "cell_type": "code",
      "metadata": {
        "id": "wu3cqeYQrDeN"
      },
      "source": [
        "model = models.Sequential()\n",
        "model.add(layers.Conv2D(32, (3, 3), activation='relu',\n",
        "input_shape=(150, 150, 3)))\n",
        "model.add(layers.MaxPooling2D((2, 2)))\n",
        "model.add(layers.Conv2D(64, (3, 3), activation='relu'))\n",
        "model.add(layers.MaxPooling2D((2, 2)))\n",
        "model.add(layers.Conv2D(128, (3, 3), activation='relu'))\n",
        "model.add(layers.MaxPooling2D((2, 2)))\n",
        "model.add(layers.Conv2D(128, (3, 3), activation='relu'))\n",
        "model.add(layers.MaxPooling2D((2, 2)))\n",
        "model.add(layers.Flatten())\n",
        "model.add(layers.Dropout(0.5))\n",
        "model.add(layers.Dense(512, activation='relu'))\n",
        "model.add(layers.Dense(1, activation='sigmoid'))\n",
        "\n",
        "model.compile(loss='binary_crossentropy',\n",
        "              optimizer=optimizers.RMSprop(lr=1e-4),\n",
        "              metrics=['acc'])"
      ],
      "execution_count": null,
      "outputs": []
    },
    {
      "cell_type": "code",
      "metadata": {
        "id": "QSeLpvY0rH7F",
        "colab": {
          "base_uri": "https://localhost:8080/"
        },
        "outputId": "3fca1742-f0a0-4377-b502-adc8bbf1d7e2"
      },
      "source": [
        "\n",
        "train_datagen = ImageDataGenerator(rescale=1./255,\n",
        "                                   rotation_range=40,\n",
        "                                   width_shift_range=0.2,\n",
        "                                   height_shift_range=0.2,\n",
        "                                   shear_range=0.2,\n",
        "                                   zoom_range=0.2,\n",
        "                                   horizontal_flip=True,)\n",
        "\n",
        "test_datagen = ImageDataGenerator(rescale=1./255)\n",
        "\n",
        "train_generator = train_datagen.flow_from_directory(train_dir,\n",
        "                                                    target_size=(150, 150),\n",
        "                                                    batch_size=20,\n",
        "                                                    class_mode='binary')\n",
        "\n",
        "validation_generator = test_datagen.flow_from_directory(validation_dir,\n",
        "                                                        target_size=(150, 150),\n",
        "                                                        batch_size=20,\n",
        "                                                        class_mode='binary')\n",
        "\n",
        "history = model.fit_generator(train_generator,\n",
        "                              steps_per_epoch=100,\n",
        "                              epochs=20,\n",
        "                              validation_data=validation_generator,\n",
        "                              validation_steps=10)"
      ],
      "execution_count": null,
      "outputs": [
        {
          "output_type": "stream",
          "text": [
            "Found 2000 images belonging to 2 classes.\n",
            "Found 1000 images belonging to 2 classes.\n"
          ],
          "name": "stdout"
        },
        {
          "output_type": "stream",
          "text": [
            "/usr/local/lib/python3.7/dist-packages/tensorflow/python/keras/engine/training.py:1844: UserWarning: `Model.fit_generator` is deprecated and will be removed in a future version. Please use `Model.fit`, which supports generators.\n",
            "  warnings.warn('`Model.fit_generator` is deprecated and '\n"
          ],
          "name": "stderr"
        },
        {
          "output_type": "stream",
          "text": [
            "Epoch 1/20\n",
            "100/100 [==============================] - 16s 155ms/step - loss: 0.6681 - acc: 0.5690 - val_loss: 0.6755 - val_acc: 0.5600\n",
            "Epoch 2/20\n",
            "100/100 [==============================] - 15s 151ms/step - loss: 0.6594 - acc: 0.5900 - val_loss: 0.6204 - val_acc: 0.6450\n",
            "Epoch 3/20\n",
            "100/100 [==============================] - 15s 153ms/step - loss: 0.6435 - acc: 0.6100 - val_loss: 0.6539 - val_acc: 0.6150\n",
            "Epoch 4/20\n",
            "100/100 [==============================] - 15s 152ms/step - loss: 0.6289 - acc: 0.6295 - val_loss: 0.6042 - val_acc: 0.6750\n",
            "Epoch 5/20\n",
            "100/100 [==============================] - 15s 152ms/step - loss: 0.6178 - acc: 0.6440 - val_loss: 0.5900 - val_acc: 0.6850\n",
            "Epoch 6/20\n",
            "100/100 [==============================] - 15s 150ms/step - loss: 0.6031 - acc: 0.6815 - val_loss: 0.5992 - val_acc: 0.6450\n",
            "Epoch 7/20\n",
            "100/100 [==============================] - 15s 152ms/step - loss: 0.6104 - acc: 0.6600 - val_loss: 0.5435 - val_acc: 0.7100\n",
            "Epoch 8/20\n",
            "100/100 [==============================] - 15s 151ms/step - loss: 0.5782 - acc: 0.6995 - val_loss: 0.5951 - val_acc: 0.6650\n",
            "Epoch 9/20\n",
            "100/100 [==============================] - 15s 151ms/step - loss: 0.5932 - acc: 0.6900 - val_loss: 0.5815 - val_acc: 0.7000\n",
            "Epoch 10/20\n",
            "100/100 [==============================] - 15s 150ms/step - loss: 0.5821 - acc: 0.6845 - val_loss: 0.6508 - val_acc: 0.6450\n",
            "Epoch 11/20\n",
            "100/100 [==============================] - 15s 151ms/step - loss: 0.5777 - acc: 0.7010 - val_loss: 0.5839 - val_acc: 0.6900\n",
            "Epoch 12/20\n",
            "100/100 [==============================] - 15s 150ms/step - loss: 0.5677 - acc: 0.7050 - val_loss: 0.5549 - val_acc: 0.6600\n",
            "Epoch 13/20\n",
            "100/100 [==============================] - 15s 151ms/step - loss: 0.5693 - acc: 0.7020 - val_loss: 0.6190 - val_acc: 0.6600\n",
            "Epoch 14/20\n",
            "100/100 [==============================] - 15s 151ms/step - loss: 0.5613 - acc: 0.7060 - val_loss: 0.5409 - val_acc: 0.7450\n",
            "Epoch 15/20\n",
            "100/100 [==============================] - 15s 152ms/step - loss: 0.5502 - acc: 0.7235 - val_loss: 0.6012 - val_acc: 0.6900\n",
            "Epoch 16/20\n",
            "100/100 [==============================] - 15s 151ms/step - loss: 0.5568 - acc: 0.7005 - val_loss: 0.5177 - val_acc: 0.7200\n",
            "Epoch 17/20\n",
            "100/100 [==============================] - 15s 150ms/step - loss: 0.5478 - acc: 0.7225 - val_loss: 0.5127 - val_acc: 0.7300\n",
            "Epoch 18/20\n",
            "100/100 [==============================] - 15s 152ms/step - loss: 0.5455 - acc: 0.7130 - val_loss: 0.5304 - val_acc: 0.7300\n",
            "Epoch 19/20\n",
            "100/100 [==============================] - 15s 150ms/step - loss: 0.5409 - acc: 0.7235 - val_loss: 0.5882 - val_acc: 0.7200\n",
            "Epoch 20/20\n",
            "100/100 [==============================] - 15s 151ms/step - loss: 0.5379 - acc: 0.7315 - val_loss: 0.5366 - val_acc: 0.7350\n"
          ],
          "name": "stdout"
        }
      ]
    },
    {
      "cell_type": "markdown",
      "metadata": {
        "id": "BRdU5yrkUF_b"
      },
      "source": [
        "# Task 2:\n",
        "\n",
        "We have used Dropout to enhance the performance of the CNN model. Can you please use whatever you like to further enhance the performance from `val_acc: 0.7506`? "
      ]
    },
    {
      "cell_type": "code",
      "metadata": {
        "id": "75MRrhvB-z_8"
      },
      "source": [
        "model = models.Sequential()\n",
        "model.add(layers.Conv2D(32, (3, 3), activation='relu',\n",
        "input_shape=(150, 150, 3)))\n",
        "model.add(layers.MaxPooling2D((2, 2)))\n",
        "model.add(layers.Conv2D(64, (3, 3), activation='relu'))\n",
        "model.add(layers.MaxPooling2D((2, 2)))\n",
        "model.add(layers.Conv2D(128, (3, 3), activation='relu'))\n",
        "model.add(layers.MaxPooling2D((2, 2)))\n",
        "model.add(layers.Conv2D(128, (3, 3), activation='relu'))\n",
        "model.add(layers.MaxPooling2D((2, 2)))\n",
        "model.add(layers.Flatten())\n",
        "model.add(layers.Dropout(0.3))\n",
        "model.add(layers.Dense(512, activation='relu'))\n",
        "model.add(layers.Dense(1, activation='sigmoid'))\n",
        "\n",
        "model.compile(loss='binary_crossentropy',\n",
        "              optimizer=optimizers.Adamax(lr=1e-3),\n",
        "              metrics=['acc'])"
      ],
      "execution_count": null,
      "outputs": []
    },
    {
      "cell_type": "code",
      "metadata": {
        "id": "mrw9xXvd-07n",
        "colab": {
          "base_uri": "https://localhost:8080/"
        },
        "outputId": "dbb4c217-cc65-4433-ddb0-3a4124d7217d"
      },
      "source": [
        "\n",
        "train_datagen = ImageDataGenerator(rescale=1./255,\n",
        "                                   rotation_range=40,\n",
        "                                   width_shift_range=0.2,\n",
        "                                   height_shift_range=0.2,\n",
        "                                   shear_range=0.2,\n",
        "                                   zoom_range=0.2,\n",
        "                                   horizontal_flip=True,)\n",
        "\n",
        "test_datagen = ImageDataGenerator(rescale=1./255)\n",
        "\n",
        "train_generator = train_datagen.flow_from_directory(train_dir,\n",
        "                                                    target_size=(150, 150),\n",
        "                                                    batch_size=20,\n",
        "                                                    class_mode='binary')\n",
        "\n",
        "validation_generator = test_datagen.flow_from_directory(validation_dir,\n",
        "                                                        target_size=(150, 150),\n",
        "                                                        batch_size=20,\n",
        "                                                        class_mode='binary')\n",
        "\n",
        "history = model.fit_generator(train_generator,\n",
        "                              steps_per_epoch=100,\n",
        "                              epochs=50,\n",
        "                              validation_data=validation_generator,\n",
        "                              validation_steps=10)"
      ],
      "execution_count": null,
      "outputs": [
        {
          "output_type": "stream",
          "text": [
            "Found 2000 images belonging to 2 classes.\n",
            "Found 1000 images belonging to 2 classes.\n"
          ],
          "name": "stdout"
        },
        {
          "output_type": "stream",
          "text": [
            "/usr/local/lib/python3.7/dist-packages/tensorflow/python/keras/engine/training.py:1844: UserWarning: `Model.fit_generator` is deprecated and will be removed in a future version. Please use `Model.fit`, which supports generators.\n",
            "  warnings.warn('`Model.fit_generator` is deprecated and '\n"
          ],
          "name": "stderr"
        },
        {
          "output_type": "stream",
          "text": [
            "Epoch 1/50\n",
            "100/100 [==============================] - 16s 154ms/step - loss: 0.7106 - acc: 0.4784 - val_loss: 0.6864 - val_acc: 0.5300\n",
            "Epoch 2/50\n",
            "100/100 [==============================] - 15s 151ms/step - loss: 0.6914 - acc: 0.5154 - val_loss: 0.6790 - val_acc: 0.5650\n",
            "Epoch 3/50\n",
            "100/100 [==============================] - 15s 151ms/step - loss: 0.6819 - acc: 0.5526 - val_loss: 0.6709 - val_acc: 0.5850\n",
            "Epoch 4/50\n",
            "100/100 [==============================] - 15s 151ms/step - loss: 0.6580 - acc: 0.6025 - val_loss: 0.6178 - val_acc: 0.7000\n",
            "Epoch 5/50\n",
            "100/100 [==============================] - 15s 152ms/step - loss: 0.6362 - acc: 0.6302 - val_loss: 0.6259 - val_acc: 0.6850\n",
            "Epoch 6/50\n",
            "100/100 [==============================] - 15s 151ms/step - loss: 0.6299 - acc: 0.6417 - val_loss: 0.6017 - val_acc: 0.6350\n",
            "Epoch 7/50\n",
            "100/100 [==============================] - 15s 151ms/step - loss: 0.6275 - acc: 0.6484 - val_loss: 0.6660 - val_acc: 0.5800\n",
            "Epoch 8/50\n",
            "100/100 [==============================] - 15s 150ms/step - loss: 0.6150 - acc: 0.6581 - val_loss: 0.5643 - val_acc: 0.6850\n",
            "Epoch 9/50\n",
            "100/100 [==============================] - 15s 151ms/step - loss: 0.5795 - acc: 0.6870 - val_loss: 0.6196 - val_acc: 0.6400\n",
            "Epoch 10/50\n",
            "100/100 [==============================] - 15s 151ms/step - loss: 0.5956 - acc: 0.6861 - val_loss: 0.6055 - val_acc: 0.6800\n",
            "Epoch 11/50\n",
            "100/100 [==============================] - 16s 164ms/step - loss: 0.5747 - acc: 0.6964 - val_loss: 0.5871 - val_acc: 0.6800\n",
            "Epoch 12/50\n",
            "100/100 [==============================] - 15s 152ms/step - loss: 0.5760 - acc: 0.7014 - val_loss: 0.5579 - val_acc: 0.6900\n",
            "Epoch 13/50\n",
            "100/100 [==============================] - 15s 150ms/step - loss: 0.5553 - acc: 0.7290 - val_loss: 0.5177 - val_acc: 0.7300\n",
            "Epoch 14/50\n",
            "100/100 [==============================] - 15s 150ms/step - loss: 0.5408 - acc: 0.7268 - val_loss: 0.5172 - val_acc: 0.7450\n",
            "Epoch 15/50\n",
            "100/100 [==============================] - 15s 151ms/step - loss: 0.5556 - acc: 0.7192 - val_loss: 0.6341 - val_acc: 0.7100\n",
            "Epoch 16/50\n",
            "100/100 [==============================] - 15s 150ms/step - loss: 0.5493 - acc: 0.7264 - val_loss: 0.5595 - val_acc: 0.6850\n",
            "Epoch 17/50\n",
            "100/100 [==============================] - 15s 151ms/step - loss: 0.5031 - acc: 0.7458 - val_loss: 0.5387 - val_acc: 0.7400\n",
            "Epoch 18/50\n",
            "100/100 [==============================] - 15s 150ms/step - loss: 0.5391 - acc: 0.7170 - val_loss: 0.5083 - val_acc: 0.7550\n",
            "Epoch 19/50\n",
            "100/100 [==============================] - 15s 150ms/step - loss: 0.5148 - acc: 0.7561 - val_loss: 0.6040 - val_acc: 0.7050\n",
            "Epoch 20/50\n",
            "100/100 [==============================] - 15s 151ms/step - loss: 0.5140 - acc: 0.7574 - val_loss: 0.4790 - val_acc: 0.7800\n",
            "Epoch 21/50\n",
            "100/100 [==============================] - 15s 150ms/step - loss: 0.5060 - acc: 0.7422 - val_loss: 0.4963 - val_acc: 0.7350\n",
            "Epoch 22/50\n",
            "100/100 [==============================] - 15s 151ms/step - loss: 0.5035 - acc: 0.7560 - val_loss: 0.4335 - val_acc: 0.7800\n",
            "Epoch 23/50\n",
            "100/100 [==============================] - 15s 150ms/step - loss: 0.5097 - acc: 0.7418 - val_loss: 0.5172 - val_acc: 0.7350\n",
            "Epoch 24/50\n",
            "100/100 [==============================] - 15s 149ms/step - loss: 0.5183 - acc: 0.7449 - val_loss: 0.4126 - val_acc: 0.7800\n",
            "Epoch 25/50\n",
            "100/100 [==============================] - 15s 152ms/step - loss: 0.5034 - acc: 0.7506 - val_loss: 0.5033 - val_acc: 0.7500\n",
            "Epoch 26/50\n",
            "100/100 [==============================] - 15s 150ms/step - loss: 0.4829 - acc: 0.7768 - val_loss: 0.5164 - val_acc: 0.7100\n",
            "Epoch 27/50\n",
            "100/100 [==============================] - 15s 150ms/step - loss: 0.5208 - acc: 0.7335 - val_loss: 0.5495 - val_acc: 0.7000\n",
            "Epoch 28/50\n",
            "100/100 [==============================] - 15s 150ms/step - loss: 0.5020 - acc: 0.7511 - val_loss: 0.5739 - val_acc: 0.7000\n",
            "Epoch 29/50\n",
            "100/100 [==============================] - 15s 151ms/step - loss: 0.4959 - acc: 0.7635 - val_loss: 0.5370 - val_acc: 0.7150\n",
            "Epoch 30/50\n",
            "100/100 [==============================] - 15s 149ms/step - loss: 0.4747 - acc: 0.7891 - val_loss: 0.3910 - val_acc: 0.8300\n",
            "Epoch 31/50\n",
            "100/100 [==============================] - 15s 151ms/step - loss: 0.4807 - acc: 0.7624 - val_loss: 0.4418 - val_acc: 0.7750\n",
            "Epoch 32/50\n",
            "100/100 [==============================] - 15s 149ms/step - loss: 0.4570 - acc: 0.7812 - val_loss: 0.5281 - val_acc: 0.7150\n",
            "Epoch 33/50\n",
            "100/100 [==============================] - 15s 150ms/step - loss: 0.4678 - acc: 0.7823 - val_loss: 0.4592 - val_acc: 0.7800\n",
            "Epoch 34/50\n",
            "100/100 [==============================] - 15s 150ms/step - loss: 0.4458 - acc: 0.7903 - val_loss: 0.4486 - val_acc: 0.7900\n",
            "Epoch 35/50\n",
            "100/100 [==============================] - 15s 150ms/step - loss: 0.4684 - acc: 0.7725 - val_loss: 0.4431 - val_acc: 0.7550\n",
            "Epoch 36/50\n",
            "100/100 [==============================] - 15s 151ms/step - loss: 0.4340 - acc: 0.7850 - val_loss: 0.4696 - val_acc: 0.7650\n",
            "Epoch 37/50\n",
            "100/100 [==============================] - 15s 150ms/step - loss: 0.4392 - acc: 0.8071 - val_loss: 0.4658 - val_acc: 0.8050\n",
            "Epoch 38/50\n",
            "100/100 [==============================] - 15s 152ms/step - loss: 0.4540 - acc: 0.7783 - val_loss: 0.4590 - val_acc: 0.7800\n",
            "Epoch 39/50\n",
            "100/100 [==============================] - 15s 150ms/step - loss: 0.4405 - acc: 0.8023 - val_loss: 0.4394 - val_acc: 0.8250\n",
            "Epoch 40/50\n",
            "100/100 [==============================] - 15s 151ms/step - loss: 0.4433 - acc: 0.7684 - val_loss: 0.4675 - val_acc: 0.7500\n",
            "Epoch 41/50\n",
            "100/100 [==============================] - 15s 150ms/step - loss: 0.4263 - acc: 0.7997 - val_loss: 0.4960 - val_acc: 0.7800\n",
            "Epoch 42/50\n",
            "100/100 [==============================] - 15s 152ms/step - loss: 0.4633 - acc: 0.7745 - val_loss: 0.4729 - val_acc: 0.7450\n",
            "Epoch 43/50\n",
            "100/100 [==============================] - 15s 149ms/step - loss: 0.4179 - acc: 0.8079 - val_loss: 0.4642 - val_acc: 0.7600\n",
            "Epoch 44/50\n",
            "100/100 [==============================] - 15s 150ms/step - loss: 0.3917 - acc: 0.8236 - val_loss: 0.4538 - val_acc: 0.7850\n",
            "Epoch 45/50\n",
            "100/100 [==============================] - 15s 150ms/step - loss: 0.4400 - acc: 0.7918 - val_loss: 0.3940 - val_acc: 0.8150\n",
            "Epoch 46/50\n",
            "100/100 [==============================] - 15s 150ms/step - loss: 0.3880 - acc: 0.8277 - val_loss: 0.5141 - val_acc: 0.7600\n",
            "Epoch 47/50\n",
            "100/100 [==============================] - 15s 151ms/step - loss: 0.4051 - acc: 0.8216 - val_loss: 0.3732 - val_acc: 0.8350\n",
            "Epoch 48/50\n",
            "100/100 [==============================] - 15s 150ms/step - loss: 0.4163 - acc: 0.8084 - val_loss: 0.4297 - val_acc: 0.8050\n",
            "Epoch 49/50\n",
            "100/100 [==============================] - 15s 150ms/step - loss: 0.3999 - acc: 0.8243 - val_loss: 0.4451 - val_acc: 0.7900\n",
            "Epoch 50/50\n",
            "100/100 [==============================] - 15s 149ms/step - loss: 0.3963 - acc: 0.8185 - val_loss: 0.3970 - val_acc: 0.8200\n"
          ],
          "name": "stdout"
        }
      ]
    },
    {
      "cell_type": "markdown",
      "metadata": {
        "id": "Jow8sPkWWFL-"
      },
      "source": [
        "An accuracy of 83.5% was obtained on the validation test after fitting using the optimizer 'Adamax' and learning rate of 1e-3."
      ]
    },
    {
      "cell_type": "code",
      "metadata": {
        "id": "SLLVvEZS_Bwm"
      },
      "source": [
        ""
      ],
      "execution_count": null,
      "outputs": []
    }
  ]
}